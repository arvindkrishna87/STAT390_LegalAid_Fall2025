{
 "cells": [
  {
   "cell_type": "markdown",
   "id": "60a3e6d6-3b69-4490-9903-6c1a2abc58a8",
   "metadata": {},
   "source": [
    "Author: Krish"
   ]
  },
  {
   "cell_type": "code",
   "execution_count": 1,
   "id": "029ea083-9c61-4b40-acd7-097a661bec07",
   "metadata": {},
   "outputs": [],
   "source": [
    "# Libraries\n",
    "import pandas as pd\n",
    "import matplotlib.pyplot as plt\n",
    "import seaborn as sns\n",
    "from pandas.api.types import CategoricalDtype\n",
    "from pathlib import Path\n",
    "from functools import reduce"
   ]
  },
  {
   "cell_type": "markdown",
   "id": "809893e2-d2f0-4012-92e1-9aff90d70a13",
   "metadata": {},
   "source": [
    "### User input required\n",
    "Put the data path on your system in the cell below"
   ]
  },
  {
   "cell_type": "code",
   "execution_count": 2,
   "id": "84bc8d91-ae1f-453a-a7e8-22fb11c15a3e",
   "metadata": {},
   "outputs": [],
   "source": [
    "# Enter data path\n",
    "data_path = \"C:\\\\Users\\\\akl0407\\\\OneDrive - Northwestern University\\\\Back up\\\\2025-26\\\\Spring 2025\\\\STAT390\\\\LegalAid\\\\Data\\\\All Calls by Month\\\\\""
   ]
  },
  {
   "cell_type": "markdown",
   "id": "36936e65-d96e-418e-8039-73ddbd912435",
   "metadata": {},
   "source": [
    "### User input ends"
   ]
  },
  {
   "cell_type": "markdown",
   "id": "4a6a9b1a-84db-4635-a84b-42b226727581",
   "metadata": {},
   "source": [
    "### Reading all filenames in the data folder"
   ]
  },
  {
   "cell_type": "code",
   "execution_count": 3,
   "id": "97708887-a070-4c38-9192-b1951a7deffa",
   "metadata": {},
   "outputs": [],
   "source": [
    "folder = Path(data_path)\n",
    "files = sorted(list(folder.glob(\"*.csv\")) + list(folder.glob(\"*.xlsx\")))"
   ]
  },
  {
   "cell_type": "markdown",
   "id": "80e5ab88-1bb8-4ff5-9236-997c6ec9a5ed",
   "metadata": {},
   "source": [
    "### Reading first 5 rows of all data files\n",
    "The code chunk below reads the first 5 rows of all data files. This is to check the columns that are present in all the data files."
   ]
  },
  {
   "cell_type": "code",
   "execution_count": 5,
   "id": "ba42ed65-1b39-43aa-a105-dbdef528eda2",
   "metadata": {},
   "outputs": [
    {
     "name": "stdout",
     "output_type": "stream",
     "text": [
      "0 April 2024 (5, 63)\n",
      "1 April 2025 (5, 63)\n",
      "2 August 2024 (5, 57)\n",
      "3 August 2025 (5, 63)\n",
      "4 December 2024 (5, 55)\n",
      "5 February 2025 (5, 63)\n",
      "6 January 2025 (5, 64)\n",
      "7 July 2024 (5, 55)\n",
      "8 July 2025 (5, 63)\n",
      "9 June 2024 (5, 63)\n",
      "10 June 2025 (5, 63)\n",
      "11 March 2025 (5, 65)\n",
      "12 May 2024 (5, 63)\n",
      "13 May 2025 (5, 63)\n",
      "14 November 2024 (5, 63)\n",
      "15 October 2024 (5, 55)\n",
      "16 September 2024 (5, 55)\n"
     ]
    }
   ],
   "source": [
    "i=0; df = []\n",
    "for f in files:\n",
    "    if f.suffix.lower() == \".csv\":\n",
    "        df.append(pd.read_csv(f, header=0, dtype=str, engine=\"python\", skip_blank_lines=False, nrows = 5))\n",
    "    else:  # .xlsx\n",
    "        df.append(pd.read_excel(f, sheet_name=0, header=0, dtype=str, nrows = 5))\n",
    "    #df_main = pd.concat([df_main, df], ignore_index=True)\n",
    "    print(i, f.stem, df[i].shape)\n",
    "    i = i + 1"
   ]
  },
  {
   "cell_type": "markdown",
   "id": "37b406ce-c71a-42a0-a84d-b24756a403c4",
   "metadata": {},
   "source": [
    "The code chunk below identifies the columns missing in at least one DataFrame."
   ]
  },
  {
   "cell_type": "code",
   "execution_count": 6,
   "id": "a2761289-be06-416a-921e-29942fe9e447",
   "metadata": {},
   "outputs": [
    {
     "name": "stdout",
     "output_type": "stream",
     "text": [
      "Columns missing from at least one dataframe: {'Public Called IP Address', 'External caller ID number', 'User', 'Call Recording Platform Name', 'Public Calling IP Address', 'Original reason2', 'Device owner UUID', 'Call Recording Trigger', 'Call Recording Result', 'PSTN vendor name2', 'Redirecting party UUID', 'Column1'}\n"
     ]
    }
   ],
   "source": [
    "all_cols = reduce(lambda x, y: x | set(y.columns), df[1:], set(df[0].columns))\n",
    "common_cols = reduce(lambda x, y: x & set(y.columns), df[1:], set(df[0].columns))\n",
    "common_cols\n",
    "not_in_all = all_cols - common_cols\n",
    "print(\"Columns missing from at least one dataframe:\", not_in_all)"
   ]
  },
  {
   "cell_type": "markdown",
   "id": "9fb121e0-fd65-42a1-ba1c-23c933465d0c",
   "metadata": {},
   "source": [
    "The code chunk below prints the columns present in all the data files."
   ]
  },
  {
   "cell_type": "code",
   "execution_count": 7,
   "id": "42a877f2-4ed4-4752-b07c-2902b4c960e6",
   "metadata": {},
   "outputs": [
    {
     "name": "stdout",
     "output_type": "stream",
     "text": [
      "{'Device Mac', 'Route group', 'PSTN legal entity', 'Call outcome', 'OS type', 'Correlation ID', 'Call type', 'Call outcome reason', 'Network call ID', 'Redirect reason', 'Local SessionID', 'Direction', 'Related call ID', 'Transfer related call ID', 'Report time', 'Site timezone', 'Redirecting number', 'Call ID', 'Duration', 'Called number', 'Original reason', 'Remote SessionID', 'Start time', 'Releasing party', 'Client version', 'PSTN provider ID', 'Authorization code', 'Site UUID', 'Answer Indicator', 'Site main number', 'Call transfer time', 'Sub client type', 'Answer time', 'Department ID', 'Local call ID', 'Remote call ID', 'Location', 'Org UUID', 'Release time', 'Ring duration', 'Related reason', 'User number', 'Final local sessionID', 'User type', 'Outbound trunk', 'Client type', 'International Country', 'PSTN vendor name', 'Answered', 'PSTN vendor Org ID', 'Inbound trunk', 'Final remote sessionID', 'Report ID', 'Model', 'User UUID'}\n"
     ]
    }
   ],
   "source": [
    "print(common_cols)"
   ]
  },
  {
   "cell_type": "markdown",
   "id": "1786e240-5a8e-4d4d-a5de-c6e671bf7599",
   "metadata": {},
   "source": [
    "### Reading all the data files\n",
    "All the datafiles are read with the common columns read first."
   ]
  },
  {
   "cell_type": "code",
   "execution_count": 8,
   "id": "c485907b-d77e-4ac8-b8a0-d2cde7276450",
   "metadata": {},
   "outputs": [],
   "source": [
    "df_main = pd.DataFrame(columns=list(common_cols))"
   ]
  },
  {
   "cell_type": "code",
   "execution_count": 9,
   "id": "6945c983-8a77-4a57-a9b1-0ba7162d1c14",
   "metadata": {},
   "outputs": [
    {
     "name": "stdout",
     "output_type": "stream",
     "text": [
      "0 April 2024 (56662, 63)\n",
      "1 April 2025 (63636, 63)\n",
      "2 August 2024 (63262, 57)\n",
      "3 August 2025 (57071, 63)\n",
      "4 December 2024 (49445, 55)\n",
      "5 February 2025 (63669, 63)\n",
      "6 January 2025 (62623, 64)\n",
      "7 July 2024 (62292, 55)\n",
      "8 July 2025 (60438, 63)\n",
      "9 June 2024 (56763, 63)\n",
      "10 June 2025 (54598, 63)\n",
      "11 March 2025 (59149, 65)\n",
      "12 May 2024 (62944, 63)\n",
      "13 May 2025 (55428, 63)\n",
      "14 November 2024 (49953, 63)\n",
      "15 October 2024 (62354, 55)\n",
      "16 September 2024 (61250, 55)\n"
     ]
    }
   ],
   "source": [
    "i=0; \n",
    "for f in files:\n",
    "    if f.suffix.lower() == \".csv\":\n",
    "        df = pd.read_csv(f, header=0, dtype=str, engine=\"python\", skip_blank_lines=False)\n",
    "    else:  # .xlsx\n",
    "        df = pd.read_excel(f, sheet_name=0, header=0, dtype=str)\n",
    "    df_main = pd.concat([df_main, df], ignore_index=True)\n",
    "    print(i, f.stem, df.shape)\n",
    "    i = i + 1"
   ]
  },
  {
   "cell_type": "markdown",
   "id": "4ab844b2-cf63-4c72-a1c4-e1fe1e30c643",
   "metadata": {},
   "source": [
    "### Converting date to datetime format"
   ]
  },
  {
   "cell_type": "code",
   "execution_count": 10,
   "id": "292205fb-3d06-49ef-a491-8b2e43810ba5",
   "metadata": {},
   "outputs": [],
   "source": [
    "df_main[\"Start time\"] = pd.to_datetime(df_main[\"Start time\"], utc=True)"
   ]
  },
  {
   "cell_type": "code",
   "execution_count": 11,
   "id": "5bee3103-52d2-41d7-bd0f-75e3cf788112",
   "metadata": {},
   "outputs": [
    {
     "data": {
      "text/plain": [
       "(1001537, 67)"
      ]
     },
     "execution_count": 11,
     "metadata": {},
     "output_type": "execute_result"
    }
   ],
   "source": [
    "df_main.shape"
   ]
  },
  {
   "cell_type": "code",
   "execution_count": 12,
   "id": "a614abfa-2fab-44b8-9be6-8be56912be11",
   "metadata": {},
   "outputs": [
    {
     "data": {
      "text/plain": [
       "'C:\\\\Users\\\\akl0407\\\\Desktop\\\\Academia\\\\GitHub\\\\STAT390_LegalAid_Fall2025\\\\Internal work of Teams\\\\Krish'"
      ]
     },
     "execution_count": 12,
     "metadata": {},
     "output_type": "execute_result"
    }
   ],
   "source": [
    "pwd"
   ]
  },
  {
   "cell_type": "code",
   "execution_count": 14,
   "id": "cefeebce-50de-4666-8609-1c74cd14c10c",
   "metadata": {},
   "outputs": [],
   "source": [
    "df_main.to_csv('C:/Users/akl0407/OneDrive - Northwestern University/Back up/2025-26/Fall 2025/LegalAid/AllCallsData.csv',\n",
    "              index = False)"
   ]
  }
 ],
 "metadata": {
  "kernelspec": {
   "display_name": "Python [conda env:base] *",
   "language": "python",
   "name": "conda-base-py"
  },
  "language_info": {
   "codemirror_mode": {
    "name": "ipython",
    "version": 3
   },
   "file_extension": ".py",
   "mimetype": "text/x-python",
   "name": "python",
   "nbconvert_exporter": "python",
   "pygments_lexer": "ipython3",
   "version": "3.12.7"
  }
 },
 "nbformat": 4,
 "nbformat_minor": 5
}
