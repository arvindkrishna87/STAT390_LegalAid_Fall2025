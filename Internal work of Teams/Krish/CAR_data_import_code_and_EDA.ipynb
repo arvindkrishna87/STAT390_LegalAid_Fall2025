{
 "cells": [
  {
   "cell_type": "markdown",
   "metadata": {},
   "source": [
    "Author: Krish"
   ]
  },
  {
   "cell_type": "code",
   "execution_count": 1,
   "metadata": {},
   "outputs": [],
   "source": [
    "# Importing relevant libraries\n",
    "import pandas as pd\n",
    "import matplotlib.pyplot as plt\n",
    "import seaborn as sns\n",
    "from pathlib import Path\n",
    "from datetime import datetime\n",
    "\n",
    "import warnings\n",
    "warnings.filterwarnings(\"ignore\")"
   ]
  },
  {
   "cell_type": "code",
   "execution_count": 2,
   "metadata": {},
   "outputs": [],
   "source": [
    "data_path = \"C:\\\\Users\\\\akl0407\\\\OneDrive - Northwestern University\\\\Back up\\\\2025-26\\\\Spring 2025\\\\STAT390\\\\LegalAid\\\\Data\\\\CAR_-_EP_Flow_Activity_Queue__Agent_Names\\\\\""
   ]
  },
  {
   "cell_type": "code",
   "execution_count": 3,
   "metadata": {},
   "outputs": [
    {
     "data": {
      "text/html": [
       "<div>\n",
       "<style scoped>\n",
       "    .dataframe tbody tr th:only-of-type {\n",
       "        vertical-align: middle;\n",
       "    }\n",
       "\n",
       "    .dataframe tbody tr th {\n",
       "        vertical-align: top;\n",
       "    }\n",
       "\n",
       "    .dataframe thead th {\n",
       "        text-align: right;\n",
       "    }\n",
       "</style>\n",
       "<table border=\"1\" class=\"dataframe\">\n",
       "  <thead>\n",
       "    <tr style=\"text-align: right;\">\n",
       "      <th></th>\n",
       "      <th>Contact Session ID</th>\n",
       "      <th>EP Name</th>\n",
       "      <th>Flow Name</th>\n",
       "      <th>Activity Name</th>\n",
       "      <th>Activity Start Timestamp</th>\n",
       "      <th>Queue Name</th>\n",
       "      <th>Agent Name</th>\n",
       "      <th>Termination Reason</th>\n",
       "    </tr>\n",
       "  </thead>\n",
       "  <tbody>\n",
       "  </tbody>\n",
       "</table>\n",
       "</div>"
      ],
      "text/plain": [
       "Empty DataFrame\n",
       "Columns: [Contact Session ID, EP Name, Flow Name, Activity Name, Activity Start Timestamp, Queue Name, Agent Name, Termination Reason]\n",
       "Index: []"
      ]
     },
     "execution_count": 3,
     "metadata": {},
     "output_type": "execute_result"
    }
   ],
   "source": [
    "folder = Path(data_path)\n",
    "files = sorted(list(folder.glob(\"*.csv\")) + list(folder.glob(\"*.xlsx\")))\n",
    "df_main = pd.DataFrame(columns=['Contact Session ID', 'EP Name', 'Flow Name', 'Activity Name', 'Activity Start Timestamp', \n",
    "                                'Queue Name', 'Agent Name', 'Termination Reason'])\n",
    "df_main"
   ]
  },
  {
   "cell_type": "code",
   "execution_count": 4,
   "metadata": {},
   "outputs": [
    {
     "name": "stdout",
     "output_type": "stream",
     "text": [
      "1 CAR - EP, Flow, Activity, Queue, & Agent Names (01-12-25 - 01-18-25) (52010, 7)\n",
      "2 CAR - EP, Flow, Activity, Queue, & Agent Names (01-19-25 - 02-01-25) (95495, 7)\n",
      "3 CAR - EP, Flow, Activity, Queue, & Agent Names (02-02-25 - 02-15-25) (90056, 7)\n",
      "4 CAR - EP, Flow, Activity, Queue, & Agent Names (02-16-25 - 03-01-25) (88186, 7)\n",
      "5 CAR - EP, Flow, Activity, Queue, & Agent Names (03-02-25 - 03-15-25) (86377, 7)\n",
      "6 CAR - EP, Flow, Activity, Queue, & Agent Names (04-07-24 - 04-20-24) (88766, 7)\n",
      "7 CAR - EP, Flow, Activity, Queue, & Agent Names (04-21-24 - 05-04-24) (89643, 7)\n",
      "8 CAR - EP, Flow, Activity, Queue, & Agent Names (05-05-24 - 05-18-24) (82575, 7)\n",
      "9 CAR - EP, Flow, Activity, Queue, & Agent Names (05-19-24 - 06-01-24) (71103, 7)\n",
      "10 CAR - EP, Flow, Activity, Queue, & Agent Names (06-02-24 - 06-15-24) (84354, 7)\n",
      "11 CAR - EP, Flow, Activity, Queue, & Agent Names (06-16-24 - 06-29-24) (82124, 7)\n",
      "12 CAR - EP, Flow, Activity, Queue, & Agent Names (06-30-24 - 07-13-24) (79752, 7)\n",
      "13 CAR - EP, Flow, Activity, Queue, & Agent Names (07-14-24 - 07-27-24) (85110, 7)\n",
      "14 CAR - EP, Flow, Activity, Queue, & Agent Names (07-28-24 - 08-10-24) (84627, 7)\n",
      "15 CAR - EP, Flow, Activity, Queue, & Agent Names (08-11-24 - 08-24-24) (91622, 7)\n",
      "16 CAR - EP, Flow, Activity, Queue, & Agent Names (08-24-24 - 09-07-24) (90040, 7)\n",
      "17 CAR - EP, Flow, Activity, Queue, & Agent Names (09-08-24 - 09-21-24) (96581, 7)\n",
      "18 CAR - EP, Flow, Activity, Queue, & Agent Names (09-22-24 - 10-05-24) (89446, 7)\n",
      "19 CAR - EP, Flow, Activity, Queue, & Agent Names (10-06-24 - 10-19-24) (81700, 7)\n",
      "20 CAR - EP, Flow, Activity, Queue, & Agent Names (10-20-24 - 11-02-24) (88430, 7)\n",
      "21 CAR - EP, Flow, Activity, Queue, & Agent Names (11-03-24 - 11-16-24) (81614, 7)\n",
      "22 CAR - EP, Flow, Activity, Queue, & Agent Names (11-17-24 - 11-30-24) (66216, 7)\n",
      "23 CAR - EP, Flow, Activity, Queue, & Agent Names (12-01-24 - 12-14-24) (92220, 7)\n",
      "24 CAR - EP, Flow, Activity, Queue, & Agent Names (12-15-24 - 12-28-24) (62143, 7)\n",
      "25 CAR - EP, Flow, Activity, Queue, & Agent Names (12-29-24 - 01-11-25) (75356, 7)\n",
      "26 CAR - EP, Flow, Activity, Queue, &amp; Agent Names 3-16 to 3-22-25 (45326, 8)\n",
      "27 CAR - EP, Flow, Activity, Queue, &amp; Agent Names 3-30 to 4-5-25 (45072, 8)\n",
      "28 CAR - EP, Flow, Activity, Queue, &amp; Agent Names 4-13 to 4-19-25 (41088, 8)\n",
      "29 CAR - EP, Flow, Activity, Queue, &amp; Agent Names 4-20 to 4-26-25 (46686, 8)\n",
      "30 CAR - EP, Flow, Activity, Queue, &amp; Agent Names 4-27 to 5-3-25 (44169, 8)\n",
      "31 CAR - EP, Flow, Activity, Queue, &amp; Agent Names 4-6 to 4-12-25 (46630, 8)\n",
      "32 CAR - EP, Flow, Activity, Queue, &amp; Agent Names 5-11 to 5-17-25 (43268, 8)\n",
      "33 CAR - EP, Flow, Activity, Queue, &amp; Agent Names 5-18 to 5-24-25 (45104, 8)\n",
      "34 CAR - EP, Flow, Activity, Queue, &amp; Agent Names 5-25 to 5-31-25 (36851, 8)\n",
      "35 CAR - EP, Flow, Activity, Queue, &amp; Agent Names 5-4 to 5-10-25 (43955, 8)\n",
      "36 CAR - EP, Flow, Activity, Queue, &amp; Agent Names 6-1 to 6-7-25 (44523, 8)\n",
      "37 CAR - EP, Flow, Activity, Queue, &amp; Agent Names 6-15 to 6-21-25 (37234, 8)\n",
      "38 CAR - EP, Flow, Activity, Queue, &amp; Agent Names 6-22 to 6-28-25 (45394, 8)\n",
      "39 CAR - EP, Flow, Activity, Queue, &amp; Agent Names 6-29 to 7-5-25 (38300, 8)\n",
      "40 CAR - EP, Flow, Activity, Queue, &amp; Agent Names 6-8 to 6-14-25 (46728, 8)\n",
      "41 CAR - EP, Flow, Activity, Queue, &amp; Agent Names 7-13 to 7-19-25 (45706, 8)\n",
      "42 CAR - EP, Flow, Activity, Queue, &amp; Agent Names 7-20 to 7-26-25 (45328, 8)\n",
      "43 CAR - EP, Flow, Activity, Queue, &amp; Agent Names 7-28 ro 8-2-25 (46237, 8)\n",
      "44 CAR - EP, Flow, Activity, Queue, &amp; Agent Names 7-6 to 7-12-25 (48707, 8)\n",
      "45 CAR - EP, Flow, Activity, Queue, &amp; Agent Names 8-10 to 8-16-25 (44095, 8)\n",
      "46 CAR - EP, Flow, Activity, Queue, &amp; Agent Names 8-17 to 8-23-25 (47062, 8)\n",
      "47 CAR - EP, Flow, Activity, Queue, &amp; Agent Names 8-24 to 8-30-25 (45113, 8)\n",
      "48 CAR - EP, Flow, Activity, Queue, &amp; Agent Names 8-3 to 8-9-25 (44706, 8)\n",
      "49 CAR - EP, Flow, Activity, Queue, &amp; Agent Names 8-31 to 9-6-25 (36177, 8)\n",
      "50 CAR - EP, Flow, Activity, Queue, &amp; Agent Names 9-7 to 9-13-25 (45304, 8)\n",
      "51 CAR - EP, Flow, Activity, Queue, &amp; Agent Names3-23 to 3-29-25 (47978, 8)\n"
     ]
    }
   ],
   "source": [
    "i=0\n",
    "for f in files:\n",
    "    i = i + 1\n",
    "    if f.suffix.lower() == \".csv\":\n",
    "        df = pd.read_csv(f, header=2, dtype=str, engine=\"python\", skip_blank_lines=False)\n",
    "    else:  # .xlsx\n",
    "        df = pd.read_excel(f, sheet_name=0, header=2, dtype=str)\n",
    "    df_main = pd.concat([df_main, df], ignore_index=True)\n",
    "    print(i, f.stem, df.shape)"
   ]
  },
  {
   "cell_type": "code",
   "execution_count": 5,
   "metadata": {},
   "outputs": [],
   "source": [
    "df_main[\"Activity Start Timestamp\"] = df_main[\"Activity Start Timestamp\"].apply(\n",
    "    lambda x: datetime.strptime(x, \"%Y/%m/%d %I:%M:%S %p\"))"
   ]
  },
  {
   "cell_type": "code",
   "execution_count": 11,
   "metadata": {},
   "outputs": [
    {
     "data": {
      "text/plain": [
       "(3222287, 9)"
      ]
     },
     "execution_count": 11,
     "metadata": {},
     "output_type": "execute_result"
    }
   ],
   "source": [
    "df_main.shape"
   ]
  },
  {
   "cell_type": "code",
   "execution_count": 12,
   "metadata": {},
   "outputs": [
    {
     "data": {
      "text/plain": [
       "Contact Session ID                  object\n",
       "EP Name                             object\n",
       "Flow Name                           object\n",
       "Activity Name                       object\n",
       "Activity Start Timestamp    datetime64[ns]\n",
       "Queue Name                          object\n",
       "Agent Name                          object\n",
       "Termination Reason                  object\n",
       "hour                                 int32\n",
       "dtype: object"
      ]
     },
     "execution_count": 12,
     "metadata": {},
     "output_type": "execute_result"
    }
   ],
   "source": [
    "df_main.dtypes"
   ]
  },
  {
   "cell_type": "code",
   "execution_count": 13,
   "metadata": {},
   "outputs": [],
   "source": [
    "df_main[\"hour\"] = df_main[\"Activity Start Timestamp\"].dt.hour"
   ]
  },
  {
   "cell_type": "code",
   "execution_count": 14,
   "metadata": {},
   "outputs": [],
   "source": [
    "df_main.sort_values(by = ['Contact Session ID', 'Activity Start Timestamp'], inplace=True)"
   ]
  },
  {
   "cell_type": "code",
   "execution_count": 15,
   "metadata": {},
   "outputs": [],
   "source": [
    "first_call_leg = df_main.groupby('Contact Session ID').first().reset_index()"
   ]
  },
  {
   "cell_type": "code",
   "execution_count": 17,
   "metadata": {},
   "outputs": [
    {
     "data": {
      "text/html": [
       "<div>\n",
       "<style scoped>\n",
       "    .dataframe tbody tr th:only-of-type {\n",
       "        vertical-align: middle;\n",
       "    }\n",
       "\n",
       "    .dataframe tbody tr th {\n",
       "        vertical-align: top;\n",
       "    }\n",
       "\n",
       "    .dataframe thead th {\n",
       "        text-align: right;\n",
       "    }\n",
       "</style>\n",
       "<table border=\"1\" class=\"dataframe\">\n",
       "  <thead>\n",
       "    <tr style=\"text-align: right;\">\n",
       "      <th></th>\n",
       "      <th>Contact Session ID</th>\n",
       "      <th>EP Name</th>\n",
       "      <th>Flow Name</th>\n",
       "      <th>Activity Name</th>\n",
       "      <th>Activity Start Timestamp</th>\n",
       "      <th>Queue Name</th>\n",
       "      <th>Agent Name</th>\n",
       "      <th>Termination Reason</th>\n",
       "      <th>hour</th>\n",
       "    </tr>\n",
       "  </thead>\n",
       "  <tbody>\n",
       "    <tr>\n",
       "      <th>0</th>\n",
       "      <td>00002422-f51f-458b-82d6-cfa5a3f36fd9</td>\n",
       "      <td>Main Number Telephony EP</td>\n",
       "      <td>LACMain</td>\n",
       "      <td>LanguageSelectionMenu</td>\n",
       "      <td>2025-03-13 12:51:21</td>\n",
       "      <td>Staff Directory English Transfer</td>\n",
       "      <td>CBT Agent</td>\n",
       "      <td>None</td>\n",
       "      <td>12</td>\n",
       "    </tr>\n",
       "    <tr>\n",
       "      <th>1</th>\n",
       "      <td>0000a8d5-cecb-46b1-82cf-b7ce07d85b24</td>\n",
       "      <td>Main Number Telephony EP</td>\n",
       "      <td>LACMain</td>\n",
       "      <td>LanguageSelectionMenu</td>\n",
       "      <td>2025-03-17 16:53:15</td>\n",
       "      <td>None</td>\n",
       "      <td>None</td>\n",
       "      <td>Customer Left</td>\n",
       "      <td>16</td>\n",
       "    </tr>\n",
       "    <tr>\n",
       "      <th>2</th>\n",
       "      <td>00011655-35de-476f-9a8c-dd48ed4d914a</td>\n",
       "      <td>Main Number Telephony EP</td>\n",
       "      <td>LACMain</td>\n",
       "      <td>LanguageSelectionMenu</td>\n",
       "      <td>2024-11-06 14:39:01</td>\n",
       "      <td>Front Desk Transfer</td>\n",
       "      <td>CBT Agent</td>\n",
       "      <td>None</td>\n",
       "      <td>14</td>\n",
       "    </tr>\n",
       "    <tr>\n",
       "      <th>3</th>\n",
       "      <td>00014a58-a6ce-4cb2-a529-d55e2c9c304d</td>\n",
       "      <td>Main Number Telephony EP</td>\n",
       "      <td>LACMain</td>\n",
       "      <td>LanguageSelectionMenu</td>\n",
       "      <td>2025-02-28 08:33:40</td>\n",
       "      <td>None</td>\n",
       "      <td>None</td>\n",
       "      <td>None</td>\n",
       "      <td>8</td>\n",
       "    </tr>\n",
       "    <tr>\n",
       "      <th>4</th>\n",
       "      <td>00015327-f646-462f-a585-0552331eed4e</td>\n",
       "      <td>Main Number Telephony EP</td>\n",
       "      <td>LACMain</td>\n",
       "      <td>LanguageSelectionMenu</td>\n",
       "      <td>2025-06-03 07:43:56</td>\n",
       "      <td>None</td>\n",
       "      <td>None</td>\n",
       "      <td>Customer Left</td>\n",
       "      <td>7</td>\n",
       "    </tr>\n",
       "  </tbody>\n",
       "</table>\n",
       "</div>"
      ],
      "text/plain": [
       "                     Contact Session ID                   EP Name Flow Name  \\\n",
       "0  00002422-f51f-458b-82d6-cfa5a3f36fd9  Main Number Telephony EP   LACMain   \n",
       "1  0000a8d5-cecb-46b1-82cf-b7ce07d85b24  Main Number Telephony EP   LACMain   \n",
       "2  00011655-35de-476f-9a8c-dd48ed4d914a  Main Number Telephony EP   LACMain   \n",
       "3  00014a58-a6ce-4cb2-a529-d55e2c9c304d  Main Number Telephony EP   LACMain   \n",
       "4  00015327-f646-462f-a585-0552331eed4e  Main Number Telephony EP   LACMain   \n",
       "\n",
       "           Activity Name Activity Start Timestamp  \\\n",
       "0  LanguageSelectionMenu      2025-03-13 12:51:21   \n",
       "1  LanguageSelectionMenu      2025-03-17 16:53:15   \n",
       "2  LanguageSelectionMenu      2024-11-06 14:39:01   \n",
       "3  LanguageSelectionMenu      2025-02-28 08:33:40   \n",
       "4  LanguageSelectionMenu      2025-06-03 07:43:56   \n",
       "\n",
       "                         Queue Name Agent Name Termination Reason  hour  \n",
       "0  Staff Directory English Transfer  CBT Agent               None    12  \n",
       "1                              None       None      Customer Left    16  \n",
       "2               Front Desk Transfer  CBT Agent               None    14  \n",
       "3                              None       None               None     8  \n",
       "4                              None       None      Customer Left     7  "
      ]
     },
     "execution_count": 17,
     "metadata": {},
     "output_type": "execute_result"
    }
   ],
   "source": [
    "first_call_leg.head()"
   ]
  },
  {
   "cell_type": "code",
   "execution_count": 18,
   "metadata": {},
   "outputs": [],
   "source": [
    "from datetime import date\n",
    "first_call_leg_may24_aug35 = first_call_leg.loc[(first_call_leg['Activity Start Timestamp'].dt.date >= date(2024,5,1)) \\\n",
    "& (first_call_leg['Activity Start Timestamp'].dt.date <= date(2025,8,31)),:]"
   ]
  },
  {
   "cell_type": "code",
   "execution_count": 19,
   "metadata": {},
   "outputs": [
    {
     "data": {
      "image/png": "[encoded data removed]",
      "text/plain": [
       "<Figure size 640x480 with 1 Axes>"
      ]
     },
     "metadata": {},
     "output_type": "display_data"
    }
   ],
   "source": [
    "counts = first_call_leg_may24_aug35['hour'].value_counts().sort_index()\n",
    "counts.plot(kind = 'bar')\n",
    "plt.xlabel(\"Hour of Day\")\n",
    "plt.ylabel(\"Number of distinct Contact Session IDs\");\n",
    "plt.title(\"Plot based on CAR Data\");"
   ]
  },
  {
   "cell_type": "code",
   "execution_count": 21,
   "metadata": {},
   "outputs": [
    {
     "data": {
      "text/plain": [
       "(222284, 9)"
      ]
     },
     "execution_count": 21,
     "metadata": {},
     "output_type": "execute_result"
    }
   ],
   "source": [
    "first_call_leg_may24_aug35.shape"
   ]
  },
  {
   "cell_type": "code",
   "execution_count": 22,
   "metadata": {},
   "outputs": [
    {
     "data": {
      "text/plain": [
       "13.393159373545256"
      ]
     },
     "execution_count": 22,
     "metadata": {},
     "output_type": "execute_result"
    }
   ],
   "source": [
    "df_main.shape[0]/240592"
   ]
  },
  {
   "cell_type": "code",
   "execution_count": 23,
   "metadata": {},
   "outputs": [
    {
     "data": {
      "text/plain": [
       "Timestamp('2025-09-13 22:52:02')"
      ]
     },
     "execution_count": 23,
     "metadata": {},
     "output_type": "execute_result"
    }
   ],
   "source": [
    "df_main['Activity Start Timestamp'].max()"
   ]
  },
  {
   "cell_type": "code",
   "execution_count": 24,
   "metadata": {},
   "outputs": [
    {
     "data": {
      "text/plain": [
       "Timestamp('2024-04-07 00:32:12')"
      ]
     },
     "execution_count": 24,
     "metadata": {},
     "output_type": "execute_result"
    }
   ],
   "source": [
    "df_main['Activity Start Timestamp'].min()"
   ]
  },
  {
   "cell_type": "code",
   "execution_count": 25,
   "metadata": {},
   "outputs": [
    {
     "data": {
      "text/plain": [
       "hour\n",
       "0       2928\n",
       "1       1980\n",
       "2       3005\n",
       "3       1835\n",
       "4       3633\n",
       "5       8674\n",
       "6      12712\n",
       "7      55952\n",
       "8     448484\n",
       "9     410588\n",
       "10    390286\n",
       "11    373629\n",
       "12    332668\n",
       "13    319602\n",
       "14    307205\n",
       "15    280207\n",
       "16    173231\n",
       "17     37838\n",
       "18     19564\n",
       "19     13203\n",
       "20     10131\n",
       "21      6119\n",
       "22      4100\n",
       "23      4713\n",
       "Name: count, dtype: int64"
      ]
     },
     "execution_count": 25,
     "metadata": {},
     "output_type": "execute_result"
    }
   ],
   "source": [
    "df_main.hour.value_counts().sort_index()"
   ]
  },
  {
   "cell_type": "code",
   "execution_count": 26,
   "metadata": {},
   "outputs": [
    {
     "data": {
      "text/plain": [
       "Index(['Contact Session ID', 'EP Name', 'Flow Name', 'Activity Name',\n",
       "       'Activity Start Timestamp', 'Queue Name', 'Agent Name',\n",
       "       'Termination Reason', 'hour'],\n",
       "      dtype='object')"
      ]
     },
     "execution_count": 26,
     "metadata": {},
     "output_type": "execute_result"
    }
   ],
   "source": [
    "df_main.columns"
   ]
  },
  {
   "cell_type": "code",
   "execution_count": 27,
   "metadata": {},
   "outputs": [
    {
     "data": {
      "text/plain": [
       "100373"
      ]
     },
     "execution_count": 27,
     "metadata": {},
     "output_type": "execute_result"
    }
   ],
   "source": [
    "df_main['Termination Reason'].value_counts().sum()"
   ]
  },
  {
   "cell_type": "code",
   "execution_count": 28,
   "metadata": {},
   "outputs": [
    {
     "data": {
      "text/plain": [
       "Termination Reason\n",
       "Customer Left                       79194\n",
       "Agent Left                          12154\n",
       "System disconnected the contact      4541\n",
       "NO_ANSWER_FROM_AGENT                 1007\n",
       "RONA_TIMER_EXPIRED                    776\n",
       "Queue Timeout                         670\n",
       "NO_ANSWER_FROM_CUSTOMER               573\n",
       "RONA Timer Expired                    460\n",
       "AGENT_ENDS                            257\n",
       "CUSTOMER_UNAVAILABLE                  223\n",
       "System Error                          162\n",
       "CUSTOMER_BUSY                         112\n",
       "USER_UNAVAILABLE                       63\n",
       "NO_ANSWER_USER                         46\n",
       "USER_BUSY                              30\n",
       "MEDIA_MANAGER_INTERNAL_ERROR           30\n",
       "AGENT_UNAVAILABLE                      19\n",
       "MAX_CALLBACK_RETRY_LIMIT_REACHED       19\n",
       "AGENT_BUSY                             19\n",
       "USER_DECLINED                           9\n",
       "Participant Invite timer expired        4\n",
       "CONTACT_CALLBACK_IN_PROGRESS            2\n",
       "OUTDIAL_FAILED                          1\n",
       "CHANNEL_FAILURE                         1\n",
       "NO_ANSWER_CUSTOMER                      1\n",
       "Name: count, dtype: int64"
      ]
     },
     "execution_count": 28,
     "metadata": {},
     "output_type": "execute_result"
    }
   ],
   "source": [
    "df_main['Termination Reason'].value_counts()"
   ]
  },
  {
   "cell_type": "code",
   "execution_count": 55,
   "metadata": {},
   "outputs": [
    {
     "data": {
      "text/plain": [
       "401227     False\n",
       "401228     False\n",
       "401229     False\n",
       "401230     False\n",
       "401236     False\n",
       "           ...  \n",
       "1458735    False\n",
       "1458736    False\n",
       "1458737    False\n",
       "1458738    False\n",
       "1458739    False\n",
       "Name: Activity Start Timestamp, Length: 3222287, dtype: bool"
      ]
     },
     "execution_count": 55,
     "metadata": {},
     "output_type": "execute_result"
    }
   ],
   "source": [
    "df_main['Activity Start Timestamp'].dt.date >= date(2025,3,16)"
   ]
  },
  {
   "cell_type": "code",
   "execution_count": 56,
   "metadata": {},
   "outputs": [],
   "source": [
    "df_main_new_data = df_main.loc[df_main['Activity Start Timestamp'].dt.date >= date(2025,3,16),:]"
   ]
  },
  {
   "cell_type": "code",
   "execution_count": 57,
   "metadata": {},
   "outputs": [
    {
     "data": {
      "text/plain": [
       "83090"
      ]
     },
     "execution_count": 57,
     "metadata": {},
     "output_type": "execute_result"
    }
   ],
   "source": [
    "df_main_new_data['Contact Session ID'].nunique()"
   ]
  },
  {
   "cell_type": "code",
   "execution_count": 59,
   "metadata": {},
   "outputs": [
    {
     "data": {
      "text/plain": [
       "Contact Session ID\n",
       "0000a8d5-cecb-46b1-82cf-b7ce07d85b24    1\n",
       "a9990d27-e860-4088-b9a5-634c1280c46a    1\n",
       "a998d1e0-53b9-4c37-a8ba-0a5bda68157a    1\n",
       "a9985de8-3344-4ddb-9f01-8d008cf7bb7f    1\n",
       "a997d2cf-e569-4274-a252-cae890d77790    1\n",
       "                                       ..\n",
       "21c39a18-e5fe-421e-b2e6-39428f481226    5\n",
       "37e46c47-1a4f-4406-a177-f412ab4fe43b    5\n",
       "fa4b154d-1215-4019-8a11-538f6ac994c0    5\n",
       "a17a92b3-abd0-49dc-a0e2-ddc2e86fe511    6\n",
       "0b581d44-53d2-4276-87dd-7afcfd4f5248    6\n",
       "Name: Termination Reason, Length: 83090, dtype: int64"
      ]
     },
     "execution_count": 59,
     "metadata": {},
     "output_type": "execute_result"
    }
   ],
   "source": [
    "df_main_new_data.groupby('Contact Session ID')['Termination Reason'].nunique().sort_values()"
   ]
  },
  {
   "cell_type": "code",
   "execution_count": 61,
   "metadata": {},
   "outputs": [],
   "source": [
    "df_main.loc[df_main['Contact Session ID'] == '0b581d44-53d2-4276-87dd-7afcfd4f5248',:].to_csv('temp_export.csv')"
   ]
  },
  {
   "cell_type": "code",
   "execution_count": 38,
   "metadata": {},
   "outputs": [],
   "source": [
    "df_main.loc[df_main['Contact Session ID'] == '000a3bc0-45e5-49e5-8bda-3f2141b2bc38',:].to_csv('agent_left2.csv')"
   ]
  },
  {
   "cell_type": "code",
   "execution_count": 67,
   "metadata": {},
   "outputs": [],
   "source": [
    "df_main.loc[df_main['Contact Session ID'] == '0008d9f3-db30-4cd9-baf1-71baffba9643',:].to_csv('temp_export.csv')"
   ]
  },
  {
   "cell_type": "code",
   "execution_count": 65,
   "metadata": {},
   "outputs": [
    {
     "data": {
      "text/html": [
       "<div>\n",
       "<style scoped>\n",
       "    .dataframe tbody tr th:only-of-type {\n",
       "        vertical-align: middle;\n",
       "    }\n",
       "\n",
       "    .dataframe tbody tr th {\n",
       "        vertical-align: top;\n",
       "    }\n",
       "\n",
       "    .dataframe thead th {\n",
       "        text-align: right;\n",
       "    }\n",
       "</style>\n",
       "<table border=\"1\" class=\"dataframe\">\n",
       "  <thead>\n",
       "    <tr style=\"text-align: right;\">\n",
       "      <th></th>\n",
       "      <th>Contact Session ID</th>\n",
       "      <th>EP Name</th>\n",
       "      <th>Flow Name</th>\n",
       "      <th>Activity Name</th>\n",
       "      <th>Activity Start Timestamp</th>\n",
       "      <th>Queue Name</th>\n",
       "      <th>Agent Name</th>\n",
       "      <th>Termination Reason</th>\n",
       "      <th>hour</th>\n",
       "    </tr>\n",
       "  </thead>\n",
       "  <tbody>\n",
       "    <tr>\n",
       "      <th>2167449</th>\n",
       "      <td>0008d9f3-db30-4cd9-baf1-71baffba9643</td>\n",
       "      <td>Main Number Telephony EP</td>\n",
       "      <td>NaN</td>\n",
       "      <td>NaN</td>\n",
       "      <td>2025-04-14 08:49:02</td>\n",
       "      <td>NaN</td>\n",
       "      <td>NaN</td>\n",
       "      <td>NaN</td>\n",
       "      <td>8</td>\n",
       "    </tr>\n",
       "    <tr>\n",
       "      <th>2167450</th>\n",
       "      <td>0008d9f3-db30-4cd9-baf1-71baffba9643</td>\n",
       "      <td>NaN</td>\n",
       "      <td>LACMain</td>\n",
       "      <td>NaN</td>\n",
       "      <td>2025-04-14 08:49:02</td>\n",
       "      <td>NaN</td>\n",
       "      <td>NaN</td>\n",
       "      <td>NaN</td>\n",
       "      <td>8</td>\n",
       "    </tr>\n",
       "    <tr>\n",
       "      <th>2167451</th>\n",
       "      <td>0008d9f3-db30-4cd9-baf1-71baffba9643</td>\n",
       "      <td>Main Number Telephony EP</td>\n",
       "      <td>NaN</td>\n",
       "      <td>LanguageSelectionMenu</td>\n",
       "      <td>2025-04-14 08:49:02</td>\n",
       "      <td>NaN</td>\n",
       "      <td>NaN</td>\n",
       "      <td>NaN</td>\n",
       "      <td>8</td>\n",
       "    </tr>\n",
       "    <tr>\n",
       "      <th>2167452</th>\n",
       "      <td>0008d9f3-db30-4cd9-baf1-71baffba9643</td>\n",
       "      <td>Main Number Telephony EP</td>\n",
       "      <td>LACMain</td>\n",
       "      <td>NaN</td>\n",
       "      <td>2025-04-14 08:49:03</td>\n",
       "      <td>NaN</td>\n",
       "      <td>NaN</td>\n",
       "      <td>NaN</td>\n",
       "      <td>8</td>\n",
       "    </tr>\n",
       "    <tr>\n",
       "      <th>2167459</th>\n",
       "      <td>0008d9f3-db30-4cd9-baf1-71baffba9643</td>\n",
       "      <td>Main Number Telephony EP</td>\n",
       "      <td>NaN</td>\n",
       "      <td>MainMenu</td>\n",
       "      <td>2025-04-14 08:49:14</td>\n",
       "      <td>NaN</td>\n",
       "      <td>NaN</td>\n",
       "      <td>NaN</td>\n",
       "      <td>8</td>\n",
       "    </tr>\n",
       "    <tr>\n",
       "      <th>2167472</th>\n",
       "      <td>0008d9f3-db30-4cd9-baf1-71baffba9643</td>\n",
       "      <td>Main Number Telephony EP</td>\n",
       "      <td>NaN</td>\n",
       "      <td>HelpWithLegalorOtherReasonMenu</td>\n",
       "      <td>2025-04-14 08:50:08</td>\n",
       "      <td>NaN</td>\n",
       "      <td>NaN</td>\n",
       "      <td>NaN</td>\n",
       "      <td>8</td>\n",
       "    </tr>\n",
       "    <tr>\n",
       "      <th>2167476</th>\n",
       "      <td>0008d9f3-db30-4cd9-baf1-71baffba9643</td>\n",
       "      <td>Main Number Telephony EP</td>\n",
       "      <td>NaN</td>\n",
       "      <td>MainMenu</td>\n",
       "      <td>2025-04-14 08:50:18</td>\n",
       "      <td>NaN</td>\n",
       "      <td>NaN</td>\n",
       "      <td>NaN</td>\n",
       "      <td>8</td>\n",
       "    </tr>\n",
       "    <tr>\n",
       "      <th>2167477</th>\n",
       "      <td>0008d9f3-db30-4cd9-baf1-71baffba9643</td>\n",
       "      <td>Main Number Telephony EP</td>\n",
       "      <td>NaN</td>\n",
       "      <td>StaffDirectoryEnglishTransfer</td>\n",
       "      <td>2025-04-14 08:50:19</td>\n",
       "      <td>NaN</td>\n",
       "      <td>NaN</td>\n",
       "      <td>NaN</td>\n",
       "      <td>8</td>\n",
       "    </tr>\n",
       "    <tr>\n",
       "      <th>2167478</th>\n",
       "      <td>0008d9f3-db30-4cd9-baf1-71baffba9643</td>\n",
       "      <td>NaN</td>\n",
       "      <td>NaN</td>\n",
       "      <td>NaN</td>\n",
       "      <td>2025-04-14 08:50:19</td>\n",
       "      <td>Staff Directory English Transfer</td>\n",
       "      <td>NaN</td>\n",
       "      <td>NaN</td>\n",
       "      <td>8</td>\n",
       "    </tr>\n",
       "    <tr>\n",
       "      <th>2167479</th>\n",
       "      <td>0008d9f3-db30-4cd9-baf1-71baffba9643</td>\n",
       "      <td>Main Number Telephony EP</td>\n",
       "      <td>NaN</td>\n",
       "      <td>NaN</td>\n",
       "      <td>2025-04-14 08:50:19</td>\n",
       "      <td>NaN</td>\n",
       "      <td>NaN</td>\n",
       "      <td>NaN</td>\n",
       "      <td>8</td>\n",
       "    </tr>\n",
       "    <tr>\n",
       "      <th>2167480</th>\n",
       "      <td>0008d9f3-db30-4cd9-baf1-71baffba9643</td>\n",
       "      <td>Main Number Telephony EP</td>\n",
       "      <td>NaN</td>\n",
       "      <td>NaN</td>\n",
       "      <td>2025-04-14 08:50:19</td>\n",
       "      <td>Staff Directory English Transfer</td>\n",
       "      <td>CBT Agent</td>\n",
       "      <td>NaN</td>\n",
       "      <td>8</td>\n",
       "    </tr>\n",
       "    <tr>\n",
       "      <th>2167481</th>\n",
       "      <td>0008d9f3-db30-4cd9-baf1-71baffba9643</td>\n",
       "      <td>Main Number Telephony EP</td>\n",
       "      <td>NaN</td>\n",
       "      <td>NaN</td>\n",
       "      <td>2025-04-14 08:50:19</td>\n",
       "      <td>Staff Directory English Transfer</td>\n",
       "      <td>CBT Agent</td>\n",
       "      <td>NaN</td>\n",
       "      <td>8</td>\n",
       "    </tr>\n",
       "    <tr>\n",
       "      <th>2167495</th>\n",
       "      <td>0008d9f3-db30-4cd9-baf1-71baffba9643</td>\n",
       "      <td>Main Number Telephony EP</td>\n",
       "      <td>NaN</td>\n",
       "      <td>NaN</td>\n",
       "      <td>2025-04-14 08:51:08</td>\n",
       "      <td>Staff Directory English Transfer</td>\n",
       "      <td>CBT Agent</td>\n",
       "      <td>Customer Left</td>\n",
       "      <td>8</td>\n",
       "    </tr>\n",
       "  </tbody>\n",
       "</table>\n",
       "</div>"
      ],
      "text/plain": [
       "                           Contact Session ID                   EP Name  \\\n",
       "2167449  0008d9f3-db30-4cd9-baf1-71baffba9643  Main Number Telephony EP   \n",
       "2167450  0008d9f3-db30-4cd9-baf1-71baffba9643                       NaN   \n",
       "2167451  0008d9f3-db30-4cd9-baf1-71baffba9643  Main Number Telephony EP   \n",
       "2167452  0008d9f3-db30-4cd9-baf1-71baffba9643  Main Number Telephony EP   \n",
       "2167459  0008d9f3-db30-4cd9-baf1-71baffba9643  Main Number Telephony EP   \n",
       "2167472  0008d9f3-db30-4cd9-baf1-71baffba9643  Main Number Telephony EP   \n",
       "2167476  0008d9f3-db30-4cd9-baf1-71baffba9643  Main Number Telephony EP   \n",
       "2167477  0008d9f3-db30-4cd9-baf1-71baffba9643  Main Number Telephony EP   \n",
       "2167478  0008d9f3-db30-4cd9-baf1-71baffba9643                       NaN   \n",
       "2167479  0008d9f3-db30-4cd9-baf1-71baffba9643  Main Number Telephony EP   \n",
       "2167480  0008d9f3-db30-4cd9-baf1-71baffba9643  Main Number Telephony EP   \n",
       "2167481  0008d9f3-db30-4cd9-baf1-71baffba9643  Main Number Telephony EP   \n",
       "2167495  0008d9f3-db30-4cd9-baf1-71baffba9643  Main Number Telephony EP   \n",
       "\n",
       "        Flow Name                   Activity Name Activity Start Timestamp  \\\n",
       "2167449       NaN                             NaN      2025-04-14 08:49:02   \n",
       "2167450   LACMain                             NaN      2025-04-14 08:49:02   \n",
       "2167451       NaN           LanguageSelectionMenu      2025-04-14 08:49:02   \n",
       "2167452   LACMain                             NaN      2025-04-14 08:49:03   \n",
       "2167459       NaN                        MainMenu      2025-04-14 08:49:14   \n",
       "2167472       NaN  HelpWithLegalorOtherReasonMenu      2025-04-14 08:50:08   \n",
       "2167476       NaN                        MainMenu      2025-04-14 08:50:18   \n",
       "2167477       NaN   StaffDirectoryEnglishTransfer      2025-04-14 08:50:19   \n",
       "2167478       NaN                             NaN      2025-04-14 08:50:19   \n",
       "2167479       NaN                             NaN      2025-04-14 08:50:19   \n",
       "2167480       NaN                             NaN      2025-04-14 08:50:19   \n",
       "2167481       NaN                             NaN      2025-04-14 08:50:19   \n",
       "2167495       NaN                             NaN      2025-04-14 08:51:08   \n",
       "\n",
       "                               Queue Name Agent Name Termination Reason  hour  \n",
       "2167449                               NaN        NaN                NaN     8  \n",
       "2167450                               NaN        NaN                NaN     8  \n",
       "2167451                               NaN        NaN                NaN     8  \n",
       "2167452                               NaN        NaN                NaN     8  \n",
       "2167459                               NaN        NaN                NaN     8  \n",
       "2167472                               NaN        NaN                NaN     8  \n",
       "2167476                               NaN        NaN                NaN     8  \n",
       "2167477                               NaN        NaN                NaN     8  \n",
       "2167478  Staff Directory English Transfer        NaN                NaN     8  \n",
       "2167479                               NaN        NaN                NaN     8  \n",
       "2167480  Staff Directory English Transfer  CBT Agent                NaN     8  \n",
       "2167481  Staff Directory English Transfer  CBT Agent                NaN     8  \n",
       "2167495  Staff Directory English Transfer  CBT Agent      Customer Left     8  "
      ]
     },
     "execution_count": 65,
     "metadata": {},
     "output_type": "execute_result"
    }
   ],
   "source": [
    "df_main.loc[df_main['Contact Session ID'] == '0008d9f3-db30-4cd9-baf1-71baffba9643',:]"
   ]
  },
  {
   "cell_type": "code",
   "execution_count": 31,
   "metadata": {},
   "outputs": [],
   "source": [
    "agent_left_rows = df_main.loc[df_main['Termination Reason'] == 'Agent Left',:]"
   ]
  },
  {
   "cell_type": "code",
   "execution_count": 68,
   "metadata": {},
   "outputs": [],
   "source": [
    "cust_left_rows = df_main.loc[df_main['Termination Reason'] == 'Customer Left',:]\n",
    "cust_left_rows.to_csv('temp_export.csv')"
   ]
  },
  {
   "cell_type": "code",
   "execution_count": 71,
   "metadata": {},
   "outputs": [],
   "source": [
    "cust_left_journeys = df_main.loc[df_main['Contact Session ID'].isin(cust_left_rows['Contact Session ID']),:]\n",
    "cust_left_journeys.to_csv('temp_export.csv')"
   ]
  },
  {
   "cell_type": "code",
   "execution_count": 32,
   "metadata": {},
   "outputs": [
    {
     "data": {
      "text/html": [
       "<div>\n",
       "<style scoped>\n",
       "    .dataframe tbody tr th:only-of-type {\n",
       "        vertical-align: middle;\n",
       "    }\n",
       "\n",
       "    .dataframe tbody tr th {\n",
       "        vertical-align: top;\n",
       "    }\n",
       "\n",
       "    .dataframe thead th {\n",
       "        text-align: right;\n",
       "    }\n",
       "</style>\n",
       "<table border=\"1\" class=\"dataframe\">\n",
       "  <thead>\n",
       "    <tr style=\"text-align: right;\">\n",
       "      <th></th>\n",
       "      <th>Contact Session ID</th>\n",
       "      <th>EP Name</th>\n",
       "      <th>Flow Name</th>\n",
       "      <th>Activity Name</th>\n",
       "      <th>Activity Start Timestamp</th>\n",
       "      <th>Queue Name</th>\n",
       "      <th>Agent Name</th>\n",
       "      <th>Termination Reason</th>\n",
       "      <th>hour</th>\n",
       "    </tr>\n",
       "  </thead>\n",
       "  <tbody>\n",
       "    <tr>\n",
       "      <th>2694227</th>\n",
       "      <td>000a3bc0-45e5-49e5-8bda-3f2141b2bc38</td>\n",
       "      <td>Intake Outdial EP</td>\n",
       "      <td>NaN</td>\n",
       "      <td>NaN</td>\n",
       "      <td>2025-06-10 10:41:44</td>\n",
       "      <td>Intake Outdial Queue</td>\n",
       "      <td>NaN</td>\n",
       "      <td>Agent Left</td>\n",
       "      <td>10</td>\n",
       "    </tr>\n",
       "    <tr>\n",
       "      <th>2226960</th>\n",
       "      <td>000d510a-4f5d-4ca4-9c05-9db918d11fe3</td>\n",
       "      <td>Legal Menu Telephony EP</td>\n",
       "      <td>NaN</td>\n",
       "      <td>NaN</td>\n",
       "      <td>2025-04-22 15:23:39</td>\n",
       "      <td>Criminal Records Voicemail Transfer</td>\n",
       "      <td>CBT Agent</td>\n",
       "      <td>Agent Left</td>\n",
       "      <td>15</td>\n",
       "    </tr>\n",
       "    <tr>\n",
       "      <th>2584043</th>\n",
       "      <td>000f7898-6a8d-4604-a9e9-d5e6aeb17670</td>\n",
       "      <td>Main Number Telephony EP</td>\n",
       "      <td>NaN</td>\n",
       "      <td>NaN</td>\n",
       "      <td>2025-06-18 16:01:57</td>\n",
       "      <td>Staff Directory English Transfer</td>\n",
       "      <td>CBT Agent</td>\n",
       "      <td>Agent Left</td>\n",
       "      <td>16</td>\n",
       "    </tr>\n",
       "    <tr>\n",
       "      <th>2210885</th>\n",
       "      <td>0016a2d9-87a1-43a8-880f-5ae4d1ae726d</td>\n",
       "      <td>Legal Menu Telephony EP</td>\n",
       "      <td>NaN</td>\n",
       "      <td>NaN</td>\n",
       "      <td>2025-04-21 10:34:23</td>\n",
       "      <td>Criminal Records Voicemail Transfer</td>\n",
       "      <td>CBT Agent</td>\n",
       "      <td>Agent Left</td>\n",
       "      <td>10</td>\n",
       "    </tr>\n",
       "    <tr>\n",
       "      <th>2793862</th>\n",
       "      <td>001741db-98b4-409f-8646-32ed0ecf6331</td>\n",
       "      <td>Courtesy Callback Telephony EP</td>\n",
       "      <td>NaN</td>\n",
       "      <td>NaN</td>\n",
       "      <td>2025-07-23 09:21:39</td>\n",
       "      <td>Benefits</td>\n",
       "      <td>NaN</td>\n",
       "      <td>Agent Left</td>\n",
       "      <td>9</td>\n",
       "    </tr>\n",
       "    <tr>\n",
       "      <th>...</th>\n",
       "      <td>...</td>\n",
       "      <td>...</td>\n",
       "      <td>...</td>\n",
       "      <td>...</td>\n",
       "      <td>...</td>\n",
       "      <td>...</td>\n",
       "      <td>...</td>\n",
       "      <td>...</td>\n",
       "      <td>...</td>\n",
       "    </tr>\n",
       "    <tr>\n",
       "      <th>3207738</th>\n",
       "      <td>ffef5316-dfc9-4d55-ba63-65461530a4ed</td>\n",
       "      <td>Legal Menu Telephony EP</td>\n",
       "      <td>NaN</td>\n",
       "      <td>NaN</td>\n",
       "      <td>2025-03-27 08:53:35</td>\n",
       "      <td>Criminal Records Voicemail Transfer</td>\n",
       "      <td>CBT Agent</td>\n",
       "      <td>Agent Left</td>\n",
       "      <td>8</td>\n",
       "    </tr>\n",
       "    <tr>\n",
       "      <th>3068862</th>\n",
       "      <td>ffefc12e-471f-4841-b7ca-e7641323d3b8</td>\n",
       "      <td>Main Number Telephony EP</td>\n",
       "      <td>NaN</td>\n",
       "      <td>NaN</td>\n",
       "      <td>2025-08-06 10:18:45</td>\n",
       "      <td>Staff Directory Spanish Transfer</td>\n",
       "      <td>CBT Agent</td>\n",
       "      <td>Agent Left</td>\n",
       "      <td>10</td>\n",
       "    </tr>\n",
       "    <tr>\n",
       "      <th>3150014</th>\n",
       "      <td>fff24560-c573-46b8-ad2b-d82fe73399eb</td>\n",
       "      <td>Main Number Telephony EP</td>\n",
       "      <td>NaN</td>\n",
       "      <td>NaN</td>\n",
       "      <td>2025-09-10 08:31:48</td>\n",
       "      <td>Staff Directory English Transfer</td>\n",
       "      <td>CBT Agent</td>\n",
       "      <td>Agent Left</td>\n",
       "      <td>8</td>\n",
       "    </tr>\n",
       "    <tr>\n",
       "      <th>3153057</th>\n",
       "      <td>fff5ca16-2e1f-4c70-9361-a4ab4bcab275</td>\n",
       "      <td>Closed Queue Menu Telephony EP</td>\n",
       "      <td>NaN</td>\n",
       "      <td>NaN</td>\n",
       "      <td>2025-09-10 11:23:57</td>\n",
       "      <td>Clinic Voicemail Transfer</td>\n",
       "      <td>CBT Agent</td>\n",
       "      <td>Agent Left</td>\n",
       "      <td>11</td>\n",
       "    </tr>\n",
       "    <tr>\n",
       "      <th>2861289</th>\n",
       "      <td>fff898b5-9df2-40f4-a421-2dac3dc04194</td>\n",
       "      <td>Courtesy Callback Telephony EP</td>\n",
       "      <td>NaN</td>\n",
       "      <td>NaN</td>\n",
       "      <td>2025-08-01 14:50:54</td>\n",
       "      <td>Consumer</td>\n",
       "      <td>NaN</td>\n",
       "      <td>Agent Left</td>\n",
       "      <td>14</td>\n",
       "    </tr>\n",
       "  </tbody>\n",
       "</table>\n",
       "<p>12154 rows × 9 columns</p>\n",
       "</div>"
      ],
      "text/plain": [
       "                           Contact Session ID                         EP Name  \\\n",
       "2694227  000a3bc0-45e5-49e5-8bda-3f2141b2bc38               Intake Outdial EP   \n",
       "2226960  000d510a-4f5d-4ca4-9c05-9db918d11fe3         Legal Menu Telephony EP   \n",
       "2584043  000f7898-6a8d-4604-a9e9-d5e6aeb17670        Main Number Telephony EP   \n",
       "2210885  0016a2d9-87a1-43a8-880f-5ae4d1ae726d         Legal Menu Telephony EP   \n",
       "2793862  001741db-98b4-409f-8646-32ed0ecf6331  Courtesy Callback Telephony EP   \n",
       "...                                       ...                             ...   \n",
       "3207738  ffef5316-dfc9-4d55-ba63-65461530a4ed         Legal Menu Telephony EP   \n",
       "3068862  ffefc12e-471f-4841-b7ca-e7641323d3b8        Main Number Telephony EP   \n",
       "3150014  fff24560-c573-46b8-ad2b-d82fe73399eb        Main Number Telephony EP   \n",
       "3153057  fff5ca16-2e1f-4c70-9361-a4ab4bcab275  Closed Queue Menu Telephony EP   \n",
       "2861289  fff898b5-9df2-40f4-a421-2dac3dc04194  Courtesy Callback Telephony EP   \n",
       "\n",
       "        Flow Name Activity Name Activity Start Timestamp  \\\n",
       "2694227       NaN           NaN      2025-06-10 10:41:44   \n",
       "2226960       NaN           NaN      2025-04-22 15:23:39   \n",
       "2584043       NaN           NaN      2025-06-18 16:01:57   \n",
       "2210885       NaN           NaN      2025-04-21 10:34:23   \n",
       "2793862       NaN           NaN      2025-07-23 09:21:39   \n",
       "...           ...           ...                      ...   \n",
       "3207738       NaN           NaN      2025-03-27 08:53:35   \n",
       "3068862       NaN           NaN      2025-08-06 10:18:45   \n",
       "3150014       NaN           NaN      2025-09-10 08:31:48   \n",
       "3153057       NaN           NaN      2025-09-10 11:23:57   \n",
       "2861289       NaN           NaN      2025-08-01 14:50:54   \n",
       "\n",
       "                                  Queue Name Agent Name Termination Reason  \\\n",
       "2694227                 Intake Outdial Queue        NaN         Agent Left   \n",
       "2226960  Criminal Records Voicemail Transfer  CBT Agent         Agent Left   \n",
       "2584043     Staff Directory English Transfer  CBT Agent         Agent Left   \n",
       "2210885  Criminal Records Voicemail Transfer  CBT Agent         Agent Left   \n",
       "2793862                             Benefits        NaN         Agent Left   \n",
       "...                                      ...        ...                ...   \n",
       "3207738  Criminal Records Voicemail Transfer  CBT Agent         Agent Left   \n",
       "3068862     Staff Directory Spanish Transfer  CBT Agent         Agent Left   \n",
       "3150014     Staff Directory English Transfer  CBT Agent         Agent Left   \n",
       "3153057            Clinic Voicemail Transfer  CBT Agent         Agent Left   \n",
       "2861289                             Consumer        NaN         Agent Left   \n",
       "\n",
       "         hour  \n",
       "2694227    10  \n",
       "2226960    15  \n",
       "2584043    16  \n",
       "2210885    10  \n",
       "2793862     9  \n",
       "...       ...  \n",
       "3207738     8  \n",
       "3068862    10  \n",
       "3150014     8  \n",
       "3153057    11  \n",
       "2861289    14  \n",
       "\n",
       "[12154 rows x 9 columns]"
      ]
     },
     "execution_count": 32,
     "metadata": {},
     "output_type": "execute_result"
    }
   ],
   "source": [
    "agent_left_rows"
   ]
  },
  {
   "cell_type": "code",
   "execution_count": 53,
   "metadata": {},
   "outputs": [],
   "source": [
    "df_main.loc[df_main['Contact Session ID'] == '0029a1f0-56ed-47a8-b35f-6460a709c544',:].to_csv('temp_export.csv')"
   ]
  },
  {
   "cell_type": "code",
   "execution_count": null,
   "metadata": {},
   "outputs": [],
   "source": [
    "df_main.loc[df_main['Contact Session ID'] == '0029a1f0-56ed-47a8-b35f-6460a709c544',:]"
   ]
  },
  {
   "cell_type": "code",
   "execution_count": 29,
   "metadata": {},
   "outputs": [
    {
     "data": {
      "text/html": [
       "<div>\n",
       "<style scoped>\n",
       "    .dataframe tbody tr th:only-of-type {\n",
       "        vertical-align: middle;\n",
       "    }\n",
       "\n",
       "    .dataframe tbody tr th {\n",
       "        vertical-align: top;\n",
       "    }\n",
       "\n",
       "    .dataframe thead th {\n",
       "        text-align: right;\n",
       "    }\n",
       "</style>\n",
       "<table border=\"1\" class=\"dataframe\">\n",
       "  <thead>\n",
       "    <tr style=\"text-align: right;\">\n",
       "      <th></th>\n",
       "      <th>Contact Session ID</th>\n",
       "      <th>EP Name</th>\n",
       "      <th>Flow Name</th>\n",
       "      <th>Activity Name</th>\n",
       "      <th>Activity Start Timestamp</th>\n",
       "      <th>Queue Name</th>\n",
       "      <th>Agent Name</th>\n",
       "      <th>Termination Reason</th>\n",
       "      <th>hour</th>\n",
       "    </tr>\n",
       "  </thead>\n",
       "  <tbody>\n",
       "    <tr>\n",
       "      <th>2585014</th>\n",
       "      <td>00189604-35e3-42ed-8187-e46fdf1f0bb4</td>\n",
       "      <td>Closed Hours-Holidays Menu Telephony EP</td>\n",
       "      <td>NaN</td>\n",
       "      <td>NaN</td>\n",
       "      <td>2025-06-19 08:30:42</td>\n",
       "      <td>NaN</td>\n",
       "      <td>NaN</td>\n",
       "      <td>System disconnected the contact</td>\n",
       "      <td>8</td>\n",
       "    </tr>\n",
       "    <tr>\n",
       "      <th>2278015</th>\n",
       "      <td>001d4ba0-a384-4c4b-ae8a-bdda3e1119dc</td>\n",
       "      <td>Closed Queue Menu Telephony EP</td>\n",
       "      <td>NaN</td>\n",
       "      <td>NaN</td>\n",
       "      <td>2025-04-30 11:42:02</td>\n",
       "      <td>NaN</td>\n",
       "      <td>NaN</td>\n",
       "      <td>System disconnected the contact</td>\n",
       "      <td>11</td>\n",
       "    </tr>\n",
       "    <tr>\n",
       "      <th>2405521</th>\n",
       "      <td>0029a1f0-56ed-47a8-b35f-6460a709c544</td>\n",
       "      <td>Pre-Legal Menu Seniors Menu Telephony EP</td>\n",
       "      <td>NaN</td>\n",
       "      <td>NaN</td>\n",
       "      <td>2025-05-20 14:58:12</td>\n",
       "      <td>NaN</td>\n",
       "      <td>NaN</td>\n",
       "      <td>System disconnected the contact</td>\n",
       "      <td>14</td>\n",
       "    </tr>\n",
       "    <tr>\n",
       "      <th>2800105</th>\n",
       "      <td>00306e56-e09a-4c55-946d-1964145899cf</td>\n",
       "      <td>Closed Hours-Holidays Menu Telephony EP</td>\n",
       "      <td>NaN</td>\n",
       "      <td>NaN</td>\n",
       "      <td>2025-07-23 16:33:11</td>\n",
       "      <td>NaN</td>\n",
       "      <td>NaN</td>\n",
       "      <td>System disconnected the contact</td>\n",
       "      <td>16</td>\n",
       "    </tr>\n",
       "    <tr>\n",
       "      <th>2800106</th>\n",
       "      <td>00306e56-e09a-4c55-946d-1964145899cf</td>\n",
       "      <td>Closed Hours-Holidays Menu Telephony EP</td>\n",
       "      <td>NaN</td>\n",
       "      <td>NaN</td>\n",
       "      <td>2025-07-23 16:33:11</td>\n",
       "      <td>NaN</td>\n",
       "      <td>NaN</td>\n",
       "      <td>System disconnected the contact</td>\n",
       "      <td>16</td>\n",
       "    </tr>\n",
       "    <tr>\n",
       "      <th>...</th>\n",
       "      <td>...</td>\n",
       "      <td>...</td>\n",
       "      <td>...</td>\n",
       "      <td>...</td>\n",
       "      <td>...</td>\n",
       "      <td>...</td>\n",
       "      <td>...</td>\n",
       "      <td>...</td>\n",
       "      <td>...</td>\n",
       "    </tr>\n",
       "    <tr>\n",
       "      <th>2140432</th>\n",
       "      <td>ffa9598d-640c-44e1-b470-ca7d6fa97f1e</td>\n",
       "      <td>Closed Hours-Holidays Menu Telephony EP</td>\n",
       "      <td>NaN</td>\n",
       "      <td>NaN</td>\n",
       "      <td>2025-04-02 07:59:52</td>\n",
       "      <td>NaN</td>\n",
       "      <td>NaN</td>\n",
       "      <td>System disconnected the contact</td>\n",
       "      <td>7</td>\n",
       "    </tr>\n",
       "    <tr>\n",
       "      <th>2246157</th>\n",
       "      <td>ffac6974-cf1f-4f3d-9ad5-8a9c3a53a484</td>\n",
       "      <td>Closed Hours-Holidays Menu Telephony EP</td>\n",
       "      <td>NaN</td>\n",
       "      <td>NaN</td>\n",
       "      <td>2025-04-25 07:33:10</td>\n",
       "      <td>NaN</td>\n",
       "      <td>NaN</td>\n",
       "      <td>System disconnected the contact</td>\n",
       "      <td>7</td>\n",
       "    </tr>\n",
       "    <tr>\n",
       "      <th>2246158</th>\n",
       "      <td>ffac6974-cf1f-4f3d-9ad5-8a9c3a53a484</td>\n",
       "      <td>Closed Hours-Holidays Menu Telephony EP</td>\n",
       "      <td>NaN</td>\n",
       "      <td>NaN</td>\n",
       "      <td>2025-04-25 07:33:10</td>\n",
       "      <td>NaN</td>\n",
       "      <td>NaN</td>\n",
       "      <td>System disconnected the contact</td>\n",
       "      <td>7</td>\n",
       "    </tr>\n",
       "    <tr>\n",
       "      <th>2166291</th>\n",
       "      <td>ffcee247-5ceb-49dc-aed6-ccc99aa08975</td>\n",
       "      <td>Closed Hours-Holidays Menu Telephony EP</td>\n",
       "      <td>NaN</td>\n",
       "      <td>NaN</td>\n",
       "      <td>2025-04-13 22:40:19</td>\n",
       "      <td>NaN</td>\n",
       "      <td>NaN</td>\n",
       "      <td>System disconnected the contact</td>\n",
       "      <td>22</td>\n",
       "    </tr>\n",
       "    <tr>\n",
       "      <th>2736114</th>\n",
       "      <td>ffdd1b59-9c77-496c-8321-dec23cc06bb2</td>\n",
       "      <td>Closed Hours-Holidays Menu Telephony EP</td>\n",
       "      <td>NaN</td>\n",
       "      <td>NaN</td>\n",
       "      <td>2025-07-15 02:01:48</td>\n",
       "      <td>NaN</td>\n",
       "      <td>NaN</td>\n",
       "      <td>System disconnected the contact</td>\n",
       "      <td>2</td>\n",
       "    </tr>\n",
       "  </tbody>\n",
       "</table>\n",
       "<p>4541 rows × 9 columns</p>\n",
       "</div>"
      ],
      "text/plain": [
       "                           Contact Session ID  \\\n",
       "2585014  00189604-35e3-42ed-8187-e46fdf1f0bb4   \n",
       "2278015  001d4ba0-a384-4c4b-ae8a-bdda3e1119dc   \n",
       "2405521  0029a1f0-56ed-47a8-b35f-6460a709c544   \n",
       "2800105  00306e56-e09a-4c55-946d-1964145899cf   \n",
       "2800106  00306e56-e09a-4c55-946d-1964145899cf   \n",
       "...                                       ...   \n",
       "2140432  ffa9598d-640c-44e1-b470-ca7d6fa97f1e   \n",
       "2246157  ffac6974-cf1f-4f3d-9ad5-8a9c3a53a484   \n",
       "2246158  ffac6974-cf1f-4f3d-9ad5-8a9c3a53a484   \n",
       "2166291  ffcee247-5ceb-49dc-aed6-ccc99aa08975   \n",
       "2736114  ffdd1b59-9c77-496c-8321-dec23cc06bb2   \n",
       "\n",
       "                                          EP Name Flow Name Activity Name  \\\n",
       "2585014   Closed Hours-Holidays Menu Telephony EP       NaN           NaN   \n",
       "2278015            Closed Queue Menu Telephony EP       NaN           NaN   \n",
       "2405521  Pre-Legal Menu Seniors Menu Telephony EP       NaN           NaN   \n",
       "2800105   Closed Hours-Holidays Menu Telephony EP       NaN           NaN   \n",
       "2800106   Closed Hours-Holidays Menu Telephony EP       NaN           NaN   \n",
       "...                                           ...       ...           ...   \n",
       "2140432   Closed Hours-Holidays Menu Telephony EP       NaN           NaN   \n",
       "2246157   Closed Hours-Holidays Menu Telephony EP       NaN           NaN   \n",
       "2246158   Closed Hours-Holidays Menu Telephony EP       NaN           NaN   \n",
       "2166291   Closed Hours-Holidays Menu Telephony EP       NaN           NaN   \n",
       "2736114   Closed Hours-Holidays Menu Telephony EP       NaN           NaN   \n",
       "\n",
       "        Activity Start Timestamp Queue Name Agent Name  \\\n",
       "2585014      2025-06-19 08:30:42        NaN        NaN   \n",
       "2278015      2025-04-30 11:42:02        NaN        NaN   \n",
       "2405521      2025-05-20 14:58:12        NaN        NaN   \n",
       "2800105      2025-07-23 16:33:11        NaN        NaN   \n",
       "2800106      2025-07-23 16:33:11        NaN        NaN   \n",
       "...                          ...        ...        ...   \n",
       "2140432      2025-04-02 07:59:52        NaN        NaN   \n",
       "2246157      2025-04-25 07:33:10        NaN        NaN   \n",
       "2246158      2025-04-25 07:33:10        NaN        NaN   \n",
       "2166291      2025-04-13 22:40:19        NaN        NaN   \n",
       "2736114      2025-07-15 02:01:48        NaN        NaN   \n",
       "\n",
       "                      Termination Reason  hour  \n",
       "2585014  System disconnected the contact     8  \n",
       "2278015  System disconnected the contact    11  \n",
       "2405521  System disconnected the contact    14  \n",
       "2800105  System disconnected the contact    16  \n",
       "2800106  System disconnected the contact    16  \n",
       "...                                  ...   ...  \n",
       "2140432  System disconnected the contact     7  \n",
       "2246157  System disconnected the contact     7  \n",
       "2246158  System disconnected the contact     7  \n",
       "2166291  System disconnected the contact    22  \n",
       "2736114  System disconnected the contact     2  \n",
       "\n",
       "[4541 rows x 9 columns]"
      ]
     },
     "execution_count": 29,
     "metadata": {},
     "output_type": "execute_result"
    }
   ],
   "source": [
    "sys_discon_rows = df_main.loc[df_main['Termination Reason'] == 'System disconnected the contact',:]\n",
    "sys_discon_rows"
   ]
  },
  {
   "cell_type": "code",
   "execution_count": 40,
   "metadata": {},
   "outputs": [
    {
     "data": {
      "text/html": [
       "<div>\n",
       "<style scoped>\n",
       "    .dataframe tbody tr th:only-of-type {\n",
       "        vertical-align: middle;\n",
       "    }\n",
       "\n",
       "    .dataframe tbody tr th {\n",
       "        vertical-align: top;\n",
       "    }\n",
       "\n",
       "    .dataframe thead th {\n",
       "        text-align: right;\n",
       "    }\n",
       "</style>\n",
       "<table border=\"1\" class=\"dataframe\">\n",
       "  <thead>\n",
       "    <tr style=\"text-align: right;\">\n",
       "      <th></th>\n",
       "      <th>Contact Session ID</th>\n",
       "      <th>EP Name</th>\n",
       "      <th>Flow Name</th>\n",
       "      <th>Activity Name</th>\n",
       "      <th>Activity Start Timestamp</th>\n",
       "      <th>Queue Name</th>\n",
       "      <th>Agent Name</th>\n",
       "      <th>Termination Reason</th>\n",
       "      <th>hour</th>\n",
       "    </tr>\n",
       "  </thead>\n",
       "  <tbody>\n",
       "    <tr>\n",
       "      <th>2535854</th>\n",
       "      <td>0002606f-910e-43e5-aac5-d93fefc1cead</td>\n",
       "      <td>Main Number Telephony EP</td>\n",
       "      <td>NaN</td>\n",
       "      <td>NaN</td>\n",
       "      <td>2025-06-04 10:18:06</td>\n",
       "      <td>NaN</td>\n",
       "      <td>NaN</td>\n",
       "      <td>NaN</td>\n",
       "      <td>10</td>\n",
       "    </tr>\n",
       "    <tr>\n",
       "      <th>2535855</th>\n",
       "      <td>0002606f-910e-43e5-aac5-d93fefc1cead</td>\n",
       "      <td>NaN</td>\n",
       "      <td>LACMain</td>\n",
       "      <td>NaN</td>\n",
       "      <td>2025-06-04 10:18:06</td>\n",
       "      <td>NaN</td>\n",
       "      <td>NaN</td>\n",
       "      <td>NaN</td>\n",
       "      <td>10</td>\n",
       "    </tr>\n",
       "    <tr>\n",
       "      <th>2535856</th>\n",
       "      <td>0002606f-910e-43e5-aac5-d93fefc1cead</td>\n",
       "      <td>Main Number Telephony EP</td>\n",
       "      <td>NaN</td>\n",
       "      <td>LanguageSelectionMenu</td>\n",
       "      <td>2025-06-04 10:18:06</td>\n",
       "      <td>NaN</td>\n",
       "      <td>NaN</td>\n",
       "      <td>NaN</td>\n",
       "      <td>10</td>\n",
       "    </tr>\n",
       "    <tr>\n",
       "      <th>2535857</th>\n",
       "      <td>0002606f-910e-43e5-aac5-d93fefc1cead</td>\n",
       "      <td>Main Number Telephony EP</td>\n",
       "      <td>LACMain</td>\n",
       "      <td>NaN</td>\n",
       "      <td>2025-06-04 10:18:06</td>\n",
       "      <td>NaN</td>\n",
       "      <td>NaN</td>\n",
       "      <td>NaN</td>\n",
       "      <td>10</td>\n",
       "    </tr>\n",
       "    <tr>\n",
       "      <th>2535865</th>\n",
       "      <td>0002606f-910e-43e5-aac5-d93fefc1cead</td>\n",
       "      <td>Main Number Telephony EP</td>\n",
       "      <td>NaN</td>\n",
       "      <td>LanguageSelectionMenu</td>\n",
       "      <td>2025-06-04 10:18:24</td>\n",
       "      <td>NaN</td>\n",
       "      <td>NaN</td>\n",
       "      <td>NaN</td>\n",
       "      <td>10</td>\n",
       "    </tr>\n",
       "    <tr>\n",
       "      <th>2535880</th>\n",
       "      <td>0002606f-910e-43e5-aac5-d93fefc1cead</td>\n",
       "      <td>Main Number Telephony EP</td>\n",
       "      <td>NaN</td>\n",
       "      <td>FrontDeskTransfer1</td>\n",
       "      <td>2025-06-04 10:18:42</td>\n",
       "      <td>NaN</td>\n",
       "      <td>NaN</td>\n",
       "      <td>NaN</td>\n",
       "      <td>10</td>\n",
       "    </tr>\n",
       "    <tr>\n",
       "      <th>2535881</th>\n",
       "      <td>0002606f-910e-43e5-aac5-d93fefc1cead</td>\n",
       "      <td>NaN</td>\n",
       "      <td>NaN</td>\n",
       "      <td>NaN</td>\n",
       "      <td>2025-06-04 10:18:42</td>\n",
       "      <td>Front Desk Transfer</td>\n",
       "      <td>NaN</td>\n",
       "      <td>NaN</td>\n",
       "      <td>10</td>\n",
       "    </tr>\n",
       "    <tr>\n",
       "      <th>2535882</th>\n",
       "      <td>0002606f-910e-43e5-aac5-d93fefc1cead</td>\n",
       "      <td>Main Number Telephony EP</td>\n",
       "      <td>NaN</td>\n",
       "      <td>NaN</td>\n",
       "      <td>2025-06-04 10:18:42</td>\n",
       "      <td>NaN</td>\n",
       "      <td>NaN</td>\n",
       "      <td>NaN</td>\n",
       "      <td>10</td>\n",
       "    </tr>\n",
       "    <tr>\n",
       "      <th>2535883</th>\n",
       "      <td>0002606f-910e-43e5-aac5-d93fefc1cead</td>\n",
       "      <td>Main Number Telephony EP</td>\n",
       "      <td>NaN</td>\n",
       "      <td>NaN</td>\n",
       "      <td>2025-06-04 10:18:42</td>\n",
       "      <td>Front Desk Transfer</td>\n",
       "      <td>CBT Agent</td>\n",
       "      <td>NaN</td>\n",
       "      <td>10</td>\n",
       "    </tr>\n",
       "    <tr>\n",
       "      <th>2535884</th>\n",
       "      <td>0002606f-910e-43e5-aac5-d93fefc1cead</td>\n",
       "      <td>Main Number Telephony EP</td>\n",
       "      <td>NaN</td>\n",
       "      <td>NaN</td>\n",
       "      <td>2025-06-04 10:18:45</td>\n",
       "      <td>Front Desk Transfer</td>\n",
       "      <td>CBT Agent</td>\n",
       "      <td>NaN</td>\n",
       "      <td>10</td>\n",
       "    </tr>\n",
       "    <tr>\n",
       "      <th>2536083</th>\n",
       "      <td>0002606f-910e-43e5-aac5-d93fefc1cead</td>\n",
       "      <td>Main Number Telephony EP</td>\n",
       "      <td>NaN</td>\n",
       "      <td>NaN</td>\n",
       "      <td>2025-06-04 10:26:34</td>\n",
       "      <td>Front Desk Transfer</td>\n",
       "      <td>CBT Agent</td>\n",
       "      <td>Customer Left</td>\n",
       "      <td>10</td>\n",
       "    </tr>\n",
       "  </tbody>\n",
       "</table>\n",
       "</div>"
      ],
      "text/plain": [
       "                           Contact Session ID                   EP Name  \\\n",
       "2535854  0002606f-910e-43e5-aac5-d93fefc1cead  Main Number Telephony EP   \n",
       "2535855  0002606f-910e-43e5-aac5-d93fefc1cead                       NaN   \n",
       "2535856  0002606f-910e-43e5-aac5-d93fefc1cead  Main Number Telephony EP   \n",
       "2535857  0002606f-910e-43e5-aac5-d93fefc1cead  Main Number Telephony EP   \n",
       "2535865  0002606f-910e-43e5-aac5-d93fefc1cead  Main Number Telephony EP   \n",
       "2535880  0002606f-910e-43e5-aac5-d93fefc1cead  Main Number Telephony EP   \n",
       "2535881  0002606f-910e-43e5-aac5-d93fefc1cead                       NaN   \n",
       "2535882  0002606f-910e-43e5-aac5-d93fefc1cead  Main Number Telephony EP   \n",
       "2535883  0002606f-910e-43e5-aac5-d93fefc1cead  Main Number Telephony EP   \n",
       "2535884  0002606f-910e-43e5-aac5-d93fefc1cead  Main Number Telephony EP   \n",
       "2536083  0002606f-910e-43e5-aac5-d93fefc1cead  Main Number Telephony EP   \n",
       "\n",
       "        Flow Name          Activity Name Activity Start Timestamp  \\\n",
       "2535854       NaN                    NaN      2025-06-04 10:18:06   \n",
       "2535855   LACMain                    NaN      2025-06-04 10:18:06   \n",
       "2535856       NaN  LanguageSelectionMenu      2025-06-04 10:18:06   \n",
       "2535857   LACMain                    NaN      2025-06-04 10:18:06   \n",
       "2535865       NaN  LanguageSelectionMenu      2025-06-04 10:18:24   \n",
       "2535880       NaN     FrontDeskTransfer1      2025-06-04 10:18:42   \n",
       "2535881       NaN                    NaN      2025-06-04 10:18:42   \n",
       "2535882       NaN                    NaN      2025-06-04 10:18:42   \n",
       "2535883       NaN                    NaN      2025-06-04 10:18:42   \n",
       "2535884       NaN                    NaN      2025-06-04 10:18:45   \n",
       "2536083       NaN                    NaN      2025-06-04 10:26:34   \n",
       "\n",
       "                  Queue Name Agent Name Termination Reason  hour  \n",
       "2535854                  NaN        NaN                NaN    10  \n",
       "2535855                  NaN        NaN                NaN    10  \n",
       "2535856                  NaN        NaN                NaN    10  \n",
       "2535857                  NaN        NaN                NaN    10  \n",
       "2535865                  NaN        NaN                NaN    10  \n",
       "2535880                  NaN        NaN                NaN    10  \n",
       "2535881  Front Desk Transfer        NaN                NaN    10  \n",
       "2535882                  NaN        NaN                NaN    10  \n",
       "2535883  Front Desk Transfer  CBT Agent                NaN    10  \n",
       "2535884  Front Desk Transfer  CBT Agent                NaN    10  \n",
       "2536083  Front Desk Transfer  CBT Agent      Customer Left    10  "
      ]
     },
     "execution_count": 40,
     "metadata": {},
     "output_type": "execute_result"
    }
   ],
   "source": [
    "df_main.loc[df_main['Contact Session ID'] == '0002606f-910e-43e5-aac5-d93fefc1cead',:]"
   ]
  },
  {
   "cell_type": "code",
   "execution_count": 63,
   "metadata": {},
   "outputs": [
    {
     "data": {
      "text/plain": [
       "EP Name\n",
       "Main Number Telephony EP                    26269\n",
       "Closed Queue Menu Telephony EP              16365\n",
       "Courtesy Callback Telephony EP               9172\n",
       "Legal Menu Telephony EP                      5738\n",
       "Other Legal Menu Telephony EP                4534\n",
       "Closed Hours-Holidays Menu Telephony EP      4366\n",
       "Farmworker Main Number Telephony EP          4118\n",
       "Legal Housing Menu Telephony EP              1955\n",
       "Legal Family Menu Telephony EP               1507\n",
       "Pre-Legal Menu Seniors Menu Telephony EP     1166\n",
       "All LAC Queues Telephony EP                  1148\n",
       "Legal HIV Menu Telephony EP                   527\n",
       "Intake Outdial EP                             501\n",
       "Legal Immigration Menu Telephony EP           267\n",
       "Legal Benefits Menu Telephony EP              152\n",
       "Legal Employment Menu Telephony EP             78\n",
       "Name: count, dtype: int64"
      ]
     },
     "execution_count": 63,
     "metadata": {},
     "output_type": "execute_result"
    }
   ],
   "source": [
    "cust_left_rows['EP Name'].value_counts()"
   ]
  },
  {
   "cell_type": "code",
   "execution_count": 51,
   "metadata": {},
   "outputs": [
    {
     "data": {
      "text/plain": [
       "EP Name\n",
       "Closed Hours-Holidays Menu Telephony EP     3370\n",
       "Closed Queue Menu Telephony EP               862\n",
       "Pre-Legal Menu Seniors Menu Telephony EP     309\n",
       "Name: count, dtype: int64"
      ]
     },
     "execution_count": 51,
     "metadata": {},
     "output_type": "execute_result"
    }
   ],
   "source": [
    "sys_discon_rows['EP Name'].value_counts()"
   ]
  },
  {
   "cell_type": "code",
   "execution_count": 26,
   "metadata": {},
   "outputs": [
    {
     "data": {
      "text/plain": [
       "Timestamp('2025-09-13 22:52:02')"
      ]
     },
     "execution_count": 26,
     "metadata": {},
     "output_type": "execute_result"
    }
   ],
   "source": [
    "df_main['Activity Start Timestamp'].max()"
   ]
  },
  {
   "cell_type": "code",
   "execution_count": 25,
   "metadata": {},
   "outputs": [
    {
     "data": {
      "text/plain": [
       "Timestamp('2025-09-13 22:52:02')"
      ]
     },
     "execution_count": 25,
     "metadata": {},
     "output_type": "execute_result"
    }
   ],
   "source": [
    "cust_left_rows['Activity Start Timestamp'].max()"
   ]
  },
  {
   "cell_type": "code",
   "execution_count": 33,
   "metadata": {},
   "outputs": [
    {
     "data": {
      "text/plain": [
       "EP Name\n",
       "Main Number Telephony EP                   5591\n",
       "Courtesy Callback Telephony EP             2443\n",
       "Intake Outdial EP                          2299\n",
       "Legal Menu Telephony EP                     761\n",
       "Closed Queue Menu Telephony EP              360\n",
       "Closed Hours-Holidays Menu Telephony EP     278\n",
       "All LAC Queues Telephony EP                 160\n",
       "Other Legal Menu Telephony EP               120\n",
       "Legal Family Menu Telephony EP              101\n",
       "Legal Housing Menu Telephony EP              37\n",
       "Legal Benefits Menu Telephony EP              2\n",
       "Legal HIV Menu Telephony EP                   1\n",
       "Legal Immigration Menu Telephony EP           1\n",
       "Name: count, dtype: int64"
      ]
     },
     "execution_count": 33,
     "metadata": {},
     "output_type": "execute_result"
    }
   ],
   "source": [
    "agent_left_rows['EP Name'].value_counts()"
   ]
  },
  {
   "cell_type": "code",
   "execution_count": 23,
   "metadata": {},
   "outputs": [
    {
     "data": {
      "text/plain": [
       "EP Name\n",
       "Main Number Telephony EP                    26269\n",
       "Closed Queue Menu Telephony EP              16365\n",
       "Courtesy Callback Telephony EP               9172\n",
       "Legal Menu Telephony EP                      5738\n",
       "Other Legal Menu Telephony EP                4534\n",
       "Closed Hours-Holidays Menu Telephony EP      4366\n",
       "Farmworker Main Number Telephony EP          4118\n",
       "Legal Housing Menu Telephony EP              1955\n",
       "Legal Family Menu Telephony EP               1507\n",
       "Pre-Legal Menu Seniors Menu Telephony EP     1166\n",
       "All LAC Queues Telephony EP                  1148\n",
       "Legal HIV Menu Telephony EP                   527\n",
       "Intake Outdial EP                             501\n",
       "Legal Immigration Menu Telephony EP           267\n",
       "Legal Benefits Menu Telephony EP              152\n",
       "Legal Employment Menu Telephony EP             78\n",
       "Name: count, dtype: int64"
      ]
     },
     "execution_count": 23,
     "metadata": {},
     "output_type": "execute_result"
    }
   ],
   "source": [
    "cust_left_rows['EP Name'].value_counts()"
   ]
  },
  {
   "cell_type": "code",
   "execution_count": 158,
   "metadata": {},
   "outputs": [],
   "source": [
    "call_duration = df_main.groupby('Contact Session ID')['Activity Start Timestamp'].agg(start = \"first\", end = \"last\").reset_index()\n",
    "call_duration['duration'] = call_duration['end'] - call_duration['start']"
   ]
  },
  {
   "cell_type": "code",
   "execution_count": 161,
   "metadata": {},
   "outputs": [
    {
     "data": {
      "text/html": [
       "<div>\n",
       "<style scoped>\n",
       "    .dataframe tbody tr th:only-of-type {\n",
       "        vertical-align: middle;\n",
       "    }\n",
       "\n",
       "    .dataframe tbody tr th {\n",
       "        vertical-align: top;\n",
       "    }\n",
       "\n",
       "    .dataframe thead th {\n",
       "        text-align: right;\n",
       "    }\n",
       "</style>\n",
       "<table border=\"1\" class=\"dataframe\">\n",
       "  <thead>\n",
       "    <tr style=\"text-align: right;\">\n",
       "      <th></th>\n",
       "      <th>Contact Session ID</th>\n",
       "      <th>start</th>\n",
       "      <th>end</th>\n",
       "      <th>duration</th>\n",
       "    </tr>\n",
       "  </thead>\n",
       "  <tbody>\n",
       "    <tr>\n",
       "      <th>22827</th>\n",
       "      <td>18258e65-a064-475c-842e-85e6b4a2f029</td>\n",
       "      <td>2024-06-11 08:27:04</td>\n",
       "      <td>2024-06-17 09:23:02</td>\n",
       "      <td>6 days 00:55:58</td>\n",
       "    </tr>\n",
       "    <tr>\n",
       "      <th>82684</th>\n",
       "      <td>57d5b0b0-6b44-4f0a-9914-8da87ac68917</td>\n",
       "      <td>2024-06-12 08:21:39</td>\n",
       "      <td>2024-06-18 09:17:27</td>\n",
       "      <td>6 days 00:55:48</td>\n",
       "    </tr>\n",
       "    <tr>\n",
       "      <th>174367</th>\n",
       "      <td>b9907df9-d897-42f4-8ef1-e125997dbc7d</td>\n",
       "      <td>2024-06-11 08:29:09</td>\n",
       "      <td>2024-06-17 09:23:16</td>\n",
       "      <td>6 days 00:54:07</td>\n",
       "    </tr>\n",
       "    <tr>\n",
       "      <th>64040</th>\n",
       "      <td>4419b8ca-41a8-4329-acac-09860c88343f</td>\n",
       "      <td>2024-06-12 08:29:41</td>\n",
       "      <td>2024-06-18 09:23:27</td>\n",
       "      <td>6 days 00:53:46</td>\n",
       "    </tr>\n",
       "    <tr>\n",
       "      <th>13699</th>\n",
       "      <td>0e7b020b-eb98-4764-9a7b-41e25cedc458</td>\n",
       "      <td>2024-06-12 08:15:54</td>\n",
       "      <td>2024-06-18 09:09:33</td>\n",
       "      <td>6 days 00:53:39</td>\n",
       "    </tr>\n",
       "    <tr>\n",
       "      <th>...</th>\n",
       "      <td>...</td>\n",
       "      <td>...</td>\n",
       "      <td>...</td>\n",
       "      <td>...</td>\n",
       "    </tr>\n",
       "    <tr>\n",
       "      <th>141410</th>\n",
       "      <td>96638c94-a051-4a99-8164-67e37794e822</td>\n",
       "      <td>2025-01-10 07:07:47</td>\n",
       "      <td>2025-01-10 07:07:47</td>\n",
       "      <td>0 days 00:00:00</td>\n",
       "    </tr>\n",
       "    <tr>\n",
       "      <th>112246</th>\n",
       "      <td>77664266-2f5b-4f23-b916-4536804ae127</td>\n",
       "      <td>2024-09-06 19:59:32</td>\n",
       "      <td>2024-09-06 19:59:32</td>\n",
       "      <td>0 days 00:00:00</td>\n",
       "    </tr>\n",
       "    <tr>\n",
       "      <th>75451</th>\n",
       "      <td>503b00ac-75ff-4663-8fd7-354b5dbe69af</td>\n",
       "      <td>2024-08-21 12:25:57</td>\n",
       "      <td>2024-08-21 12:25:57</td>\n",
       "      <td>0 days 00:00:00</td>\n",
       "    </tr>\n",
       "    <tr>\n",
       "      <th>112249</th>\n",
       "      <td>7766cf4c-8a95-446d-8435-6668a0e16937</td>\n",
       "      <td>2025-06-13 10:04:22</td>\n",
       "      <td>2025-06-13 10:04:22</td>\n",
       "      <td>0 days 00:00:00</td>\n",
       "    </tr>\n",
       "    <tr>\n",
       "      <th>199703</th>\n",
       "      <td>d4c417aa-679f-4340-9801-1ff00a131c16</td>\n",
       "      <td>2024-07-18 15:25:37</td>\n",
       "      <td>2024-07-18 15:25:37</td>\n",
       "      <td>0 days 00:00:00</td>\n",
       "    </tr>\n",
       "  </tbody>\n",
       "</table>\n",
       "<p>240592 rows × 4 columns</p>\n",
       "</div>"
      ],
      "text/plain": [
       "                          Contact Session ID               start  \\\n",
       "22827   18258e65-a064-475c-842e-85e6b4a2f029 2024-06-11 08:27:04   \n",
       "82684   57d5b0b0-6b44-4f0a-9914-8da87ac68917 2024-06-12 08:21:39   \n",
       "174367  b9907df9-d897-42f4-8ef1-e125997dbc7d 2024-06-11 08:29:09   \n",
       "64040   4419b8ca-41a8-4329-acac-09860c88343f 2024-06-12 08:29:41   \n",
       "13699   0e7b020b-eb98-4764-9a7b-41e25cedc458 2024-06-12 08:15:54   \n",
       "...                                      ...                 ...   \n",
       "141410  96638c94-a051-4a99-8164-67e37794e822 2025-01-10 07:07:47   \n",
       "112246  77664266-2f5b-4f23-b916-4536804ae127 2024-09-06 19:59:32   \n",
       "75451   503b00ac-75ff-4663-8fd7-354b5dbe69af 2024-08-21 12:25:57   \n",
       "112249  7766cf4c-8a95-446d-8435-6668a0e16937 2025-06-13 10:04:22   \n",
       "199703  d4c417aa-679f-4340-9801-1ff00a131c16 2024-07-18 15:25:37   \n",
       "\n",
       "                       end        duration  \n",
       "22827  2024-06-17 09:23:02 6 days 00:55:58  \n",
       "82684  2024-06-18 09:17:27 6 days 00:55:48  \n",
       "174367 2024-06-17 09:23:16 6 days 00:54:07  \n",
       "64040  2024-06-18 09:23:27 6 days 00:53:46  \n",
       "13699  2024-06-18 09:09:33 6 days 00:53:39  \n",
       "...                    ...             ...  \n",
       "141410 2025-01-10 07:07:47 0 days 00:00:00  \n",
       "112246 2024-09-06 19:59:32 0 days 00:00:00  \n",
       "75451  2024-08-21 12:25:57 0 days 00:00:00  \n",
       "112249 2025-06-13 10:04:22 0 days 00:00:00  \n",
       "199703 2024-07-18 15:25:37 0 days 00:00:00  \n",
       "\n",
       "[240592 rows x 4 columns]"
      ]
     },
     "execution_count": 161,
     "metadata": {},
     "output_type": "execute_result"
    }
   ],
   "source": [
    "call_duration.sort_values(by = 'duration', ascending= False)"
   ]
  },
  {
   "cell_type": "code",
   "execution_count": 34,
   "metadata": {},
   "outputs": [
    {
     "data": {
      "text/plain": [
       "(3222287, 9)"
      ]
     },
     "execution_count": 34,
     "metadata": {},
     "output_type": "execute_result"
    }
   ],
   "source": [
    "df_main.shape"
   ]
  },
  {
   "cell_type": "code",
   "execution_count": 38,
   "metadata": {},
   "outputs": [],
   "source": [
    "df_main.to_csv('C:/Users/akl0407/OneDrive - Northwestern University/Back up/2025-26/Fall 2025/LegalAid/car_appended.csv', index=False)"
   ]
  },
  {
   "cell_type": "code",
   "execution_count": 36,
   "metadata": {},
   "outputs": [
    {
     "data": {
      "text/plain": [
       "'C:\\\\Users\\\\akl0407\\\\Desktop\\\\Academia\\\\GitHub\\\\STAT390_LegalAid_Fall2025\\\\Internal work of Teams\\\\Krish'"
      ]
     },
     "execution_count": 36,
     "metadata": {},
     "output_type": "execute_result"
    }
   ],
   "source": [
    "pwd"
   ]
  }
 ],
 "metadata": {
  "kernelspec": {
   "display_name": "Python [conda env:base] *",
   "language": "python",
   "name": "conda-base-py"
  },
  "language_info": {
   "codemirror_mode": {
    "name": "ipython",
    "version": 3
   },
   "file_extension": ".py",
   "mimetype": "text/x-python",
   "name": "python",
   "nbconvert_exporter": "python",
   "pygments_lexer": "ipython3",
   "version": "3.12.7"
  }
 },
 "nbformat": 4,
 "nbformat_minor": 4
}
