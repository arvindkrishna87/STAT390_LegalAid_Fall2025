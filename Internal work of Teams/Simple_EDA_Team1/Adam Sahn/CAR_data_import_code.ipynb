{
 "cells": [
  {
   "cell_type": "markdown",
   "metadata": {},
   "source": [
    "Author: Krish"
   ]
  },
  {
   "cell_type": "code",
   "execution_count": 1,
   "metadata": {},
   "outputs": [],
   "source": [
    "# Importing relevant libraries\n",
    "import pandas as pd\n",
    "import matplotlib.pyplot as plt\n",
    "import seaborn as sns\n",
    "from pathlib import Path\n",
    "from datetime import datetime\n",
    "\n",
    "import warnings\n",
    "warnings.filterwarnings(\"ignore\")"
   ]
  },
  {
   "cell_type": "markdown",
   "metadata": {},
   "source": [
    "### User input required\n",
    "Put the data path on your system in the cell below"
   ]
  },
  {
   "cell_type": "code",
   "execution_count": 2,
   "metadata": {},
   "outputs": [],
   "source": [
    "data_path = \"C:\\\\Users\\\\akl0407\\\\OneDrive - Northwestern University\\\\Back up\\\\2025-26\\\\Spring 2025\\\\STAT390\\\\LegalAid\\\\Data\\\\CAR_-_EP_Flow_Activity_Queue__Agent_Names\\\\\""
   ]
  },
  {
   "cell_type": "markdown",
   "metadata": {},
   "source": [
    "### User input ends"
   ]
  },
  {
   "cell_type": "markdown",
   "metadata": {},
   "source": [
    "### Reading all filenames in the data folder"
   ]
  },
  {
   "cell_type": "code",
   "execution_count": 3,
   "metadata": {},
   "outputs": [
    {
     "data": {
      "text/html": [
       "<div>\n",
       "<style scoped>\n",
       "    .dataframe tbody tr th:only-of-type {\n",
       "        vertical-align: middle;\n",
       "    }\n",
       "\n",
       "    .dataframe tbody tr th {\n",
       "        vertical-align: top;\n",
       "    }\n",
       "\n",
       "    .dataframe thead th {\n",
       "        text-align: right;\n",
       "    }\n",
       "</style>\n",
       "<table border=\"1\" class=\"dataframe\">\n",
       "  <thead>\n",
       "    <tr style=\"text-align: right;\">\n",
       "      <th></th>\n",
       "      <th>Contact Session ID</th>\n",
       "      <th>EP Name</th>\n",
       "      <th>Flow Name</th>\n",
       "      <th>Activity Name</th>\n",
       "      <th>Activity Start Timestamp</th>\n",
       "      <th>Queue Name</th>\n",
       "      <th>Agent Name</th>\n",
       "      <th>Termination Reason</th>\n",
       "    </tr>\n",
       "  </thead>\n",
       "  <tbody>\n",
       "  </tbody>\n",
       "</table>\n",
       "</div>"
      ],
      "text/plain": [
       "Empty DataFrame\n",
       "Columns: [Contact Session ID, EP Name, Flow Name, Activity Name, Activity Start Timestamp, Queue Name, Agent Name, Termination Reason]\n",
       "Index: []"
      ]
     },
     "execution_count": 3,
     "metadata": {},
     "output_type": "execute_result"
    }
   ],
   "source": [
    "folder = Path(data_path)\n",
    "files = sorted(list(folder.glob(\"*.csv\")) + list(folder.glob(\"*.xlsx\")))\n",
    "df_main = pd.DataFrame(columns=['Contact Session ID', 'EP Name', 'Flow Name', 'Activity Name', 'Activity Start Timestamp', \n",
    "                                'Queue Name', 'Agent Name', 'Termination Reason'])\n",
    "df_main"
   ]
  },
  {
   "cell_type": "markdown",
   "metadata": {},
   "source": [
    "### Reading all data files\n",
    "The code chunk below reads and appends all the CAR data files. The first two rows of each file are blank and thus ignored."
   ]
  },
  {
   "cell_type": "code",
   "execution_count": 4,
   "metadata": {},
   "outputs": [
    {
     "name": "stdout",
     "output_type": "stream",
     "text": [
      "1 CAR - EP, Flow, Activity, Queue, & Agent Names (01-12-25 - 01-18-25) (52010, 7)\n",
      "2 CAR - EP, Flow, Activity, Queue, & Agent Names (01-19-25 - 02-01-25) (95495, 7)\n",
      "3 CAR - EP, Flow, Activity, Queue, & Agent Names (02-02-25 - 02-15-25) (90056, 7)\n",
      "4 CAR - EP, Flow, Activity, Queue, & Agent Names (02-16-25 - 03-01-25) (88186, 7)\n",
      "5 CAR - EP, Flow, Activity, Queue, & Agent Names (03-02-25 - 03-15-25) (86377, 7)\n",
      "6 CAR - EP, Flow, Activity, Queue, & Agent Names (04-07-24 - 04-20-24) (88766, 7)\n",
      "7 CAR - EP, Flow, Activity, Queue, & Agent Names (04-21-24 - 05-04-24) (89643, 7)\n",
      "8 CAR - EP, Flow, Activity, Queue, & Agent Names (05-05-24 - 05-18-24) (82575, 7)\n",
      "9 CAR - EP, Flow, Activity, Queue, & Agent Names (05-19-24 - 06-01-24) (71103, 7)\n",
      "10 CAR - EP, Flow, Activity, Queue, & Agent Names (06-02-24 - 06-15-24) (84354, 7)\n",
      "11 CAR - EP, Flow, Activity, Queue, & Agent Names (06-16-24 - 06-29-24) (82124, 7)\n",
      "12 CAR - EP, Flow, Activity, Queue, & Agent Names (06-30-24 - 07-13-24) (79752, 7)\n",
      "13 CAR - EP, Flow, Activity, Queue, & Agent Names (07-14-24 - 07-27-24) (85110, 7)\n",
      "14 CAR - EP, Flow, Activity, Queue, & Agent Names (07-28-24 - 08-10-24) (84627, 7)\n",
      "15 CAR - EP, Flow, Activity, Queue, & Agent Names (08-11-24 - 08-24-24) (91622, 7)\n",
      "16 CAR - EP, Flow, Activity, Queue, & Agent Names (08-24-24 - 09-07-24) (90040, 7)\n",
      "17 CAR - EP, Flow, Activity, Queue, & Agent Names (09-08-24 - 09-21-24) (96581, 7)\n",
      "18 CAR - EP, Flow, Activity, Queue, & Agent Names (09-22-24 - 10-05-24) (89446, 7)\n",
      "19 CAR - EP, Flow, Activity, Queue, & Agent Names (10-06-24 - 10-19-24) (81700, 7)\n",
      "20 CAR - EP, Flow, Activity, Queue, & Agent Names (10-20-24 - 11-02-24) (88430, 7)\n",
      "21 CAR - EP, Flow, Activity, Queue, & Agent Names (11-03-24 - 11-16-24) (81614, 7)\n",
      "22 CAR - EP, Flow, Activity, Queue, & Agent Names (11-17-24 - 11-30-24) (66216, 7)\n",
      "23 CAR - EP, Flow, Activity, Queue, & Agent Names (12-01-24 - 12-14-24) (92220, 7)\n",
      "24 CAR - EP, Flow, Activity, Queue, & Agent Names (12-15-24 - 12-28-24) (62143, 7)\n",
      "25 CAR - EP, Flow, Activity, Queue, & Agent Names (12-29-24 - 01-11-25) (75356, 7)\n",
      "26 CAR - EP, Flow, Activity, Queue, &amp; Agent Names 3-16 to 3-22-25 (45326, 8)\n",
      "27 CAR - EP, Flow, Activity, Queue, &amp; Agent Names 3-30 to 4-5-25 (45072, 8)\n",
      "28 CAR - EP, Flow, Activity, Queue, &amp; Agent Names 4-13 to 4-19-25 (41088, 8)\n",
      "29 CAR - EP, Flow, Activity, Queue, &amp; Agent Names 4-20 to 4-26-25 (46686, 8)\n",
      "30 CAR - EP, Flow, Activity, Queue, &amp; Agent Names 4-27 to 5-3-25 (44169, 8)\n",
      "31 CAR - EP, Flow, Activity, Queue, &amp; Agent Names 4-6 to 4-12-25 (46630, 8)\n",
      "32 CAR - EP, Flow, Activity, Queue, &amp; Agent Names 5-11 to 5-17-25 (43268, 8)\n",
      "33 CAR - EP, Flow, Activity, Queue, &amp; Agent Names 5-18 to 5-24-25 (45104, 8)\n",
      "34 CAR - EP, Flow, Activity, Queue, &amp; Agent Names 5-25 to 5-31-25 (36851, 8)\n",
      "35 CAR - EP, Flow, Activity, Queue, &amp; Agent Names 5-4 to 5-10-25 (43955, 8)\n",
      "36 CAR - EP, Flow, Activity, Queue, &amp; Agent Names 6-1 to 6-7-25 (44523, 8)\n",
      "37 CAR - EP, Flow, Activity, Queue, &amp; Agent Names 6-15 to 6-21-25 (37234, 8)\n",
      "38 CAR - EP, Flow, Activity, Queue, &amp; Agent Names 6-22 to 6-28-25 (45394, 8)\n",
      "39 CAR - EP, Flow, Activity, Queue, &amp; Agent Names 6-29 to 7-5-25 (38300, 8)\n",
      "40 CAR - EP, Flow, Activity, Queue, &amp; Agent Names 6-8 to 6-14-25 (46728, 8)\n",
      "41 CAR - EP, Flow, Activity, Queue, &amp; Agent Names 7-13 to 7-19-25 (45706, 8)\n",
      "42 CAR - EP, Flow, Activity, Queue, &amp; Agent Names 7-20 to 7-26-25 (45328, 8)\n",
      "43 CAR - EP, Flow, Activity, Queue, &amp; Agent Names 7-28 ro 8-2-25 (46237, 8)\n",
      "44 CAR - EP, Flow, Activity, Queue, &amp; Agent Names 7-6 to 7-12-25 (48707, 8)\n",
      "45 CAR - EP, Flow, Activity, Queue, &amp; Agent Names 8-10 to 8-16-25 (44095, 8)\n",
      "46 CAR - EP, Flow, Activity, Queue, &amp; Agent Names 8-17 to 8-23-25 (47062, 8)\n",
      "47 CAR - EP, Flow, Activity, Queue, &amp; Agent Names 8-24 to 8-30-25 (45113, 8)\n",
      "48 CAR - EP, Flow, Activity, Queue, &amp; Agent Names 8-3 to 8-9-25 (44706, 8)\n",
      "49 CAR - EP, Flow, Activity, Queue, &amp; Agent Names 8-31 to 9-6-25 (36177, 8)\n",
      "50 CAR - EP, Flow, Activity, Queue, &amp; Agent Names 9-7 to 9-13-25 (45304, 8)\n",
      "51 CAR - EP, Flow, Activity, Queue, &amp; Agent Names3-23 to 3-29-25 (47978, 8)\n"
     ]
    }
   ],
   "source": [
    "i=0\n",
    "for f in files:\n",
    "    i = i + 1\n",
    "    if f.suffix.lower() == \".csv\":\n",
    "        df = pd.read_csv(f, header=2, dtype=str, engine=\"python\", skip_blank_lines=False)\n",
    "    else:  # .xlsx\n",
    "        df = pd.read_excel(f, sheet_name=0, header=2, dtype=str)\n",
    "    df_main = pd.concat([df_main, df], ignore_index=True)\n",
    "    print(i, f.stem, df.shape)"
   ]
  },
  {
   "cell_type": "markdown",
   "metadata": {},
   "source": [
    "### Time datatype conversion\n",
    "The code chunk below converts time from string to datetime datatype."
   ]
  },
  {
   "cell_type": "code",
   "execution_count": null,
   "metadata": {},
   "outputs": [],
   "source": [
    "df_main[\"Activity Start Timestamp\"] = df_main[\"Activity Start Timestamp\"].apply(\n",
    "    lambda x: datetime.strptime(x, \"%Y/%m/%d %I:%M:%S %p\"))"
   ]
  },
  {
   "cell_type": "code",
   "execution_count": 6,
   "metadata": {},
   "outputs": [
    {
     "data": {
      "text/plain": [
       "Contact Session ID                  object\n",
       "EP Name                             object\n",
       "Flow Name                           object\n",
       "Activity Name                       object\n",
       "Activity Start Timestamp    datetime64[ns]\n",
       "Queue Name                          object\n",
       "Agent Name                          object\n",
       "Termination Reason                  object\n",
       "dtype: object"
      ]
     },
     "execution_count": 6,
     "metadata": {},
     "output_type": "execute_result"
    }
   ],
   "source": [
    "# Checking the datatype of all columns\n",
    "df_main.dtypes"
   ]
  },
  {
   "cell_type": "code",
   "execution_count": 7,
   "metadata": {},
   "outputs": [],
   "source": [
    "# Creating a new column 'hour' as it will be useful to visualize peak calling hours\n",
    "df_main[\"hour\"] = df_main[\"Activity Start Timestamp\"].dt.hour"
   ]
  }
 ],
 "metadata": {
  "kernelspec": {
   "display_name": "Python [conda env:base] *",
   "language": "python",
   "name": "conda-base-py"
  },
  "language_info": {
   "codemirror_mode": {
    "name": "ipython",
    "version": 3
   },
   "file_extension": ".py",
   "mimetype": "text/x-python",
   "name": "python",
   "nbconvert_exporter": "python",
   "pygments_lexer": "ipython3",
   "version": "3.12.7"
  }
 },
 "nbformat": 4,
 "nbformat_minor": 4
}
