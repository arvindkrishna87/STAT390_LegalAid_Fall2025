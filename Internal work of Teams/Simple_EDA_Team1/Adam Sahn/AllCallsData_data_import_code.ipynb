{
 "cells": [
  {
   "cell_type": "markdown",
   "id": "60a3e6d6-3b69-4490-9903-6c1a2abc58a8",
   "metadata": {},
   "source": [
    "Author: Krish"
   ]
  },
  {
   "cell_type": "code",
   "execution_count": 1,
   "id": "029ea083-9c61-4b40-acd7-097a661bec07",
   "metadata": {},
   "outputs": [],
   "source": [
    "# Libraries\n",
    "import pandas as pd\n",
    "import matplotlib.pyplot as plt\n",
    "import seaborn as sns\n",
    "from pandas.api.types import CategoricalDtype\n",
    "from pathlib import Path\n",
    "from functools import reduce"
   ]
  },
  {
   "cell_type": "markdown",
   "id": "809893e2-d2f0-4012-92e1-9aff90d70a13",
   "metadata": {},
   "source": [
    "### User input required\n",
    "Put the data path on your system in the cell below"
   ]
  },
  {
   "cell_type": "code",
   "execution_count": 4,
   "id": "84bc8d91-ae1f-453a-a7e8-22fb11c15a3e",
   "metadata": {},
   "outputs": [],
   "source": [
    "# Enter data path\n",
    "data_path = \"C:/Users/adams/Documents/GitHub/STAT390_LegalAid_Fall2025/Internal work of Teams/Simple_EDA_Team1/Adam Sahn/data\""
   ]
  },
  {
   "cell_type": "markdown",
   "id": "36936e65-d96e-418e-8039-73ddbd912435",
   "metadata": {},
   "source": [
    "### User input ends"
   ]
  },
  {
   "cell_type": "markdown",
   "id": "4a6a9b1a-84db-4635-a84b-42b226727581",
   "metadata": {},
   "source": [
    "### Reading all filenames in the data folder"
   ]
  },
  {
   "cell_type": "code",
   "execution_count": 5,
   "id": "97708887-a070-4c38-9192-b1951a7deffa",
   "metadata": {},
   "outputs": [],
   "source": [
    "folder = Path(data_path)\n",
    "files = sorted(list(folder.glob(\"*.csv\")) + list(folder.glob(\"*.xlsx\")))"
   ]
  },
  {
   "cell_type": "markdown",
   "id": "80e5ab88-1bb8-4ff5-9236-997c6ec9a5ed",
   "metadata": {},
   "source": [
    "### Reading first 5 rows of all data files\n",
    "The code chunk below reads the first 5 rows of all data files. This is to check the columns that are present in all the data files."
   ]
  },
  {
   "cell_type": "code",
   "execution_count": 6,
   "id": "ba42ed65-1b39-43aa-a105-dbdef528eda2",
   "metadata": {},
   "outputs": [
    {
     "name": "stdout",
     "output_type": "stream",
     "text": [
      "0 April 2024 (5, 63)\n",
      "1 April 2025 (5, 63)\n",
      "2 August 2024 (5, 57)\n",
      "3 August 2025 (5, 63)\n",
      "4 December 2024 (5, 55)\n",
      "5 February 2025 (5, 63)\n",
      "6 January 2025 (5, 64)\n",
      "7 July 2024 (5, 55)\n",
      "8 July 2025 (5, 63)\n",
      "9 June 2024 (5, 63)\n",
      "10 June 2025 (5, 63)\n",
      "11 March 2025 (5, 64)\n",
      "12 May 2024 (5, 63)\n",
      "13 May 2025 (5, 63)\n",
      "14 November 2024 (5, 63)\n",
      "15 October 2024 (5, 55)\n",
      "16 September 2024 (5, 55)\n"
     ]
    }
   ],
   "source": [
    "i=0; df = []\n",
    "for f in files:\n",
    "    if f.suffix.lower() == \".csv\":\n",
    "        df.append(pd.read_csv(f, header=0, dtype=str, engine=\"python\", skip_blank_lines=False, nrows = 5))\n",
    "    else:  # .xlsx\n",
    "        df.append(pd.read_excel(f, sheet_name=0, header=0, dtype=str, nrows = 5))\n",
    "    #df_main = pd.concat([df_main, df], ignore_index=True)\n",
    "    print(i, f.stem, df[i].shape)\n",
    "    i = i + 1"
   ]
  },
  {
   "cell_type": "markdown",
   "id": "37b406ce-c71a-42a0-a84d-b24756a403c4",
   "metadata": {},
   "source": [
    "The code chunk below identifies the columns missing in at least one DataFrame."
   ]
  },
  {
   "cell_type": "code",
   "execution_count": 7,
   "id": "a2761289-be06-416a-921e-29942fe9e447",
   "metadata": {},
   "outputs": [
    {
     "name": "stdout",
     "output_type": "stream",
     "text": [
      "Columns missing from at least one dataframe: {'Column1', 'External caller ID number', 'Public Called IP Address', 'Public Calling IP Address', 'Call Recording Trigger', 'Call Recording Result', 'Device owner UUID', 'Call Recording Platform Name', 'Redirecting party UUID', 'PSTN vendor name2', 'User'}\n"
     ]
    }
   ],
   "source": [
    "all_cols = reduce(lambda x, y: x | set(y.columns), df[1:], set(df[0].columns))\n",
    "common_cols = reduce(lambda x, y: x & set(y.columns), df[1:], set(df[0].columns))\n",
    "common_cols\n",
    "not_in_all = all_cols - common_cols\n",
    "print(\"Columns missing from at least one dataframe:\", not_in_all)"
   ]
  },
  {
   "cell_type": "markdown",
   "id": "9fb121e0-fd65-42a1-ba1c-23c933465d0c",
   "metadata": {},
   "source": [
    "The code chunk below prints the columns present in all the data files."
   ]
  },
  {
   "cell_type": "code",
   "execution_count": 8,
   "id": "42a877f2-4ed4-4752-b07c-2902b4c960e6",
   "metadata": {},
   "outputs": [
    {
     "name": "stdout",
     "output_type": "stream",
     "text": [
      "{'International Country', 'User number', 'Local call ID', 'Inbound trunk', 'Final local sessionID', 'PSTN provider ID', 'Redirect reason', 'Client version', 'Correlation ID', 'Client type', 'OS type', 'Org UUID', 'Ring duration', 'Answered', 'Related call ID', 'PSTN vendor name', 'Site timezone', 'Local SessionID', 'Called number', 'Call type', 'Call outcome', 'Report time', 'PSTN vendor Org ID', 'User type', 'Authorization code', 'Start time', 'Outbound trunk', 'Report ID', 'Site UUID', 'Site main number', 'Answer Indicator', 'Original reason', 'Call ID', 'Duration', 'Redirecting number', 'Remote SessionID', 'Transfer related call ID', 'Answer time', 'Remote call ID', 'Sub client type', 'Network call ID', 'Final remote sessionID', 'Release time', 'Device Mac', 'Route group', 'Model', 'Department ID', 'Call transfer time', 'User UUID', 'Related reason', 'Location', 'Direction', 'Call outcome reason', 'PSTN legal entity', 'Releasing party'}\n"
     ]
    }
   ],
   "source": [
    "print(common_cols)"
   ]
  },
  {
   "cell_type": "markdown",
   "id": "1786e240-5a8e-4d4d-a5de-c6e671bf7599",
   "metadata": {},
   "source": [
    "### Reading all the data files\n",
    "All the datafiles are read with the common columns read first."
   ]
  },
  {
   "cell_type": "code",
   "execution_count": 9,
   "id": "c485907b-d77e-4ac8-b8a0-d2cde7276450",
   "metadata": {},
   "outputs": [],
   "source": [
    "df_main = pd.DataFrame(columns=list(common_cols))"
   ]
  },
  {
   "cell_type": "code",
   "execution_count": 10,
   "id": "6945c983-8a77-4a57-a9b1-0ba7162d1c14",
   "metadata": {},
   "outputs": [
    {
     "name": "stdout",
     "output_type": "stream",
     "text": [
      "0 April 2024 (56662, 63)\n",
      "1 April 2025 (63636, 63)\n",
      "2 August 2024 (63262, 57)\n",
      "3 August 2025 (57071, 63)\n",
      "4 December 2024 (49445, 55)\n",
      "5 February 2025 (63669, 63)\n",
      "6 January 2025 (62623, 64)\n",
      "7 July 2024 (62292, 55)\n",
      "8 July 2025 (60438, 63)\n",
      "9 June 2024 (56763, 63)\n",
      "10 June 2025 (54598, 63)\n",
      "11 March 2025 (59149, 64)\n",
      "12 May 2024 (62944, 63)\n",
      "13 May 2025 (55428, 63)\n",
      "14 November 2024 (49953, 63)\n",
      "15 October 2024 (62354, 55)\n",
      "16 September 2024 (61250, 55)\n"
     ]
    }
   ],
   "source": [
    "i=0; \n",
    "for f in files:\n",
    "    if f.suffix.lower() == \".csv\":\n",
    "        df = pd.read_csv(f, header=0, dtype=str, engine=\"python\", skip_blank_lines=False)\n",
    "    else:  # .xlsx\n",
    "        df = pd.read_excel(f, sheet_name=0, header=0, dtype=str)\n",
    "    df_main = pd.concat([df_main, df], ignore_index=True)\n",
    "    print(i, f.stem, df.shape)\n",
    "    i = i + 1"
   ]
  },
  {
   "cell_type": "markdown",
   "id": "4ab844b2-cf63-4c72-a1c4-e1fe1e30c643",
   "metadata": {},
   "source": [
    "### Converting date to datetime format"
   ]
  },
  {
   "cell_type": "code",
   "execution_count": 11,
   "id": "292205fb-3d06-49ef-a491-8b2e43810ba5",
   "metadata": {},
   "outputs": [],
   "source": [
    "df_main[\"Start time\"] = pd.to_datetime(df_main[\"Start time\"], utc=True)"
   ]
  }
 ],
 "metadata": {
  "kernelspec": {
   "display_name": "Python 3 (ipykernel)",
   "language": "python",
   "name": "python3"
  },
  "language_info": {
   "codemirror_mode": {
    "name": "ipython",
    "version": 3
   },
   "file_extension": ".py",
   "mimetype": "text/x-python",
   "name": "python",
   "nbconvert_exporter": "python",
   "pygments_lexer": "ipython3",
   "version": "3.11.4"
  }
 },
 "nbformat": 4,
 "nbformat_minor": 5
}
