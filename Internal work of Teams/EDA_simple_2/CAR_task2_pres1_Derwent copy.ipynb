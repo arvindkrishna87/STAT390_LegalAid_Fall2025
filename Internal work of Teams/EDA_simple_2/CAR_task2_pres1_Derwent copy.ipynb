{
 "cells": [
  {
   "cell_type": "markdown",
   "metadata": {},
   "source": [
    "Author: Sabrina Derwent"
   ]
  },
  {
   "cell_type": "code",
   "execution_count": 2,
   "metadata": {},
   "outputs": [],
   "source": [
    "# Importing relevant libraries\n",
    "import pandas as pd\n",
    "import matplotlib.pyplot as plt\n",
    "import seaborn as sns\n",
    "from pathlib import Path\n",
    "from datetime import datetime\n",
    "\n",
    "import warnings\n",
    "warnings.filterwarnings(\"ignore\")"
   ]
  },
  {
   "cell_type": "markdown",
   "metadata": {},
   "source": [
    "### User input required\n",
    "Put the data path on your system in the cell below"
   ]
  },
  {
   "cell_type": "code",
   "execution_count": 3,
   "metadata": {},
   "outputs": [],
   "source": [
    "#data_path = \"C:\\\\Users\\\\akl0407\\\\OneDrive - Northwestern University\\\\Back up\\\\2025-26\\\\Spring 2025\\\\STAT390\\\\LegalAid\\\\Data\\\\CAR_-_EP_Flow_Activity_Queue__Agent_Names\\\\\""
   ]
  },
  {
   "cell_type": "code",
   "execution_count": 4,
   "metadata": {},
   "outputs": [],
   "source": [
    "data_path = \"/Users/sabrinaderwent/Desktop/fall25/stat390/CAR_datasets/\""
   ]
  },
  {
   "cell_type": "markdown",
   "metadata": {},
   "source": [
    "### User input ends"
   ]
  },
  {
   "cell_type": "markdown",
   "metadata": {},
   "source": [
    "### Reading all filenames in the data folder"
   ]
  },
  {
   "cell_type": "code",
   "execution_count": 5,
   "metadata": {},
   "outputs": [
    {
     "data": {
      "text/html": [
       "<div>\n",
       "<style scoped>\n",
       "    .dataframe tbody tr th:only-of-type {\n",
       "        vertical-align: middle;\n",
       "    }\n",
       "\n",
       "    .dataframe tbody tr th {\n",
       "        vertical-align: top;\n",
       "    }\n",
       "\n",
       "    .dataframe thead th {\n",
       "        text-align: right;\n",
       "    }\n",
       "</style>\n",
       "<table border=\"1\" class=\"dataframe\">\n",
       "  <thead>\n",
       "    <tr style=\"text-align: right;\">\n",
       "      <th></th>\n",
       "      <th>Contact Session ID</th>\n",
       "      <th>EP Name</th>\n",
       "      <th>Flow Name</th>\n",
       "      <th>Activity Name</th>\n",
       "      <th>Activity Start Timestamp</th>\n",
       "      <th>Queue Name</th>\n",
       "      <th>Agent Name</th>\n",
       "      <th>Termination Reason</th>\n",
       "    </tr>\n",
       "  </thead>\n",
       "  <tbody>\n",
       "  </tbody>\n",
       "</table>\n",
       "</div>"
      ],
      "text/plain": [
       "Empty DataFrame\n",
       "Columns: [Contact Session ID, EP Name, Flow Name, Activity Name, Activity Start Timestamp, Queue Name, Agent Name, Termination Reason]\n",
       "Index: []"
      ]
     },
     "execution_count": 5,
     "metadata": {},
     "output_type": "execute_result"
    }
   ],
   "source": [
    "folder = Path(data_path)\n",
    "files = sorted(list(folder.glob(\"*.csv\")) + list(folder.glob(\"*.xlsx\")))\n",
    "df_main = pd.DataFrame(columns=['Contact Session ID', 'EP Name', 'Flow Name', 'Activity Name', 'Activity Start Timestamp', \n",
    "                                'Queue Name', 'Agent Name', 'Termination Reason'])\n",
    "df_main"
   ]
  },
  {
   "cell_type": "markdown",
   "metadata": {},
   "source": [
    "### Reading all data files\n",
    "The code chunk below reads and appends all the CAR data files. The first two rows of each file are blank and thus ignored."
   ]
  },
  {
   "cell_type": "code",
   "execution_count": 6,
   "metadata": {},
   "outputs": [
    {
     "name": "stdout",
     "output_type": "stream",
     "text": [
      "1 CAR - EP, Flow, Activity, Queue, & Agent Names (01-12-25 - 01-18-25) (52010, 7)\n",
      "2 CAR - EP, Flow, Activity, Queue, & Agent Names (01-19-25 - 02-01-25) (95495, 7)\n",
      "3 CAR - EP, Flow, Activity, Queue, & Agent Names (02-02-25 - 02-15-25) (90056, 7)\n",
      "4 CAR - EP, Flow, Activity, Queue, & Agent Names (02-16-25 - 03-01-25) (88186, 7)\n",
      "5 CAR - EP, Flow, Activity, Queue, & Agent Names (03-02-25 - 03-15-25) (86377, 7)\n",
      "6 CAR - EP, Flow, Activity, Queue, & Agent Names (04-07-24 - 04-20-24) (88766, 7)\n",
      "7 CAR - EP, Flow, Activity, Queue, & Agent Names (04-21-24 - 05-04-24) (89643, 7)\n",
      "8 CAR - EP, Flow, Activity, Queue, & Agent Names (05-05-24 - 05-18-24) (82575, 7)\n",
      "9 CAR - EP, Flow, Activity, Queue, & Agent Names (05-19-24 - 06-01-24) (71103, 7)\n",
      "10 CAR - EP, Flow, Activity, Queue, & Agent Names (06-02-24 - 06-15-24) (84354, 7)\n",
      "11 CAR - EP, Flow, Activity, Queue, & Agent Names (06-16-24 - 06-29-24) (82124, 7)\n",
      "12 CAR - EP, Flow, Activity, Queue, & Agent Names (06-30-24 - 07-13-24) (79752, 7)\n",
      "13 CAR - EP, Flow, Activity, Queue, & Agent Names (07-14-24 - 07-27-24) (85110, 7)\n",
      "14 CAR - EP, Flow, Activity, Queue, & Agent Names (07-28-24 - 08-10-24) (84627, 7)\n",
      "15 CAR - EP, Flow, Activity, Queue, & Agent Names (08-11-24 - 08-24-24) (91622, 7)\n",
      "16 CAR - EP, Flow, Activity, Queue, & Agent Names (08-24-24 - 09-07-24) (90040, 7)\n",
      "17 CAR - EP, Flow, Activity, Queue, & Agent Names (09-08-24 - 09-21-24) (96581, 7)\n",
      "18 CAR - EP, Flow, Activity, Queue, & Agent Names (09-22-24 - 10-05-24) (89446, 7)\n",
      "19 CAR - EP, Flow, Activity, Queue, & Agent Names (10-06-24 - 10-19-24) (81700, 7)\n",
      "20 CAR - EP, Flow, Activity, Queue, & Agent Names (10-20-24 - 11-02-24) (88430, 7)\n",
      "21 CAR - EP, Flow, Activity, Queue, & Agent Names (11-03-24 - 11-16-24) (81614, 7)\n",
      "22 CAR - EP, Flow, Activity, Queue, & Agent Names (11-17-24 - 11-30-24) (66216, 7)\n",
      "23 CAR - EP, Flow, Activity, Queue, & Agent Names (12-01-24 - 12-14-24) (92220, 7)\n",
      "24 CAR - EP, Flow, Activity, Queue, & Agent Names (12-15-24 - 12-28-24) (62143, 7)\n",
      "25 CAR - EP, Flow, Activity, Queue, & Agent Names (12-29-24 - 01-11-25) (75356, 7)\n",
      "26 CAR - EP, Flow, Activity, Queue, &amp; Agent Names 3-16 to 3-22-25 (45326, 8)\n",
      "27 CAR - EP, Flow, Activity, Queue, &amp; Agent Names 3-30 to 4-5-25 (45072, 8)\n",
      "28 CAR - EP, Flow, Activity, Queue, &amp; Agent Names 4-13 to 4-19-25 (41088, 8)\n",
      "29 CAR - EP, Flow, Activity, Queue, &amp; Agent Names 4-20 to 4-26-25 (46686, 8)\n",
      "30 CAR - EP, Flow, Activity, Queue, &amp; Agent Names 4-27 to 5-3-25 (44169, 8)\n",
      "31 CAR - EP, Flow, Activity, Queue, &amp; Agent Names 4-6 to 4-12-25 (46630, 8)\n",
      "32 CAR - EP, Flow, Activity, Queue, &amp; Agent Names 5-11 to 5-17-25 (43268, 8)\n",
      "33 CAR - EP, Flow, Activity, Queue, &amp; Agent Names 5-18 to 5-24-25 (45104, 8)\n",
      "34 CAR - EP, Flow, Activity, Queue, &amp; Agent Names 5-25 to 5-31-25 (36851, 8)\n",
      "35 CAR - EP, Flow, Activity, Queue, &amp; Agent Names 5-4 to 5-10-25 (43955, 8)\n",
      "36 CAR - EP, Flow, Activity, Queue, &amp; Agent Names 6-1 to 6-7-25 (44523, 8)\n",
      "37 CAR - EP, Flow, Activity, Queue, &amp; Agent Names 6-15 to 6-21-25 (37234, 8)\n",
      "38 CAR - EP, Flow, Activity, Queue, &amp; Agent Names 6-22 to 6-28-25 (45394, 8)\n",
      "39 CAR - EP, Flow, Activity, Queue, &amp; Agent Names 6-29 to 7-5-25 (38300, 8)\n",
      "40 CAR - EP, Flow, Activity, Queue, &amp; Agent Names 6-8 to 6-14-25 (46728, 8)\n",
      "41 CAR - EP, Flow, Activity, Queue, &amp; Agent Names 7-13 to 7-19-25 (45706, 8)\n",
      "42 CAR - EP, Flow, Activity, Queue, &amp; Agent Names 7-20 to 7-26-25 (45328, 8)\n",
      "43 CAR - EP, Flow, Activity, Queue, &amp; Agent Names 7-28 ro 8-2-25 (46237, 8)\n",
      "44 CAR - EP, Flow, Activity, Queue, &amp; Agent Names 7-6 to 7-12-25 (48707, 8)\n",
      "45 CAR - EP, Flow, Activity, Queue, &amp; Agent Names 8-10 to 8-16-25 (44095, 8)\n",
      "46 CAR - EP, Flow, Activity, Queue, &amp; Agent Names 8-17 to 8-23-25 (47062, 8)\n",
      "47 CAR - EP, Flow, Activity, Queue, &amp; Agent Names 8-24 to 8-30-25 (45113, 8)\n",
      "48 CAR - EP, Flow, Activity, Queue, &amp; Agent Names 8-3 to 8-9-25 (44706, 8)\n",
      "49 CAR - EP, Flow, Activity, Queue, &amp; Agent Names 8-31 to 9-6-25 (36177, 8)\n",
      "50 CAR - EP, Flow, Activity, Queue, &amp; Agent Names 9-7 to 9-13-25 (45304, 8)\n",
      "51 CAR - EP, Flow, Activity, Queue, &amp; Agent Names3-23 to 3-29-25 (47978, 8)\n"
     ]
    }
   ],
   "source": [
    "i=0\n",
    "for f in files:\n",
    "    i = i + 1\n",
    "    if f.suffix.lower() == \".csv\":\n",
    "        df = pd.read_csv(f, header=2, dtype=str, engine=\"python\", skip_blank_lines=False)\n",
    "    else:  # .xlsx\n",
    "        df = pd.read_excel(f, sheet_name=0, header=2, dtype=str)\n",
    "    df_main = pd.concat([df_main, df], ignore_index=True)\n",
    "    print(i, f.stem, df.shape)"
   ]
  },
  {
   "cell_type": "code",
   "execution_count": 7,
   "metadata": {},
   "outputs": [
    {
     "data": {
      "text/html": [
       "<div>\n",
       "<style scoped>\n",
       "    .dataframe tbody tr th:only-of-type {\n",
       "        vertical-align: middle;\n",
       "    }\n",
       "\n",
       "    .dataframe tbody tr th {\n",
       "        vertical-align: top;\n",
       "    }\n",
       "\n",
       "    .dataframe thead th {\n",
       "        text-align: right;\n",
       "    }\n",
       "</style>\n",
       "<table border=\"1\" class=\"dataframe\">\n",
       "  <thead>\n",
       "    <tr style=\"text-align: right;\">\n",
       "      <th></th>\n",
       "      <th>Contact Session ID</th>\n",
       "      <th>EP Name</th>\n",
       "      <th>Flow Name</th>\n",
       "      <th>Activity Name</th>\n",
       "      <th>Activity Start Timestamp</th>\n",
       "      <th>Queue Name</th>\n",
       "      <th>Agent Name</th>\n",
       "      <th>Termination Reason</th>\n",
       "    </tr>\n",
       "  </thead>\n",
       "  <tbody>\n",
       "    <tr>\n",
       "      <th>0</th>\n",
       "      <td>001a3748-8d50-4550-8461-33547983deb0</td>\n",
       "      <td>Main Number Telephony EP</td>\n",
       "      <td>NaN</td>\n",
       "      <td>NaN</td>\n",
       "      <td>2025/01/14 12:39:32 PM</td>\n",
       "      <td>NaN</td>\n",
       "      <td>NaN</td>\n",
       "      <td>NaN</td>\n",
       "    </tr>\n",
       "    <tr>\n",
       "      <th>1</th>\n",
       "      <td>001a3748-8d50-4550-8461-33547983deb0</td>\n",
       "      <td>NaN</td>\n",
       "      <td>LACMain</td>\n",
       "      <td>NaN</td>\n",
       "      <td>2025/01/14 12:39:32 PM</td>\n",
       "      <td>NaN</td>\n",
       "      <td>NaN</td>\n",
       "      <td>NaN</td>\n",
       "    </tr>\n",
       "    <tr>\n",
       "      <th>2</th>\n",
       "      <td>001a3748-8d50-4550-8461-33547983deb0</td>\n",
       "      <td>Main Number Telephony EP</td>\n",
       "      <td>NaN</td>\n",
       "      <td>LanguageSelectionMenu</td>\n",
       "      <td>2025/01/14 12:39:32 PM</td>\n",
       "      <td>NaN</td>\n",
       "      <td>NaN</td>\n",
       "      <td>NaN</td>\n",
       "    </tr>\n",
       "    <tr>\n",
       "      <th>3</th>\n",
       "      <td>001a3748-8d50-4550-8461-33547983deb0</td>\n",
       "      <td>Main Number Telephony EP</td>\n",
       "      <td>LACMain</td>\n",
       "      <td>NaN</td>\n",
       "      <td>2025/01/14 12:39:32 PM</td>\n",
       "      <td>NaN</td>\n",
       "      <td>NaN</td>\n",
       "      <td>NaN</td>\n",
       "    </tr>\n",
       "    <tr>\n",
       "      <th>4</th>\n",
       "      <td>001a3748-8d50-4550-8461-33547983deb0</td>\n",
       "      <td>Main Number Telephony EP</td>\n",
       "      <td>NaN</td>\n",
       "      <td>MainMenu</td>\n",
       "      <td>2025/01/14 12:39:45 PM</td>\n",
       "      <td>NaN</td>\n",
       "      <td>NaN</td>\n",
       "      <td>NaN</td>\n",
       "    </tr>\n",
       "  </tbody>\n",
       "</table>\n",
       "</div>"
      ],
      "text/plain": [
       "                     Contact Session ID                   EP Name Flow Name  \\\n",
       "0  001a3748-8d50-4550-8461-33547983deb0  Main Number Telephony EP       NaN   \n",
       "1  001a3748-8d50-4550-8461-33547983deb0                       NaN   LACMain   \n",
       "2  001a3748-8d50-4550-8461-33547983deb0  Main Number Telephony EP       NaN   \n",
       "3  001a3748-8d50-4550-8461-33547983deb0  Main Number Telephony EP   LACMain   \n",
       "4  001a3748-8d50-4550-8461-33547983deb0  Main Number Telephony EP       NaN   \n",
       "\n",
       "           Activity Name Activity Start Timestamp Queue Name Agent Name  \\\n",
       "0                    NaN   2025/01/14 12:39:32 PM        NaN        NaN   \n",
       "1                    NaN   2025/01/14 12:39:32 PM        NaN        NaN   \n",
       "2  LanguageSelectionMenu   2025/01/14 12:39:32 PM        NaN        NaN   \n",
       "3                    NaN   2025/01/14 12:39:32 PM        NaN        NaN   \n",
       "4               MainMenu   2025/01/14 12:39:45 PM        NaN        NaN   \n",
       "\n",
       "  Termination Reason  \n",
       "0                NaN  \n",
       "1                NaN  \n",
       "2                NaN  \n",
       "3                NaN  \n",
       "4                NaN  "
      ]
     },
     "execution_count": 7,
     "metadata": {},
     "output_type": "execute_result"
    }
   ],
   "source": [
    "df_main.head()\n"
   ]
  },
  {
   "cell_type": "markdown",
   "metadata": {},
   "source": [
    "### Time datatype conversion\n",
    "The code chunk below converts time from string to datetime datatype."
   ]
  },
  {
   "cell_type": "code",
   "execution_count": 8,
   "metadata": {},
   "outputs": [],
   "source": [
    "df_main[\"Activity Start Timestamp\"] = df_main[\"Activity Start Timestamp\"].apply(\n",
    "    lambda x: datetime.strptime(x, \"%Y/%m/%d %I:%M:%S %p\"))"
   ]
  },
  {
   "cell_type": "code",
   "execution_count": 9,
   "metadata": {},
   "outputs": [
    {
     "data": {
      "text/plain": [
       "Contact Session ID                  object\n",
       "EP Name                             object\n",
       "Flow Name                           object\n",
       "Activity Name                       object\n",
       "Activity Start Timestamp    datetime64[ns]\n",
       "Queue Name                          object\n",
       "Agent Name                          object\n",
       "Termination Reason                  object\n",
       "dtype: object"
      ]
     },
     "execution_count": 9,
     "metadata": {},
     "output_type": "execute_result"
    }
   ],
   "source": [
    "# Checking the datatype of all columns\n",
    "df_main.dtypes"
   ]
  },
  {
   "cell_type": "code",
   "execution_count": 10,
   "metadata": {},
   "outputs": [],
   "source": [
    "# Creating a new column 'hour' as it will be useful to visualize peak calling hours\n",
    "df_main[\"hour\"] = df_main[\"Activity Start Timestamp\"].dt.hour"
   ]
  },
  {
   "cell_type": "code",
   "execution_count": 11,
   "metadata": {},
   "outputs": [],
   "source": [
    "df_main[\"date\"] = df_main[\"Activity Start Timestamp\"].dt.date\n",
    "df_main[\"date\"] = pd.to_datetime(df_main[\"date\"])"
   ]
  },
  {
   "cell_type": "markdown",
   "metadata": {},
   "source": [
    "#### Exploring Menu Options in Call Journey"
   ]
  },
  {
   "cell_type": "code",
   "execution_count": 12,
   "metadata": {},
   "outputs": [
    {
     "data": {
      "text/plain": [
       "array([nan, 'Customer Left', 'Queue Timeout', 'CUSTOMER_UNAVAILABLE',\n",
       "       'System disconnected the contact', 'Agent Left',\n",
       "       'RONA_TIMER_EXPIRED', 'RONA Timer Expired',\n",
       "       'MAX_CALLBACK_RETRY_LIMIT_REACHED', 'NO_ANSWER_FROM_CUSTOMER',\n",
       "       'NO_ANSWER_FROM_AGENT', 'System Error', 'AGENT_ENDS',\n",
       "       'CUSTOMER_BUSY', 'NO_ANSWER_USER', 'NO_ANSWER_CUSTOMER',\n",
       "       'USER_UNAVAILABLE', 'Participant Invite timer expired',\n",
       "       'CONTACT_CALLBACK_IN_PROGRESS', 'OUTDIAL_FAILED', 'USER_BUSY',\n",
       "       'AGENT_UNAVAILABLE', 'MEDIA_MANAGER_INTERNAL_ERROR',\n",
       "       'CHANNEL_FAILURE', 'USER_DECLINED', 'AGENT_BUSY'], dtype=object)"
      ]
     },
     "execution_count": 12,
     "metadata": {},
     "output_type": "execute_result"
    }
   ],
   "source": [
    "df_main[\"Termination Reason\"].unique()"
   ]
  },
  {
   "cell_type": "code",
   "execution_count": 13,
   "metadata": {},
   "outputs": [
    {
     "data": {
      "text/plain": [
       "array(['Main Number Telephony EP', nan,\n",
       "       'Pre-Legal Menu Seniors Menu Telephony EP',\n",
       "       'Legal Menu Telephony EP', 'Legal Employment Menu Telephony EP',\n",
       "       'Closed Queue Menu Telephony EP', 'Legal Family Menu Telephony EP',\n",
       "       'Other Legal Menu Telephony EP', 'Legal Housing Menu Telephony EP',\n",
       "       'Intake Outdial EP', 'Legal Benefits Menu Telephony EP',\n",
       "       'Farmworker Main Number Telephony EP',\n",
       "       'Closed Hours-Holidays Menu Telephony EP',\n",
       "       'All LAC Queues Telephony EP', 'Courtesy Callback Telephony EP',\n",
       "       'Legal Immigration Menu Telephony EP',\n",
       "       'Legal HIV Menu Telephony EP'], dtype=object)"
      ]
     },
     "execution_count": 13,
     "metadata": {},
     "output_type": "execute_result"
    }
   ],
   "source": [
    "df_main[\"EP Name\"].unique()"
   ]
  },
  {
   "cell_type": "code",
   "execution_count": 14,
   "metadata": {},
   "outputs": [
    {
     "data": {
      "text/plain": [
       "array([nan, 'LanguageSelectionMenu', 'MainMenu', 'SeniorsMenu',\n",
       "       'LegalMenu1', 'LegalMenu2', 'EmploymentMenu', 'ClosedQueueMenu',\n",
       "       'FamilyMenu', 'OtherLegalMenu', 'OtherLegalOtherMenu',\n",
       "       'SeniorsConfirmationMenu', 'SuburbsOrCityMenu', 'SeniorsADAPTMenu',\n",
       "       'HousingMenu', 'PreTenantMenu', 'TenantMenu',\n",
       "       'DivorceOrParentingMenu', 'ClinicVoicemailTransfer',\n",
       "       'DisconnectContact', 'SetCallerID', 'BenefitsMenu',\n",
       "       'FarmworkerMainMenu', 'FrontDeskTransfer1',\n",
       "       'HelpWithLegalorOtherReasonMenu', 'StaffDirectoryEnglishTransfer',\n",
       "       'AppointmentMenu', 'FrontDeskTransfer2',\n",
       "       'ComplimentOrComplaintMenu', 'OtherLegalCriminalCaseMenu',\n",
       "       'OtherLegalPersonalInjuryMenu', 'ClosedMenu', 'DisconnectContact1',\n",
       "       'GetLoggedInConsumerAgents', 'IntakePreQueueMessage1',\n",
       "       'ConsumerQueue', 'PreQueueMessage2', 'PlayMOH300s', 'QueueMenu1',\n",
       "       'ReadANI', 'CCB', 'PlayCCBConfirmation', 'CallbackRetry',\n",
       "       'AddressFaxHoursMenu', 'CriminalRecordsVoicemailTransfer',\n",
       "       'StaffDirectorySpanishTransfer', 'ImmigrationMenu', 'HIVMenu',\n",
       "       'SuburbanSeniorsMenu', 'GetLoggedInSubSeniorHomeownerSPAgents',\n",
       "       'SubSeniorPreQueueMessage1_1', 'SubSeniorHomeownerSPQueue',\n",
       "       'LegalServerScreenPop', 'SimpleDivorceMenu',\n",
       "       'GetLoggedInSubSeniorOtherAgents', 'SubSeniorOtherQueue',\n",
       "       'ScreenPopProcessComplete', 'SeniorNotCookCoMenu',\n",
       "       'ThankYouGoodbye', 'GetLoggedInSubSeniorHomeownerAgents',\n",
       "       'SubSeniorHomeownerQueue', 'FrontDeskTransfer',\n",
       "       'GetLoggedInFamilySPAgents', 'FamilySPQueue',\n",
       "       'TenantDeterrenceMenu', 'GetLoggedInSubSeniorTenantAgents',\n",
       "       'GetLoggedInSubSeniorConsumerAgents', 'SubSeniorConsumerQueue',\n",
       "       'CollectCallbackNumber', 'ConfirmCallbackNumber',\n",
       "       'GetLoggedInFamilyAgents', 'FamilyQueue', 'ImmigrationOtherMenu',\n",
       "       'GetLoggedInSubSeniorBenefitsSPAgents', 'HIVVoicemailTransfer',\n",
       "       'ChildSupportMenu', 'GetLoggedInBenefitsAgents', 'BenefitsQueue',\n",
       "       'TraffickingVoicemailTransfer', 'GetLoggedInADAPTAgents',\n",
       "       'ADAPTQueue', 'SubSeniorTenantQueue', 'DisconnectContact2',\n",
       "       'WorkersCompMenu', 'GetLoggedInSubSeniorEmploymentSPAgents',\n",
       "       'FrontDeskTransfer3', 'GetLoggedInSubSeniorBenefitsAgents',\n",
       "       'GetLoggedInBenefitsSubSeniorsAgents',\n",
       "       'SubSeniorPreQueueMessage1_2', 'BenefitsSubSeniorsQueue',\n",
       "       'GetLoggedInEmploymentAgents', 'EmploymentQueue',\n",
       "       'GetLoggedInSubSeniorFamilyAgents', 'SubSeniorFamilyQueue',\n",
       "       'GetLoggedInHousingAgents', 'HousingQueue',\n",
       "       'GetLoggedInBenefitsSPAgents', 'SubSeniorBenefitsQueue',\n",
       "       'DisconnectCallbackContact', 'VeteransBenefitsVoicemailTransfer',\n",
       "       'BenefitsSPQueue', 'GetLoggedInSubSeniorTenantSPAgents',\n",
       "       'SubSeniorTenantSPQueue', 'GetLoggedInImmigrationSPAgents',\n",
       "       'ImmigrationSPQueue', 'GetLoggedInSubSeniorADAPTAgents',\n",
       "       'SubSeniorADAPTQueue', 'GetLoggedInSubSeniorEmploymentAgents',\n",
       "       'SubSeniorEmploymentQueue', 'GetLoggedInSubSeniorOtherSPAgents',\n",
       "       'SubSeniorOtherSPQueue', 'GetLoggedInConsumerSPAgents',\n",
       "       'ConsumerSPQueue', 'GetLoggedInHousingSubSeniorsAgents',\n",
       "       'GetLoggedInConsumerSubSeniorsAgents', 'HolidayPrompt',\n",
       "       'GetLoggedInSubSeniorFamilySPAgents',\n",
       "       'GetLoggedInSubSeniorConsumerSPAgents',\n",
       "       'GetLoggedInEmploymentSPAgents',\n",
       "       'GetLoggedInFamilySubSeniorsAgents', 'EmploymentSPQueue',\n",
       "       'SubSeniorConsumerSPQueue', 'GetLoggedInSubSeniorADAPTSPAgents',\n",
       "       'GetLoggedInEducationAgents', 'EducationQueue',\n",
       "       'GetLoggedInImmigrationAgents', 'ImmigrationQueue',\n",
       "       'SubSeniorBenefitsSPQueue', 'GetLoggedInADAPTSPAgents',\n",
       "       'ADAPTSPQueue', 'GetLoggedInADAPTSubSeniorsAgents',\n",
       "       'ADAPTSubSeniorsQueue', 'GetLoggedInHousingSPAgents',\n",
       "       'HousingSPQueue', 'SubSeniorFamilySPQueue',\n",
       "       'MigrantVoicemailTransfer', 'SubSeniorEmploymentSPQueue',\n",
       "       'GetLoggedInOtherSubSeniorsAgents',\n",
       "       'GetLoggedInEmploymentSubSeniorsAgents',\n",
       "       'GetLoggedInHomeownerSubSeniorsAgents', 'HomeownerSubSeniorsQueue',\n",
       "       'FamilySubSeniorsQueue', 'GetLoggedInOtherSubSeniorsSPAgents',\n",
       "       'OtherSubSeniorsSPQueue', 'GetLoggedInBenefitsSubSeniorsSPAgents',\n",
       "       'BenefitsSubSeniorsSPQueue', 'ConsumerSubSeniorsQueue',\n",
       "       'EmploymentSubSeniorsQueue',\n",
       "       'GetLoggedInHousingSubSeniorsSPAgents', 'HousingSubSeniorsSPQueue',\n",
       "       'GetLoggedInFamilySubSeniorsSPAgents', 'FamilySubSeniorsSPQueue',\n",
       "       'OtherSubSeniorsQueue', 'GetLoggedInConsumerSubSeniorsSPAgents',\n",
       "       'HousingSubSeniorsQueue', 'GetLoggedInEducationSPAgents',\n",
       "       'EducationSPQueue', 'SubSeniorADAPTSPQueue',\n",
       "       'GetLoggedInADAPTSubSeniorsSPAgents', 'ADAPTSubSeniorsSPQueue',\n",
       "       'ConsumerSubSeniorsSPQueue', 'PlayErrorMessage',\n",
       "       'GetLoggedInEmploymentSubSeniorsSPAgents',\n",
       "       'EmploymentSubSeniorsSPQueue', 'TransferToSafeHaven'], dtype=object)"
      ]
     },
     "execution_count": 14,
     "metadata": {},
     "output_type": "execute_result"
    }
   ],
   "source": [
    "df_main[\"Activity Name\"].unique()"
   ]
  },
  {
   "cell_type": "code",
   "execution_count": 15,
   "metadata": {},
   "outputs": [
    {
     "data": {
      "text/plain": [
       "array([nan, 'LACMain', 'PreLegalMenuSeniorsMenu', 'LegalMenu',\n",
       "       'LegalEmploymentMenu', 'Queues', 'ClosedQueueMenu',\n",
       "       'LegalFamilyMenu', 'OtherLegalMenu', 'LegalHousingMenu',\n",
       "       'Intake_Outdial', 'LegalBenefitsMenu', 'FarmworkerMain',\n",
       "       'ClosedHoursHolidaysMenu', 'CourtesyCallback',\n",
       "       'LegalImmigrationMenu', 'LegalHIVMenu'], dtype=object)"
      ]
     },
     "execution_count": 15,
     "metadata": {},
     "output_type": "execute_result"
    }
   ],
   "source": [
    "df_main[\"Flow Name\"].unique()"
   ]
  },
  {
   "cell_type": "code",
   "execution_count": 16,
   "metadata": {},
   "outputs": [
    {
     "data": {
      "text/plain": [
       "array([nan, 'Clinic Voicemail Transfer', 'Intake Outdial Queue',\n",
       "       'Front Desk Transfer', 'Staff Directory English Transfer',\n",
       "       'Consumer', 'Criminal Records Voicemail Transfer',\n",
       "       'Staff Directory Spanish Transfer', 'SubSenior Homeowner SP',\n",
       "       'SubSenior Other', 'SubSenior Homeowner', 'Family SP',\n",
       "       'SubSenior Consumer', 'Family', 'HIV Voicemail Transfer',\n",
       "       'Benefits', 'Trafficking Voicemail Transfer', 'ADAPT',\n",
       "       'SubSenior Tenant', 'Benefits SubSeniors', 'Employment',\n",
       "       'SubSenior Family', 'Housing', 'SubSenior Benefits', 'Benefits SP',\n",
       "       'Veterans Benefits Voicemail Transfer', 'SubSenior Tenant SP',\n",
       "       'Immigration SP', 'SubSenior ADAPT', 'SubSenior Employment',\n",
       "       'SubSenior Other SP', 'Consumer SP', 'Employment SP',\n",
       "       'SubSenior Consumer SP', 'Education', 'Immigration',\n",
       "       'SubSenior Benefits SP', 'ADAPT SP', 'ADAPT SubSeniors',\n",
       "       'Housing SP', 'SubSenior Family SP',\n",
       "       'Farmworker Voicemail Transfer', 'SubSenior Employment SP',\n",
       "       'Homeowner SubSeniors', 'Family SubSeniors', 'Other SubSeniors SP',\n",
       "       'Benefits SubSeniors SP', 'Consumer SubSeniors',\n",
       "       'Employment SubSeniors', 'Housing SubSeniors SP',\n",
       "       'Family SubSeniors SP', 'Other SubSeniors', 'Housing SubSeniors',\n",
       "       'Education SP', 'SubSenior ADAPT SP', 'ADAPT SubSeniors SP',\n",
       "       'Consumer SubSeniors SP', 'Employment SubSeniors SP',\n",
       "       'Safe Haven Transfer'], dtype=object)"
      ]
     },
     "execution_count": 16,
     "metadata": {},
     "output_type": "execute_result"
    }
   ],
   "source": [
    "df_main[\"Queue Name\"].unique()"
   ]
  },
  {
   "cell_type": "markdown",
   "metadata": {},
   "source": [
    "For presentation 1, I spent a lot of time tyring to conceptualize what a call journey looks like, as the dataset can sometimes be ambiguous. For the next presentation, my goal is to develop a systematic way to trace a call journey despite some confusing journeys"
   ]
  },
  {
   "cell_type": "markdown",
   "metadata": {},
   "source": [
    "### Filtering Dataset"
   ]
  },
  {
   "cell_type": "code",
   "execution_count": 17,
   "metadata": {},
   "outputs": [],
   "source": [
    "start_date = \"2025-03-16\"\n",
    "end_date = \"2025-09-23\"\n",
    "df_short = df_main[(df_main['date'] >= start_date) & (df_main[\"date\"] <= end_date)]"
   ]
  },
  {
   "cell_type": "markdown",
   "metadata": {},
   "source": [
    "### Analyzing ClosedQueueMenu to see which Queue Client was Placed in"
   ]
  },
  {
   "cell_type": "code",
   "execution_count": 18,
   "metadata": {},
   "outputs": [
    {
     "name": "stdout",
     "output_type": "stream",
     "text": [
      "16575 16575\n"
     ]
    }
   ],
   "source": [
    "# dropped rows that had the same contact session ID assuming that the last row would be when the client is in the queue\n",
    "    # still raises question - why are there multiple rows with a ClosedQueueMenu? \n",
    "    # shouldn't the client only reach the closed queue menu once?\n",
    "closed_q = df_short[df_short[\"Activity Name\"] == \"ClosedQueueMenu\"]\n",
    "closed_q = closed_q.drop_duplicates(subset=[\"Contact Session ID\"], keep=\"last\")\n",
    "print((closed_q[\"Contact Session ID\"].nunique()), closed_q.shape[0])"
   ]
  },
  {
   "cell_type": "code",
   "execution_count": 19,
   "metadata": {},
   "outputs": [
    {
     "data": {
      "text/html": [
       "<div>\n",
       "<style scoped>\n",
       "    .dataframe tbody tr th:only-of-type {\n",
       "        vertical-align: middle;\n",
       "    }\n",
       "\n",
       "    .dataframe tbody tr th {\n",
       "        vertical-align: top;\n",
       "    }\n",
       "\n",
       "    .dataframe thead th {\n",
       "        text-align: right;\n",
       "    }\n",
       "</style>\n",
       "<table border=\"1\" class=\"dataframe\">\n",
       "  <thead>\n",
       "    <tr style=\"text-align: right;\">\n",
       "      <th></th>\n",
       "      <th>Contact Session ID</th>\n",
       "      <th>Flow Name</th>\n",
       "      <th>Activity Name</th>\n",
       "      <th>Activity Start Timestamp</th>\n",
       "      <th>Queue Name</th>\n",
       "      <th>Agent Name</th>\n",
       "      <th>Termination Reason</th>\n",
       "      <th>hour</th>\n",
       "      <th>date</th>\n",
       "    </tr>\n",
       "    <tr>\n",
       "      <th>EP Name</th>\n",
       "      <th></th>\n",
       "      <th></th>\n",
       "      <th></th>\n",
       "      <th></th>\n",
       "      <th></th>\n",
       "      <th></th>\n",
       "      <th></th>\n",
       "      <th></th>\n",
       "      <th></th>\n",
       "    </tr>\n",
       "  </thead>\n",
       "  <tbody>\n",
       "    <tr>\n",
       "      <th>Closed Queue Menu Telephony EP</th>\n",
       "      <td>16575</td>\n",
       "      <td>0</td>\n",
       "      <td>1</td>\n",
       "      <td>16533</td>\n",
       "      <td>0</td>\n",
       "      <td>0</td>\n",
       "      <td>0</td>\n",
       "      <td>12</td>\n",
       "      <td>126</td>\n",
       "    </tr>\n",
       "  </tbody>\n",
       "</table>\n",
       "</div>"
      ],
      "text/plain": [
       "                                Contact Session ID  Flow Name  Activity Name  \\\n",
       "EP Name                                                                        \n",
       "Closed Queue Menu Telephony EP               16575          0              1   \n",
       "\n",
       "                                Activity Start Timestamp  Queue Name  \\\n",
       "EP Name                                                                \n",
       "Closed Queue Menu Telephony EP                     16533           0   \n",
       "\n",
       "                                Agent Name  Termination Reason  hour  date  \n",
       "EP Name                                                                     \n",
       "Closed Queue Menu Telephony EP           0                   0    12   126  "
      ]
     },
     "execution_count": 19,
     "metadata": {},
     "output_type": "execute_result"
    }
   ],
   "source": [
    "num_calls_q = pd.DataFrame(closed_q.groupby([\"EP Name\"]).nunique())\n",
    "num_calls_q"
   ]
  },
  {
   "cell_type": "code",
   "execution_count": 21,
   "metadata": {},
   "outputs": [
    {
     "data": {
      "text/html": [
       "<div>\n",
       "<style scoped>\n",
       "    .dataframe tbody tr th:only-of-type {\n",
       "        vertical-align: middle;\n",
       "    }\n",
       "\n",
       "    .dataframe tbody tr th {\n",
       "        vertical-align: top;\n",
       "    }\n",
       "\n",
       "    .dataframe thead th {\n",
       "        text-align: right;\n",
       "    }\n",
       "</style>\n",
       "<table border=\"1\" class=\"dataframe\">\n",
       "  <thead>\n",
       "    <tr style=\"text-align: right;\">\n",
       "      <th></th>\n",
       "      <th>Contact Session ID</th>\n",
       "    </tr>\n",
       "    <tr>\n",
       "      <th>Queue Name</th>\n",
       "      <th></th>\n",
       "    </tr>\n",
       "  </thead>\n",
       "  <tbody>\n",
       "    <tr>\n",
       "      <th>ADAPT</th>\n",
       "      <td>21</td>\n",
       "    </tr>\n",
       "    <tr>\n",
       "      <th>ADAPT SP</th>\n",
       "      <td>2</td>\n",
       "    </tr>\n",
       "    <tr>\n",
       "      <th>ADAPT SubSeniors SP</th>\n",
       "      <td>1</td>\n",
       "    </tr>\n",
       "    <tr>\n",
       "      <th>Benefits</th>\n",
       "      <td>38</td>\n",
       "    </tr>\n",
       "    <tr>\n",
       "      <th>Benefits SP</th>\n",
       "      <td>5</td>\n",
       "    </tr>\n",
       "    <tr>\n",
       "      <th>Consumer</th>\n",
       "      <td>67</td>\n",
       "    </tr>\n",
       "    <tr>\n",
       "      <th>Consumer SP</th>\n",
       "      <td>6</td>\n",
       "    </tr>\n",
       "    <tr>\n",
       "      <th>Education</th>\n",
       "      <td>3</td>\n",
       "    </tr>\n",
       "    <tr>\n",
       "      <th>Education SP</th>\n",
       "      <td>1</td>\n",
       "    </tr>\n",
       "    <tr>\n",
       "      <th>Employment</th>\n",
       "      <td>25</td>\n",
       "    </tr>\n",
       "    <tr>\n",
       "      <th>Employment SP</th>\n",
       "      <td>6</td>\n",
       "    </tr>\n",
       "    <tr>\n",
       "      <th>Family</th>\n",
       "      <td>76</td>\n",
       "    </tr>\n",
       "    <tr>\n",
       "      <th>Family SP</th>\n",
       "      <td>19</td>\n",
       "    </tr>\n",
       "    <tr>\n",
       "      <th>Family SubSeniors</th>\n",
       "      <td>1</td>\n",
       "    </tr>\n",
       "    <tr>\n",
       "      <th>Family SubSeniors SP</th>\n",
       "      <td>2</td>\n",
       "    </tr>\n",
       "    <tr>\n",
       "      <th>Homeowner SubSeniors</th>\n",
       "      <td>1</td>\n",
       "    </tr>\n",
       "    <tr>\n",
       "      <th>Housing</th>\n",
       "      <td>31</td>\n",
       "    </tr>\n",
       "    <tr>\n",
       "      <th>Housing SP</th>\n",
       "      <td>1</td>\n",
       "    </tr>\n",
       "    <tr>\n",
       "      <th>Immigration</th>\n",
       "      <td>2</td>\n",
       "    </tr>\n",
       "    <tr>\n",
       "      <th>Immigration SP</th>\n",
       "      <td>9</td>\n",
       "    </tr>\n",
       "    <tr>\n",
       "      <th>Other SubSeniors</th>\n",
       "      <td>4</td>\n",
       "    </tr>\n",
       "    <tr>\n",
       "      <th>Other SubSeniors SP</th>\n",
       "      <td>1</td>\n",
       "    </tr>\n",
       "    <tr>\n",
       "      <th>SubSenior ADAPT SP</th>\n",
       "      <td>1</td>\n",
       "    </tr>\n",
       "    <tr>\n",
       "      <th>SubSenior Benefits</th>\n",
       "      <td>3</td>\n",
       "    </tr>\n",
       "    <tr>\n",
       "      <th>SubSenior Benefits SP</th>\n",
       "      <td>5</td>\n",
       "    </tr>\n",
       "    <tr>\n",
       "      <th>SubSenior Consumer SP</th>\n",
       "      <td>10</td>\n",
       "    </tr>\n",
       "    <tr>\n",
       "      <th>SubSenior Employment SP</th>\n",
       "      <td>4</td>\n",
       "    </tr>\n",
       "    <tr>\n",
       "      <th>SubSenior Family</th>\n",
       "      <td>1</td>\n",
       "    </tr>\n",
       "    <tr>\n",
       "      <th>SubSenior Family SP</th>\n",
       "      <td>3</td>\n",
       "    </tr>\n",
       "    <tr>\n",
       "      <th>SubSenior Homeowner</th>\n",
       "      <td>2</td>\n",
       "    </tr>\n",
       "    <tr>\n",
       "      <th>SubSenior Homeowner SP</th>\n",
       "      <td>3</td>\n",
       "    </tr>\n",
       "    <tr>\n",
       "      <th>SubSenior Other</th>\n",
       "      <td>4</td>\n",
       "    </tr>\n",
       "    <tr>\n",
       "      <th>SubSenior Other SP</th>\n",
       "      <td>11</td>\n",
       "    </tr>\n",
       "    <tr>\n",
       "      <th>SubSenior Tenant</th>\n",
       "      <td>3</td>\n",
       "    </tr>\n",
       "    <tr>\n",
       "      <th>SubSenior Tenant SP</th>\n",
       "      <td>4</td>\n",
       "    </tr>\n",
       "  </tbody>\n",
       "</table>\n",
       "</div>"
      ],
      "text/plain": [
       "                         Contact Session ID\n",
       "Queue Name                                 \n",
       "ADAPT                                    21\n",
       "ADAPT SP                                  2\n",
       "ADAPT SubSeniors SP                       1\n",
       "Benefits                                 38\n",
       "Benefits SP                               5\n",
       "Consumer                                 67\n",
       "Consumer SP                               6\n",
       "Education                                 3\n",
       "Education SP                              1\n",
       "Employment                               25\n",
       "Employment SP                             6\n",
       "Family                                   76\n",
       "Family SP                                19\n",
       "Family SubSeniors                         1\n",
       "Family SubSeniors SP                      2\n",
       "Homeowner SubSeniors                      1\n",
       "Housing                                  31\n",
       "Housing SP                                1\n",
       "Immigration                               2\n",
       "Immigration SP                            9\n",
       "Other SubSeniors                          4\n",
       "Other SubSeniors SP                       1\n",
       "SubSenior ADAPT SP                        1\n",
       "SubSenior Benefits                        3\n",
       "SubSenior Benefits SP                     5\n",
       "SubSenior Consumer SP                    10\n",
       "SubSenior Employment SP                   4\n",
       "SubSenior Family                          1\n",
       "SubSenior Family SP                       3\n",
       "SubSenior Homeowner                       2\n",
       "SubSenior Homeowner SP                    3\n",
       "SubSenior Other                           4\n",
       "SubSenior Other SP                       11\n",
       "SubSenior Tenant                          3\n",
       "SubSenior Tenant SP                       4"
      ]
     },
     "execution_count": 21,
     "metadata": {},
     "output_type": "execute_result"
    }
   ],
   "source": [
    "num_calls_q = pd.DataFrame(closed_q.groupby([\"Queue Name\"]).nunique())\n",
    "num_calls_q.iloc[:,:1]"
   ]
  },
  {
   "cell_type": "markdown",
   "metadata": {},
   "source": [
    "### Starting Analysis on Queue Timeout"
   ]
  },
  {
   "cell_type": "code",
   "execution_count": 20,
   "metadata": {},
   "outputs": [
    {
     "name": "stdout",
     "output_type": "stream",
     "text": [
      "376 376\n"
     ]
    }
   ],
   "source": [
    "closed_q = df_short[df_short[\"Termination Reason\"] == \"Queue Timeout\"]\n",
    "closed_q = closed_q.drop_duplicates(subset=[\"Contact Session ID\"], keep=\"last\")\n",
    "print((closed_q[\"Contact Session ID\"].nunique()), closed_q.shape[0])"
   ]
  },
  {
   "cell_type": "code",
   "execution_count": 22,
   "metadata": {},
   "outputs": [
    {
     "data": {
      "text/plain": [
       "Contact Session ID                    Queue Name        \n",
       "020ef1ea-04ef-4624-a75d-4ed838f052a1  Family                1\n",
       "05e61ab6-f8a1-42e3-a53c-79451252aff2  Family                1\n",
       "063dd11b-9e6d-47a9-bb34-6721ee340045  SubSenior Benefits    3\n",
       "070a2cf3-cb97-447d-9017-a710e5295cd1  ADAPT SP              2\n",
       "071b2c7b-12d7-4f3f-8e24-275cd2b63944  Consumer              3\n",
       "                                                           ..\n",
       "fcad6176-91fa-4607-9b17-6584bb2f901c  SubSenior Other SP    4\n",
       "fcbf5e71-4cab-4d58-926c-f4ffb0ff755c  Consumer              1\n",
       "fd898520-9264-4ec2-b206-d309e1f0b0d4  Consumer              1\n",
       "ffc8f728-d545-4637-ab2b-e5f44d5b55a4  Employment SP         1\n",
       "ffd82a4b-a4b5-41d6-bc29-f1612d1c307e  Benefits              4\n",
       "Length: 376, dtype: int64"
      ]
     },
     "execution_count": 22,
     "metadata": {},
     "output_type": "execute_result"
    }
   ],
   "source": [
    "queue_time = df_short[df_short[\"Termination Reason\"] == \"Queue Timeout\"]\n",
    "queue_time\n",
    "queue_time.groupby([\"Contact Session ID\",\"Queue Name\"]).size()\n"
   ]
  },
  {
   "cell_type": "markdown",
   "metadata": {},
   "source": [
    "This shows that there are some calls that have multiple rows that indicate they are in the same queue name. For example, the 3rd row in the grouped dataset shows that there were three rows that had \"SubSenior Benefits\" as the Queue Name. This raises questions for me - are these rows duplicates? If someone was solely waiting in a queue, why is that noted in multiple rows? "
   ]
  }
 ],
 "metadata": {
  "kernelspec": {
   "display_name": ".venv",
   "language": "python",
   "name": "python3"
  },
  "language_info": {
   "codemirror_mode": {
    "name": "ipython",
    "version": 3
   },
   "file_extension": ".py",
   "mimetype": "text/x-python",
   "name": "python",
   "nbconvert_exporter": "python",
   "pygments_lexer": "ipython3",
   "version": "3.11.1"
  }
 },
 "nbformat": 4,
 "nbformat_minor": 4
}
