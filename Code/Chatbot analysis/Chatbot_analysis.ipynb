{
 "cells": [
  {
   "cell_type": "markdown",
   "id": "e217ed66-eb4e-4ce2-b6fb-59373e2c7b2b",
   "metadata": {},
   "source": [
    "Locating CAR files"
   ]
  },
  {
   "cell_type": "code",
   "execution_count": 22,
   "id": "f58a9555-d0bc-483a-8fbb-4004a3ee4fc7",
   "metadata": {},
   "outputs": [],
   "source": [
    "from pathlib import Path\n",
    "import glob\n",
    "from collections import Counter\n",
    "\n",
    "DATA_DIR = Path(\"OneDrive_3_10-3-2025\").expanduser()\n",
    "\n",
    "#Grabing all CSVs that start with “CAR”\n",
    "files = []\n",
    "for pattern in (\"**/*.csv\", \"**/*.CSV\", \"**/*.xlsx\", \"**/*.XLSX\"):\n",
    "    files.extend(DATA_DIR.glob(pattern))\n",
    "\n",
    "#De-duplicate and sort\n",
    "files = sorted(set(p.resolve() for p in files))"
   ]
  },
  {
   "cell_type": "markdown",
   "id": "3bc5be91-9b37-43c1-9bdd-c5863f97c78a",
   "metadata": {},
   "source": [
    "Aggregating all dataframes"
   ]
  },
  {
   "cell_type": "code",
   "execution_count": 20,
   "id": "9f5e0d27-38ca-4e6b-b668-685534df2028",
   "metadata": {},
   "outputs": [],
   "source": [
    "#Aggregating all dataframes\n",
    "\n",
    "import warnings\n",
    "warnings.filterwarnings(\"ignore\", message=\"Workbook contains no default style\")\n",
    "import pandas as pd\n",
    "\n",
    "def load_car_file(path): #Loading the files here first to get header from row 3 or scan first 10 rows for the header by searching for Contact Session ID\n",
    "    ext = path.suffix.lower()\n",
    "    name = path.name\n",
    "\n",
    "    #Reading with no header so we can detect the header row reliably\n",
    "    if ext == \".csv\":\n",
    "        raw = pd.read_csv(path, header=None, dtype=str, keep_default_na=False, on_bad_lines=\"skip\")\n",
    "    elif ext == \".xlsx\":\n",
    "        raw = pd.read_excel(path, header=None, dtype=str, engine=\"openpyxl\")\n",
    "    else:\n",
    "        return None\n",
    "\n",
    "    #Finding the header row (looking for 'Contact Session ID' in first 10 rows)\n",
    "    header_row = None\n",
    "    for r in range(min(10, len(raw))):\n",
    "        row_vals = [str(v).strip() for v in raw.iloc[r].tolist()]\n",
    "        if any(v == \"Contact Session ID\" for v in row_vals):\n",
    "            header_row = r\n",
    "            break\n",
    "\n",
    "    #Some files have header at row index 1 so this would capture that\n",
    "    if header_row is None:\n",
    "        header_row = 1\n",
    "\n",
    "    #Reading again with proper header and skipping pre-header lines\n",
    "    if ext == \".csv\":\n",
    "        df = pd.read_csv(path, header=header_row, dtype=str, keep_default_na=False, on_bad_lines=\"skip\")\n",
    "    else:\n",
    "        df = pd.read_excel(path, header=header_row, dtype=str, engine=\"openpyxl\")\n",
    "\n",
    "    #Dropping any fully empty columns and adding source tag\n",
    "    df = df.loc[:, ~df.columns.astype(str).str.startswith(\"Unnamed\")]\n",
    "    df[\"SourceFile\"] = name\n",
    "    return df\n",
    "\n",
    "#Running function on CAR files\n",
    "frames = []\n",
    "bad = []\n",
    "\n",
    "for p in files:\n",
    "    df = load_car_file(p)\n",
    "    frames.append(df)\n",
    "\n",
    "all_calls = pd.concat(frames, ignore_index=True)"
   ]
  },
  {
   "cell_type": "markdown",
   "id": "30b3ecbb-5e60-400a-b995-db26daf89e69",
   "metadata": {},
   "source": [
    "Normalizing Columns and Parsing the Timestamp"
   ]
  },
  {
   "cell_type": "code",
   "execution_count": 28,
   "id": "6274f6bc-2124-45bc-8040-af66bea1481d",
   "metadata": {},
   "outputs": [
    {
     "name": "stderr",
     "output_type": "stream",
     "text": [
      "/var/folders/7t/nv16yg3d7bz1xdvjj3kht86w0000gn/T/ipykernel_58969/2216778028.py:5: UserWarning: The argument 'infer_datetime_format' is deprecated and will be removed in a future version. A strict version of it is now the default, see https://pandas.pydata.org/pdeps/0004-consistent-to-datetime-parsing.html. You can safely remove this argument.\n",
      "  all_calls[\"Activity Start Timestamp\"] = pd.to_datetime(\n"
     ]
    }
   ],
   "source": [
    "#Standardizing Column Names\n",
    "all_calls.columns = (all_calls.columns.astype(str).str.strip().str.replace(r\"\\s+\", \" \", regex=True))\n",
    "\n",
    "#Parsing timestamp column\n",
    "all_calls[\"Activity Start Timestamp\"] = pd.to_datetime(\n",
    "    all_calls[\"Activity Start Timestamp\"], errors=\"coerce\", infer_datetime_format=True\n",
    ")\n",
    "all_calls[\"Date\"] = all_calls[\"Activity Start Timestamp\"].dt.date"
   ]
  },
  {
   "cell_type": "markdown",
   "id": "4b52ec92-c0a8-4c8c-888e-fe7d4f6bee12",
   "metadata": {},
   "source": [
    "Filtering Data for Family Menu + Flagging Chatbot"
   ]
  },
  {
   "cell_type": "code",
   "execution_count": 31,
   "id": "d5ac53e7-cb8b-45db-bf10-dc57d7945ab3",
   "metadata": {},
   "outputs": [],
   "source": [
    "#Filtering to Family Menu EP only\n",
    "family = all_calls[all_calls[\"EP Name\"] == \"Legal Family Menu Telephony EP\"].copy()\n",
    "\n",
    "#Adding Chatbot Time Period Flag\n",
    "chatbot_start = pd.to_datetime(\"2025-08-11\").date()\n",
    "chatbot_end   = pd.to_datetime(\"2025-08-29\").date()\n",
    "family[\"ChatbotPeriod\"] = family[\"Date\"].between(chatbot_start, chatbot_end)\n",
    "\n",
    "#Adding chatbot transfer flag\n",
    "family[\"ChatbotTransfer\"] = family[\"Activity Name\"].eq(\"TransferToSafeHaven\")"
   ]
  },
  {
   "cell_type": "markdown",
   "id": "f5a2b3b2-e21a-4a0a-b4ee-a0ac32ae404e",
   "metadata": {},
   "source": [
    "Analysis 1: Termination Reason during Chatbot vs Not"
   ]
  },
  {
   "cell_type": "code",
   "execution_count": 43,
   "id": "f2d39583-afff-47c1-844e-f8b74ac13086",
   "metadata": {},
   "outputs": [
    {
     "data": {
      "text/html": [
       "<div>\n",
       "<style scoped>\n",
       "    .dataframe tbody tr th:only-of-type {\n",
       "        vertical-align: middle;\n",
       "    }\n",
       "\n",
       "    .dataframe tbody tr th {\n",
       "        vertical-align: top;\n",
       "    }\n",
       "\n",
       "    .dataframe thead th {\n",
       "        text-align: right;\n",
       "    }\n",
       "</style>\n",
       "<table border=\"1\" class=\"dataframe\">\n",
       "  <thead>\n",
       "    <tr style=\"text-align: right;\">\n",
       "      <th></th>\n",
       "      <th>ChatbotUsed</th>\n",
       "      <th>Termination Reason</th>\n",
       "      <th>Count</th>\n",
       "      <th>Percent</th>\n",
       "    </tr>\n",
       "  </thead>\n",
       "  <tbody>\n",
       "    <tr>\n",
       "      <th>0</th>\n",
       "      <td>False</td>\n",
       "      <td>Agent Left</td>\n",
       "      <td>18</td>\n",
       "      <td>0.213980</td>\n",
       "    </tr>\n",
       "    <tr>\n",
       "      <th>1</th>\n",
       "      <td>False</td>\n",
       "      <td>Customer Left</td>\n",
       "      <td>1095</td>\n",
       "      <td>13.017118</td>\n",
       "    </tr>\n",
       "    <tr>\n",
       "      <th>2</th>\n",
       "      <td>False</td>\n",
       "      <td>N/A</td>\n",
       "      <td>7299</td>\n",
       "      <td>86.768902</td>\n",
       "    </tr>\n",
       "    <tr>\n",
       "      <th>3</th>\n",
       "      <td>True</td>\n",
       "      <td>Agent Left</td>\n",
       "      <td>83</td>\n",
       "      <td>20.145631</td>\n",
       "    </tr>\n",
       "    <tr>\n",
       "      <th>4</th>\n",
       "      <td>True</td>\n",
       "      <td>Customer Left</td>\n",
       "      <td>328</td>\n",
       "      <td>79.611650</td>\n",
       "    </tr>\n",
       "    <tr>\n",
       "      <th>5</th>\n",
       "      <td>True</td>\n",
       "      <td>Participant Invite timer expired</td>\n",
       "      <td>1</td>\n",
       "      <td>0.242718</td>\n",
       "    </tr>\n",
       "  </tbody>\n",
       "</table>\n",
       "</div>"
      ],
      "text/plain": [
       "   ChatbotUsed                Termination Reason  Count    Percent\n",
       "0        False                        Agent Left     18   0.213980\n",
       "1        False                     Customer Left   1095  13.017118\n",
       "2        False                               N/A   7299  86.768902\n",
       "3         True                        Agent Left     83  20.145631\n",
       "4         True                     Customer Left    328  79.611650\n",
       "5         True  Participant Invite timer expired      1   0.242718"
      ]
     },
     "execution_count": 43,
     "metadata": {},
     "output_type": "execute_result"
    }
   ],
   "source": [
    "# derive call-level flags\n",
    "call_flags = (\n",
    "    family.groupby(\"Contact Session ID\")\n",
    "    .agg({\n",
    "        \"Date\": \"first\",\n",
    "        \"ChatbotPeriod\": \"max\",         # within chatbot window\n",
    "        \"ChatbotTransfer\": \"max\",       # ever transferred to SafeHaven\n",
    "        \"Termination Reason\": \"last\"    # last termination reason in the call\n",
    "    })\n",
    "    .reset_index()\n",
    "    .rename(columns={\"ChatbotTransfer\": \"ChatbotUsed\"})\n",
    ")\n",
    "\n",
    "# restrict to period where termination reason exists (after March)\n",
    "march_cut = pd.to_datetime(\"2025-03-01\").date()\n",
    "call_flags = call_flags[call_flags[\"Date\"] >= march_cut]\n",
    "\n",
    "termination_counts = (\n",
    "    call_flags.groupby([\"ChatbotUsed\", \"Termination Reason\"])\n",
    "    .size()\n",
    "    .reset_index(name=\"Count\")\n",
    ")\n",
    "\n",
    "termination_percent = (\n",
    "    termination_counts.groupby(\"ChatbotUsed\")\n",
    "    .apply(lambda g: g.assign(Percent = 100 * g[\"Count\"] / g[\"Count\"].sum()))\n",
    "    .reset_index(drop=True)\n",
    ")\n",
    "\n",
    "termination_percent"
   ]
  },
  {
   "cell_type": "markdown",
   "id": "441470d3-cbfd-4f2b-ac4f-0a97711044e7",
   "metadata": {},
   "source": [
    "Analysis 2: Duration of calls (with vs without chatbot)"
   ]
  },
  {
   "cell_type": "code",
   "execution_count": 47,
   "id": "572b04aa-55d8-4746-93b1-a8b0820e547c",
   "metadata": {},
   "outputs": [
    {
     "name": "stdout",
     "output_type": "stream",
     "text": [
      "Period\n",
      "After     33.01\n",
      "Before    32.13\n",
      "During    97.95\n",
      "Name: CallDurationSec, dtype: float64 In Seconds\n"
     ]
    }
   ],
   "source": [
    "#Computing duration of each call\n",
    "call_durations = (\n",
    "    family.groupby(\"Contact Session ID\")[\"Activity Start Timestamp\"]\n",
    "    .agg([\"min\", \"max\"])\n",
    "    .reset_index()\n",
    ")\n",
    "call_durations[\"CallDurationSec\"] = (call_durations[\"max\"] - call_durations[\"min\"]).dt.total_seconds()\n",
    "\n",
    "#Adding important info for each call\n",
    "call_flags = (\n",
    "    family.groupby(\"Contact Session ID\")\n",
    "    .agg({\n",
    "        \"Date\": \"first\",              \n",
    "        \"ChatbotPeriod\": \"max\",\n",
    "        \"ChatbotTransfer\": \"max\"\n",
    "    })\n",
    "    .reset_index()\n",
    ")\n",
    "\n",
    "#Merging with durations df\n",
    "call_summary = pd.merge(call_durations, call_flags, on=\"Contact Session ID\")\n",
    "call_summary.head()\n",
    "\n",
    "import numpy as np\n",
    "\n",
    "#Marking each period explicitly\n",
    "def label_period(date):\n",
    "    if date < chatbot_start:\n",
    "        return \"Before\"\n",
    "    elif chatbot_start <= date <= chatbot_end:\n",
    "        return \"During\"\n",
    "    else:\n",
    "        return \"After\"\n",
    "\n",
    "call_summary[\"Period\"] = call_summary[\"Date\"].apply(label_period)\n",
    "\n",
    "#Getting average duration\n",
    "duration_by_period = (\n",
    "    call_summary.groupby(\"Period\")[\"CallDurationSec\"]\n",
    "    .mean()\n",
    "    .round(2)\n",
    ")\n",
    "print(duration_by_period, \"In Seconds\")"
   ]
  },
  {
   "cell_type": "markdown",
   "id": "cd92f673-ccf5-4332-989d-a1fe950ea0a7",
   "metadata": {},
   "source": [
    "Visualizing Analysis Data"
   ]
  },
  {
   "cell_type": "code",
   "execution_count": 50,
   "id": "8c3e6fb1-88f7-457e-8606-90c10ad69d76",
   "metadata": {},
   "outputs": [
    {
     "data": {
      "image/png": "[encoded data removed]",
      "text/plain": [
       "<Figure size 800x500 with 1 Axes>"
      ]
     },
     "metadata": {},
     "output_type": "display_data"
    }
   ],
   "source": [
    "import matplotlib.pyplot as plt\n",
    "import seaborn as sns\n",
    "\n",
    "termination_percent[\"ChatbotUsed\"] = termination_percent[\"ChatbotUsed\"].astype(str)\n",
    "termination_percent[\"Termination Reason\"] = termination_percent[\"Termination Reason\"].astype(str)\n",
    "\n",
    "plt.figure(figsize=(8,5))\n",
    "sns.barplot(\n",
    "    data=termination_percent,\n",
    "    x=\"Termination Reason\", y=\"Percent\", hue=\"ChatbotUsed\", palette=\"coolwarm\"\n",
    ")\n",
    "plt.title(\"Termination Reasons: Chatbot Used vs Not Used\")\n",
    "plt.ylabel(\"Percentage of Calls (%)\")\n",
    "plt.xlabel(\"Termination Reason\")\n",
    "plt.legend(title=\"Chatbot Used (True = TransferToSafeHaven)\")\n",
    "plt.tight_layout()\n",
    "plt.show()\n"
   ]
  },
  {
   "cell_type": "code",
   "execution_count": 52,
   "id": "0b97cc6b-b1af-4f88-a336-d1596529dbad",
   "metadata": {},
   "outputs": [
    {
     "data": {
      "image/png": "[encoded data removed]",
      "text/plain": [
       "<Figure size 700x500 with 1 Axes>"
      ]
     },
     "metadata": {},
     "output_type": "display_data"
    }
   ],
   "source": [
    "plt.figure(figsize=(7,5))\n",
    "sns.barplot(\n",
    "    x=duration_by_period.index,\n",
    "    y=duration_by_period.values,\n",
    "    palette=\"Blues_d\"\n",
    ")\n",
    "plt.title(\"Average Call Duration by Period (minutes)\")\n",
    "plt.ylabel(\"Avg Duration (Seconds)\")\n",
    "plt.xlabel(\"Period\")\n",
    "plt.tight_layout()\n",
    "plt.show()"
   ]
  },
  {
   "cell_type": "code",
   "execution_count": null,
   "id": "08c92877-fb5e-444a-88fc-0b4af3c00bd6",
   "metadata": {},
   "outputs": [],
   "source": []
  }
 ],
 "metadata": {
  "kernelspec": {
   "display_name": "Python 3 (ipykernel)",
   "language": "python",
   "name": "python3"
  },
  "language_info": {
   "codemirror_mode": {
    "name": "ipython",
    "version": 3
   },
   "file_extension": ".py",
   "mimetype": "text/x-python",
   "name": "python",
   "nbconvert_exporter": "python",
   "pygments_lexer": "ipython3",
   "version": "3.11.8"
  }
 },
 "nbformat": 4,
 "nbformat_minor": 5
}
