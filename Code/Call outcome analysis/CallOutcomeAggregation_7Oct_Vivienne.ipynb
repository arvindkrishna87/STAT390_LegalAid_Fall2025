{
 "cells": [
  {
   "cell_type": "markdown",
   "metadata": {},
   "source": [
    "Author: Krish"
   ]
  },
  {
   "cell_type": "code",
   "execution_count": 2,
   "metadata": {},
   "outputs": [],
   "source": [
    "# Importing relevant libraries\n",
    "import pandas as pd\n",
    "import matplotlib.pyplot as plt\n",
    "import seaborn as sns\n",
    "from pathlib import Path\n",
    "from datetime import datetime\n",
    "\n",
    "import warnings\n",
    "warnings.filterwarnings(\"ignore\")"
   ]
  },
  {
   "cell_type": "markdown",
   "metadata": {},
   "source": [
    "### User input required\n",
    "Put the data path on your system in the cell below\n",
    "\n",
    "Note: Assumes data has been restricted only to datasets that included the 'Termination Reason' column "
   ]
  },
  {
   "cell_type": "code",
   "execution_count": 3,
   "metadata": {},
   "outputs": [],
   "source": [
    "data_path = \"/Users/viviadams/Downloads/CAR_Includes_Termination\""
   ]
  },
  {
   "cell_type": "markdown",
   "metadata": {},
   "source": [
    "### User input ends"
   ]
  },
  {
   "cell_type": "markdown",
   "metadata": {},
   "source": [
    "### Reading all filenames in the data folder"
   ]
  },
  {
   "cell_type": "code",
   "execution_count": 4,
   "metadata": {},
   "outputs": [
    {
     "data": {
      "text/html": [
       "<div>\n",
       "<style scoped>\n",
       "    .dataframe tbody tr th:only-of-type {\n",
       "        vertical-align: middle;\n",
       "    }\n",
       "\n",
       "    .dataframe tbody tr th {\n",
       "        vertical-align: top;\n",
       "    }\n",
       "\n",
       "    .dataframe thead th {\n",
       "        text-align: right;\n",
       "    }\n",
       "</style>\n",
       "<table border=\"1\" class=\"dataframe\">\n",
       "  <thead>\n",
       "    <tr style=\"text-align: right;\">\n",
       "      <th></th>\n",
       "      <th>Contact Session ID</th>\n",
       "      <th>EP Name</th>\n",
       "      <th>Flow Name</th>\n",
       "      <th>Activity Name</th>\n",
       "      <th>Activity Start Timestamp</th>\n",
       "      <th>Queue Name</th>\n",
       "      <th>Agent Name</th>\n",
       "      <th>Termination Reason</th>\n",
       "    </tr>\n",
       "  </thead>\n",
       "  <tbody>\n",
       "  </tbody>\n",
       "</table>\n",
       "</div>"
      ],
      "text/plain": [
       "Empty DataFrame\n",
       "Columns: [Contact Session ID, EP Name, Flow Name, Activity Name, Activity Start Timestamp, Queue Name, Agent Name, Termination Reason]\n",
       "Index: []"
      ]
     },
     "execution_count": 4,
     "metadata": {},
     "output_type": "execute_result"
    }
   ],
   "source": [
    "folder = Path(data_path)\n",
    "files = sorted(list(folder.glob(\"*.csv\")) + list(folder.glob(\"*.xlsx\")))\n",
    "df_main = pd.DataFrame(columns=['Contact Session ID', 'EP Name', 'Flow Name', 'Activity Name', 'Activity Start Timestamp', \n",
    "                                'Queue Name', 'Agent Name', 'Termination Reason'])\n",
    "df_main"
   ]
  },
  {
   "cell_type": "markdown",
   "metadata": {},
   "source": [
    "### Reading all data files\n",
    "The code chunk below reads and appends all the CAR data files. The first two rows of each file are blank and thus ignored."
   ]
  },
  {
   "cell_type": "code",
   "execution_count": 5,
   "metadata": {},
   "outputs": [
    {
     "name": "stdout",
     "output_type": "stream",
     "text": [
      "1 CAR - EP, Flow, Activity, Queue, &amp; Agent Names 3-16 to 3-22-25 (45326, 8)\n",
      "2 CAR - EP, Flow, Activity, Queue, &amp; Agent Names 3-30 to 4-5-25 (45072, 8)\n",
      "3 CAR - EP, Flow, Activity, Queue, &amp; Agent Names 4-13 to 4-19-25 (41088, 8)\n",
      "4 CAR - EP, Flow, Activity, Queue, &amp; Agent Names 4-20 to 4-26-25 (46686, 8)\n",
      "5 CAR - EP, Flow, Activity, Queue, &amp; Agent Names 4-27 to 5-3-25 (44169, 8)\n",
      "6 CAR - EP, Flow, Activity, Queue, &amp; Agent Names 4-6 to 4-12-25 (46630, 8)\n",
      "7 CAR - EP, Flow, Activity, Queue, &amp; Agent Names 5-11 to 5-17-25 (43268, 8)\n",
      "8 CAR - EP, Flow, Activity, Queue, &amp; Agent Names 5-18 to 5-24-25 (45104, 8)\n",
      "9 CAR - EP, Flow, Activity, Queue, &amp; Agent Names 5-25 to 5-31-25 (36851, 8)\n",
      "10 CAR - EP, Flow, Activity, Queue, &amp; Agent Names 5-4 to 5-10-25 (43955, 8)\n",
      "11 CAR - EP, Flow, Activity, Queue, &amp; Agent Names 6-1 to 6-7-25 (44523, 8)\n",
      "12 CAR - EP, Flow, Activity, Queue, &amp; Agent Names 6-15 to 6-21-25 (37234, 8)\n",
      "13 CAR - EP, Flow, Activity, Queue, &amp; Agent Names 6-22 to 6-28-25 (45394, 8)\n",
      "14 CAR - EP, Flow, Activity, Queue, &amp; Agent Names 6-29 to 7-5-25 (38300, 8)\n",
      "15 CAR - EP, Flow, Activity, Queue, &amp; Agent Names 6-8 to 6-14-25 (46728, 8)\n",
      "16 CAR - EP, Flow, Activity, Queue, &amp; Agent Names 7-13 to 7-19-25 (45706, 8)\n",
      "17 CAR - EP, Flow, Activity, Queue, &amp; Agent Names 7-20 to 7-26-25 (45328, 8)\n",
      "18 CAR - EP, Flow, Activity, Queue, &amp; Agent Names 7-28 ro 8-2-25 (46237, 8)\n",
      "19 CAR - EP, Flow, Activity, Queue, &amp; Agent Names 7-6 to 7-12-25 (48707, 8)\n",
      "20 CAR - EP, Flow, Activity, Queue, &amp; Agent Names 8-10 to 8-16-25 (44095, 8)\n",
      "21 CAR - EP, Flow, Activity, Queue, &amp; Agent Names 8-17 to 8-23-25 (47062, 8)\n",
      "22 CAR - EP, Flow, Activity, Queue, &amp; Agent Names 8-24 to 8-30-25 (45113, 8)\n",
      "23 CAR - EP, Flow, Activity, Queue, &amp; Agent Names 8-3 to 8-9-25 (44706, 8)\n",
      "24 CAR - EP, Flow, Activity, Queue, &amp; Agent Names 8-31 to 9-6-25 (36177, 8)\n",
      "25 CAR - EP, Flow, Activity, Queue, &amp; Agent Names 9-7 to 9-13-25 (45304, 8)\n",
      "26 CAR - EP, Flow, Activity, Queue, &amp; Agent Names3-23 to 3-29-25 (47978, 8)\n"
     ]
    }
   ],
   "source": [
    "i=0\n",
    "for f in files:\n",
    "    i = i + 1\n",
    "    if f.suffix.lower() == \".csv\":\n",
    "        df = pd.read_csv(f, header=2, dtype=str, engine=\"python\", skip_blank_lines=False)\n",
    "    else:  # .xlsx\n",
    "        df = pd.read_excel(f, sheet_name=0, header=2, dtype=str)\n",
    "    df_main = pd.concat([df_main, df], ignore_index=True)\n",
    "    print(i, f.stem, df.shape)"
   ]
  },
  {
   "cell_type": "markdown",
   "metadata": {},
   "source": [
    "### Time datatype conversion\n",
    "The code chunk below converts time from string to datetime datatype."
   ]
  },
  {
   "cell_type": "code",
   "execution_count": 6,
   "metadata": {},
   "outputs": [],
   "source": [
    "df_main[\"Activity Start Timestamp\"] = df_main[\"Activity Start Timestamp\"].apply(\n",
    "    lambda x: datetime.strptime(x, \"%Y/%m/%d %I:%M:%S %p\"))"
   ]
  },
  {
   "cell_type": "code",
   "execution_count": 7,
   "metadata": {},
   "outputs": [
    {
     "data": {
      "text/plain": [
       "Contact Session ID                  object\n",
       "EP Name                             object\n",
       "Flow Name                           object\n",
       "Activity Name                       object\n",
       "Activity Start Timestamp    datetime64[ns]\n",
       "Queue Name                          object\n",
       "Agent Name                          object\n",
       "Termination Reason                  object\n",
       "dtype: object"
      ]
     },
     "execution_count": 7,
     "metadata": {},
     "output_type": "execute_result"
    }
   ],
   "source": [
    "# Checking the datatype of all columns\n",
    "df_main.dtypes"
   ]
  },
  {
   "cell_type": "code",
   "execution_count": 8,
   "metadata": {},
   "outputs": [],
   "source": [
    "# Creating a new column 'hour' as it will be useful to visualize peak calling hours\n",
    "df_main[\"hour\"] = df_main[\"Activity Start Timestamp\"].dt.hour\n"
   ]
  },
  {
   "cell_type": "markdown",
   "metadata": {},
   "source": [
    "### Possible Flow Name Values"
   ]
  },
  {
   "cell_type": "code",
   "execution_count": 30,
   "metadata": {},
   "outputs": [
    {
     "data": {
      "text/plain": [
       "array([nan, 'LACMain', 'ClosedHoursHolidaysMenu', 'FarmworkerMain',\n",
       "       'PreLegalMenuSeniorsMenu', 'LegalMenu', 'LegalFamilyMenu',\n",
       "       'Queues', 'CourtesyCallback', 'LegalHousingMenu',\n",
       "       'LegalEmploymentMenu', 'LegalBenefitsMenu', 'OtherLegalMenu',\n",
       "       'LegalImmigrationMenu', 'Intake_Outdial', 'ClosedQueueMenu',\n",
       "       'LegalHIVMenu'], dtype=object)"
      ]
     },
     "execution_count": 30,
     "metadata": {},
     "output_type": "execute_result"
    }
   ],
   "source": [
    "df_main['Flow Name'].unique()"
   ]
  },
  {
   "cell_type": "markdown",
   "metadata": {},
   "source": [
    "### Possible Queue Name Values  "
   ]
  },
  {
   "cell_type": "code",
   "execution_count": 17,
   "metadata": {},
   "outputs": [
    {
     "data": {
      "text/plain": [
       "array([nan, 'Consumer SP', 'Staff Directory English Transfer',\n",
       "       'Family SP', 'Staff Directory Spanish Transfer', 'Family',\n",
       "       'Consumer', 'Employment', 'Benefits', 'Clinic Voicemail Transfer',\n",
       "       'Immigration SP', 'Intake Outdial Queue', 'Front Desk Transfer',\n",
       "       'SubSenior Benefits', 'SubSenior Tenant', 'SubSenior Homeowner',\n",
       "       'HIV Voicemail Transfer', 'SubSenior Other',\n",
       "       'Trafficking Voicemail Transfer', 'SubSenior Family',\n",
       "       'Veterans Benefits Voicemail Transfer',\n",
       "       'Criminal Records Voicemail Transfer', 'Housing',\n",
       "       'SubSenior Consumer', 'Housing SubSeniors', 'ADAPT', 'Benefits SP',\n",
       "       'SubSenior ADAPT', 'ADAPT SubSeniors', 'Other SubSeniors',\n",
       "       'Education SP', 'SubSenior Employment', 'SubSenior Benefits SP',\n",
       "       'Education', 'Farmworker Voicemail Transfer',\n",
       "       'SubSenior Consumer SP', 'ADAPT SP', 'Immigration',\n",
       "       'SubSenior Other SP', 'SubSenior Family SP', 'Employment SP',\n",
       "       'Homeowner SubSeniors', 'Consumer SubSeniors SP',\n",
       "       'Benefits SubSeniors', 'Family SubSeniors',\n",
       "       'Employment SubSeniors', 'Other SubSeniors SP',\n",
       "       'Consumer SubSeniors', 'SubSenior Homeowner SP',\n",
       "       'Benefits SubSeniors SP', 'Housing SP', 'SubSenior Tenant SP',\n",
       "       'Family SubSeniors SP', 'SubSenior ADAPT SP',\n",
       "       'SubSenior Employment SP', 'Employment SubSeniors SP',\n",
       "       'Safe Haven Transfer', 'Housing SubSeniors SP',\n",
       "       'ADAPT SubSeniors SP'], dtype=object)"
      ]
     },
     "execution_count": 17,
     "metadata": {},
     "output_type": "execute_result"
    }
   ],
   "source": [
    "df_main['Queue Name'].unique()"
   ]
  },
  {
   "cell_type": "markdown",
   "metadata": {},
   "source": [
    "### Possible EP Name Values "
   ]
  },
  {
   "cell_type": "code",
   "execution_count": 18,
   "metadata": {},
   "outputs": [
    {
     "data": {
      "text/plain": [
       "array(['Main Number Telephony EP', nan, 'Courtesy Callback Telephony EP',\n",
       "       'Closed Hours-Holidays Menu Telephony EP',\n",
       "       'Farmworker Main Number Telephony EP',\n",
       "       'Pre-Legal Menu Seniors Menu Telephony EP',\n",
       "       'Legal Menu Telephony EP', 'Legal Family Menu Telephony EP',\n",
       "       'All LAC Queues Telephony EP', 'Legal Housing Menu Telephony EP',\n",
       "       'Legal Employment Menu Telephony EP',\n",
       "       'Legal Benefits Menu Telephony EP',\n",
       "       'Other Legal Menu Telephony EP',\n",
       "       'Legal Immigration Menu Telephony EP', 'Intake Outdial EP',\n",
       "       'Closed Queue Menu Telephony EP', 'Legal HIV Menu Telephony EP'],\n",
       "      dtype=object)"
      ]
     },
     "execution_count": 18,
     "metadata": {},
     "output_type": "execute_result"
    }
   ],
   "source": [
    "df_main['EP Name'].unique()"
   ]
  },
  {
   "cell_type": "markdown",
   "metadata": {},
   "source": [
    "### Filling in Missing Values in Columns of Interest "
   ]
  },
  {
   "cell_type": "code",
   "execution_count": 53,
   "metadata": {},
   "outputs": [],
   "source": [
    "df_main['Queue Name'] = df_main['Queue Name'].fillna('Unknown Queue')\n",
    "\n",
    "df_main['EP Name'] = df_main['EP Name'].fillna('Unknown EP')\n",
    "\n",
    "df_main['Termination Reason'] = df_main['Termination Reason'].fillna('Unknown Termination Reason')"
   ]
  },
  {
   "cell_type": "markdown",
   "metadata": {},
   "source": [
    "### Total Unique Calls for Each Queue & EP Combination "
   ]
  },
  {
   "cell_type": "code",
   "execution_count": 60,
   "metadata": {},
   "outputs": [
    {
     "data": {
      "text/html": [
       "<div>\n",
       "<style scoped>\n",
       "    .dataframe tbody tr th:only-of-type {\n",
       "        vertical-align: middle;\n",
       "    }\n",
       "\n",
       "    .dataframe tbody tr th {\n",
       "        vertical-align: top;\n",
       "    }\n",
       "\n",
       "    .dataframe thead th {\n",
       "        text-align: right;\n",
       "    }\n",
       "</style>\n",
       "<table border=\"1\" class=\"dataframe\">\n",
       "  <thead>\n",
       "    <tr style=\"text-align: right;\">\n",
       "      <th></th>\n",
       "      <th>EP Name</th>\n",
       "      <th>Queue Name</th>\n",
       "      <th>Total Calls</th>\n",
       "    </tr>\n",
       "  </thead>\n",
       "  <tbody>\n",
       "    <tr>\n",
       "      <th>0</th>\n",
       "      <td>All LAC Queues Telephony EP</td>\n",
       "      <td>ADAPT</td>\n",
       "      <td>154</td>\n",
       "    </tr>\n",
       "    <tr>\n",
       "      <th>1</th>\n",
       "      <td>All LAC Queues Telephony EP</td>\n",
       "      <td>ADAPT SP</td>\n",
       "      <td>16</td>\n",
       "    </tr>\n",
       "    <tr>\n",
       "      <th>2</th>\n",
       "      <td>All LAC Queues Telephony EP</td>\n",
       "      <td>ADAPT SubSeniors</td>\n",
       "      <td>7</td>\n",
       "    </tr>\n",
       "    <tr>\n",
       "      <th>3</th>\n",
       "      <td>All LAC Queues Telephony EP</td>\n",
       "      <td>ADAPT SubSeniors SP</td>\n",
       "      <td>1</td>\n",
       "    </tr>\n",
       "    <tr>\n",
       "      <th>4</th>\n",
       "      <td>All LAC Queues Telephony EP</td>\n",
       "      <td>Benefits</td>\n",
       "      <td>314</td>\n",
       "    </tr>\n",
       "    <tr>\n",
       "      <th>5</th>\n",
       "      <td>All LAC Queues Telephony EP</td>\n",
       "      <td>Benefits SP</td>\n",
       "      <td>32</td>\n",
       "    </tr>\n",
       "    <tr>\n",
       "      <th>6</th>\n",
       "      <td>All LAC Queues Telephony EP</td>\n",
       "      <td>Benefits SubSeniors</td>\n",
       "      <td>7</td>\n",
       "    </tr>\n",
       "    <tr>\n",
       "      <th>7</th>\n",
       "      <td>All LAC Queues Telephony EP</td>\n",
       "      <td>Benefits SubSeniors SP</td>\n",
       "      <td>4</td>\n",
       "    </tr>\n",
       "    <tr>\n",
       "      <th>8</th>\n",
       "      <td>All LAC Queues Telephony EP</td>\n",
       "      <td>Consumer</td>\n",
       "      <td>701</td>\n",
       "    </tr>\n",
       "    <tr>\n",
       "      <th>9</th>\n",
       "      <td>All LAC Queues Telephony EP</td>\n",
       "      <td>Consumer SP</td>\n",
       "      <td>50</td>\n",
       "    </tr>\n",
       "    <tr>\n",
       "      <th>10</th>\n",
       "      <td>All LAC Queues Telephony EP</td>\n",
       "      <td>Consumer SubSeniors</td>\n",
       "      <td>12</td>\n",
       "    </tr>\n",
       "    <tr>\n",
       "      <th>11</th>\n",
       "      <td>All LAC Queues Telephony EP</td>\n",
       "      <td>Consumer SubSeniors SP</td>\n",
       "      <td>1</td>\n",
       "    </tr>\n",
       "    <tr>\n",
       "      <th>12</th>\n",
       "      <td>All LAC Queues Telephony EP</td>\n",
       "      <td>Education</td>\n",
       "      <td>28</td>\n",
       "    </tr>\n",
       "    <tr>\n",
       "      <th>13</th>\n",
       "      <td>All LAC Queues Telephony EP</td>\n",
       "      <td>Education SP</td>\n",
       "      <td>5</td>\n",
       "    </tr>\n",
       "    <tr>\n",
       "      <th>14</th>\n",
       "      <td>All LAC Queues Telephony EP</td>\n",
       "      <td>Employment</td>\n",
       "      <td>238</td>\n",
       "    </tr>\n",
       "  </tbody>\n",
       "</table>\n",
       "</div>"
      ],
      "text/plain": [
       "                        EP Name              Queue Name  Total Calls\n",
       "0   All LAC Queues Telephony EP                   ADAPT          154\n",
       "1   All LAC Queues Telephony EP                ADAPT SP           16\n",
       "2   All LAC Queues Telephony EP        ADAPT SubSeniors            7\n",
       "3   All LAC Queues Telephony EP     ADAPT SubSeniors SP            1\n",
       "4   All LAC Queues Telephony EP                Benefits          314\n",
       "5   All LAC Queues Telephony EP             Benefits SP           32\n",
       "6   All LAC Queues Telephony EP     Benefits SubSeniors            7\n",
       "7   All LAC Queues Telephony EP  Benefits SubSeniors SP            4\n",
       "8   All LAC Queues Telephony EP                Consumer          701\n",
       "9   All LAC Queues Telephony EP             Consumer SP           50\n",
       "10  All LAC Queues Telephony EP     Consumer SubSeniors           12\n",
       "11  All LAC Queues Telephony EP  Consumer SubSeniors SP            1\n",
       "12  All LAC Queues Telephony EP               Education           28\n",
       "13  All LAC Queues Telephony EP            Education SP            5\n",
       "14  All LAC Queues Telephony EP              Employment          238"
      ]
     },
     "execution_count": 60,
     "metadata": {},
     "output_type": "execute_result"
    }
   ],
   "source": [
    "# Grouping by 'EP Name' and 'Queue Name' - only including unique Contact Session IDs \n",
    "calls_by_queue = pd.DataFrame(df_main.groupby(['EP Name','Queue Name'])['Contact Session ID'].nunique().reset_index(name='Total Calls'))\n",
    "\n",
    "calls_by_queue.head(15)"
   ]
  },
  {
   "cell_type": "markdown",
   "metadata": {},
   "source": [
    "### Abandoned Calls for Each EP & Queue "
   ]
  },
  {
   "cell_type": "code",
   "execution_count": 47,
   "metadata": {},
   "outputs": [
    {
     "data": {
      "text/html": [
       "<div>\n",
       "<style scoped>\n",
       "    .dataframe tbody tr th:only-of-type {\n",
       "        vertical-align: middle;\n",
       "    }\n",
       "\n",
       "    .dataframe tbody tr th {\n",
       "        vertical-align: top;\n",
       "    }\n",
       "\n",
       "    .dataframe thead th {\n",
       "        text-align: right;\n",
       "    }\n",
       "</style>\n",
       "<table border=\"1\" class=\"dataframe\">\n",
       "  <thead>\n",
       "    <tr style=\"text-align: right;\">\n",
       "      <th></th>\n",
       "      <th>EP Name</th>\n",
       "      <th>Queue Name</th>\n",
       "      <th>Num Calls</th>\n",
       "    </tr>\n",
       "  </thead>\n",
       "  <tbody>\n",
       "    <tr>\n",
       "      <th>0</th>\n",
       "      <td>All LAC Queues Telephony EP</td>\n",
       "      <td>ADAPT</td>\n",
       "      <td>20</td>\n",
       "    </tr>\n",
       "    <tr>\n",
       "      <th>1</th>\n",
       "      <td>All LAC Queues Telephony EP</td>\n",
       "      <td>ADAPT SP</td>\n",
       "      <td>5</td>\n",
       "    </tr>\n",
       "    <tr>\n",
       "      <th>2</th>\n",
       "      <td>All LAC Queues Telephony EP</td>\n",
       "      <td>ADAPT SubSeniors</td>\n",
       "      <td>2</td>\n",
       "    </tr>\n",
       "    <tr>\n",
       "      <th>3</th>\n",
       "      <td>All LAC Queues Telephony EP</td>\n",
       "      <td>Benefits</td>\n",
       "      <td>36</td>\n",
       "    </tr>\n",
       "    <tr>\n",
       "      <th>4</th>\n",
       "      <td>All LAC Queues Telephony EP</td>\n",
       "      <td>Benefits SP</td>\n",
       "      <td>2</td>\n",
       "    </tr>\n",
       "    <tr>\n",
       "      <th>5</th>\n",
       "      <td>All LAC Queues Telephony EP</td>\n",
       "      <td>Benefits SubSeniors</td>\n",
       "      <td>2</td>\n",
       "    </tr>\n",
       "    <tr>\n",
       "      <th>6</th>\n",
       "      <td>All LAC Queues Telephony EP</td>\n",
       "      <td>Consumer</td>\n",
       "      <td>72</td>\n",
       "    </tr>\n",
       "    <tr>\n",
       "      <th>7</th>\n",
       "      <td>All LAC Queues Telephony EP</td>\n",
       "      <td>Consumer SP</td>\n",
       "      <td>5</td>\n",
       "    </tr>\n",
       "    <tr>\n",
       "      <th>8</th>\n",
       "      <td>All LAC Queues Telephony EP</td>\n",
       "      <td>Consumer SubSeniors</td>\n",
       "      <td>2</td>\n",
       "    </tr>\n",
       "    <tr>\n",
       "      <th>9</th>\n",
       "      <td>All LAC Queues Telephony EP</td>\n",
       "      <td>Education</td>\n",
       "      <td>3</td>\n",
       "    </tr>\n",
       "    <tr>\n",
       "      <th>10</th>\n",
       "      <td>All LAC Queues Telephony EP</td>\n",
       "      <td>Employment</td>\n",
       "      <td>16</td>\n",
       "    </tr>\n",
       "    <tr>\n",
       "      <th>11</th>\n",
       "      <td>All LAC Queues Telephony EP</td>\n",
       "      <td>Employment SP</td>\n",
       "      <td>6</td>\n",
       "    </tr>\n",
       "    <tr>\n",
       "      <th>12</th>\n",
       "      <td>All LAC Queues Telephony EP</td>\n",
       "      <td>Employment SubSeniors</td>\n",
       "      <td>1</td>\n",
       "    </tr>\n",
       "    <tr>\n",
       "      <th>13</th>\n",
       "      <td>All LAC Queues Telephony EP</td>\n",
       "      <td>Family</td>\n",
       "      <td>116</td>\n",
       "    </tr>\n",
       "    <tr>\n",
       "      <th>14</th>\n",
       "      <td>All LAC Queues Telephony EP</td>\n",
       "      <td>Family SP</td>\n",
       "      <td>21</td>\n",
       "    </tr>\n",
       "  </tbody>\n",
       "</table>\n",
       "</div>"
      ],
      "text/plain": [
       "                        EP Name             Queue Name  Num Calls\n",
       "0   All LAC Queues Telephony EP                  ADAPT         20\n",
       "1   All LAC Queues Telephony EP               ADAPT SP          5\n",
       "2   All LAC Queues Telephony EP       ADAPT SubSeniors          2\n",
       "3   All LAC Queues Telephony EP               Benefits         36\n",
       "4   All LAC Queues Telephony EP            Benefits SP          2\n",
       "5   All LAC Queues Telephony EP    Benefits SubSeniors          2\n",
       "6   All LAC Queues Telephony EP               Consumer         72\n",
       "7   All LAC Queues Telephony EP            Consumer SP          5\n",
       "8   All LAC Queues Telephony EP    Consumer SubSeniors          2\n",
       "9   All LAC Queues Telephony EP              Education          3\n",
       "10  All LAC Queues Telephony EP             Employment         16\n",
       "11  All LAC Queues Telephony EP          Employment SP          6\n",
       "12  All LAC Queues Telephony EP  Employment SubSeniors          1\n",
       "13  All LAC Queues Telephony EP                 Family        116\n",
       "14  All LAC Queues Telephony EP              Family SP         21"
      ]
     },
     "execution_count": 47,
     "metadata": {},
     "output_type": "execute_result"
    }
   ],
   "source": [
    " # Removing duplicate entries so only include the final entry for each Contact Session ID \n",
    "last_instance = pd.DataFrame(df_main.drop_duplicates(subset=['Contact Session ID'], keep='last'))\n",
    "\n",
    "    # Filtering to only include calls where it ended because the customer left \n",
    "abandoned_calls = last_instance[last_instance['Termination Reason'] == 'Customer Left']\n",
    "\n",
    "    # Grouping by 'EP Name' and 'Queue Name' \n",
    "aban_calls_df = pd.DataFrame(abandoned_calls.groupby(['EP Name', 'Queue Name'])['Contact Session ID'].nunique().reset_index(name='Num Calls')) \n",
    "\n",
    "aban_calls_df.head(15)"
   ]
  },
  {
   "cell_type": "markdown",
   "metadata": {},
   "source": [
    "### Total Open Queue Calls for Each Queue "
   ]
  },
  {
   "cell_type": "code",
   "execution_count": 52,
   "metadata": {},
   "outputs": [
    {
     "name": "stdout",
     "output_type": "stream",
     "text": [
      "33597\n",
      "(110354, 9)\n",
      "33597\n",
      "(33597, 9)\n"
     ]
    },
    {
     "data": {
      "text/html": [
       "<div>\n",
       "<style scoped>\n",
       "    .dataframe tbody tr th:only-of-type {\n",
       "        vertical-align: middle;\n",
       "    }\n",
       "\n",
       "    .dataframe tbody tr th {\n",
       "        vertical-align: top;\n",
       "    }\n",
       "\n",
       "    .dataframe thead th {\n",
       "        text-align: right;\n",
       "    }\n",
       "</style>\n",
       "<table border=\"1\" class=\"dataframe\">\n",
       "  <thead>\n",
       "    <tr style=\"text-align: right;\">\n",
       "      <th></th>\n",
       "      <th>EP Name</th>\n",
       "      <th>Queue Name</th>\n",
       "      <th>Num Calls</th>\n",
       "    </tr>\n",
       "  </thead>\n",
       "  <tbody>\n",
       "    <tr>\n",
       "      <th>0</th>\n",
       "      <td>All LAC Queues Telephony EP</td>\n",
       "      <td>ADAPT</td>\n",
       "      <td>22</td>\n",
       "    </tr>\n",
       "    <tr>\n",
       "      <th>1</th>\n",
       "      <td>All LAC Queues Telephony EP</td>\n",
       "      <td>ADAPT SP</td>\n",
       "      <td>5</td>\n",
       "    </tr>\n",
       "    <tr>\n",
       "      <th>2</th>\n",
       "      <td>All LAC Queues Telephony EP</td>\n",
       "      <td>ADAPT SubSeniors</td>\n",
       "      <td>2</td>\n",
       "    </tr>\n",
       "    <tr>\n",
       "      <th>3</th>\n",
       "      <td>All LAC Queues Telephony EP</td>\n",
       "      <td>Benefits</td>\n",
       "      <td>37</td>\n",
       "    </tr>\n",
       "    <tr>\n",
       "      <th>4</th>\n",
       "      <td>All LAC Queues Telephony EP</td>\n",
       "      <td>Benefits SP</td>\n",
       "      <td>2</td>\n",
       "    </tr>\n",
       "    <tr>\n",
       "      <th>5</th>\n",
       "      <td>All LAC Queues Telephony EP</td>\n",
       "      <td>Benefits SubSeniors</td>\n",
       "      <td>2</td>\n",
       "    </tr>\n",
       "    <tr>\n",
       "      <th>6</th>\n",
       "      <td>All LAC Queues Telephony EP</td>\n",
       "      <td>Consumer</td>\n",
       "      <td>74</td>\n",
       "    </tr>\n",
       "    <tr>\n",
       "      <th>7</th>\n",
       "      <td>All LAC Queues Telephony EP</td>\n",
       "      <td>Consumer SP</td>\n",
       "      <td>5</td>\n",
       "    </tr>\n",
       "    <tr>\n",
       "      <th>8</th>\n",
       "      <td>All LAC Queues Telephony EP</td>\n",
       "      <td>Consumer SubSeniors</td>\n",
       "      <td>2</td>\n",
       "    </tr>\n",
       "    <tr>\n",
       "      <th>9</th>\n",
       "      <td>All LAC Queues Telephony EP</td>\n",
       "      <td>Education</td>\n",
       "      <td>3</td>\n",
       "    </tr>\n",
       "    <tr>\n",
       "      <th>10</th>\n",
       "      <td>All LAC Queues Telephony EP</td>\n",
       "      <td>Employment</td>\n",
       "      <td>20</td>\n",
       "    </tr>\n",
       "    <tr>\n",
       "      <th>11</th>\n",
       "      <td>All LAC Queues Telephony EP</td>\n",
       "      <td>Employment SP</td>\n",
       "      <td>6</td>\n",
       "    </tr>\n",
       "    <tr>\n",
       "      <th>12</th>\n",
       "      <td>All LAC Queues Telephony EP</td>\n",
       "      <td>Employment SubSeniors</td>\n",
       "      <td>1</td>\n",
       "    </tr>\n",
       "    <tr>\n",
       "      <th>13</th>\n",
       "      <td>All LAC Queues Telephony EP</td>\n",
       "      <td>Family</td>\n",
       "      <td>119</td>\n",
       "    </tr>\n",
       "    <tr>\n",
       "      <th>14</th>\n",
       "      <td>All LAC Queues Telephony EP</td>\n",
       "      <td>Family SP</td>\n",
       "      <td>21</td>\n",
       "    </tr>\n",
       "  </tbody>\n",
       "</table>\n",
       "</div>"
      ],
      "text/plain": [
       "                        EP Name             Queue Name  Num Calls\n",
       "0   All LAC Queues Telephony EP                  ADAPT         22\n",
       "1   All LAC Queues Telephony EP               ADAPT SP          5\n",
       "2   All LAC Queues Telephony EP       ADAPT SubSeniors          2\n",
       "3   All LAC Queues Telephony EP               Benefits         37\n",
       "4   All LAC Queues Telephony EP            Benefits SP          2\n",
       "5   All LAC Queues Telephony EP    Benefits SubSeniors          2\n",
       "6   All LAC Queues Telephony EP               Consumer         74\n",
       "7   All LAC Queues Telephony EP            Consumer SP          5\n",
       "8   All LAC Queues Telephony EP    Consumer SubSeniors          2\n",
       "9   All LAC Queues Telephony EP              Education          3\n",
       "10  All LAC Queues Telephony EP             Employment         20\n",
       "11  All LAC Queues Telephony EP          Employment SP          6\n",
       "12  All LAC Queues Telephony EP  Employment SubSeniors          1\n",
       "13  All LAC Queues Telephony EP                 Family        119\n",
       "14  All LAC Queues Telephony EP              Family SP         21"
      ]
     },
     "execution_count": 52,
     "metadata": {},
     "output_type": "execute_result"
    }
   ],
   "source": [
    "# Filtering the dataframe to only include rows with a Queue Name and without a termination reason \n",
    "open_queue_calls = df_main[~df_main['Queue Name'].isna() & df_main['Termination Reason'].isna()]\n",
    "\n",
    "\n",
    "# The unique number of Contact Session IDs is less than the number of entries with a Queue Name \n",
    "print(open_queue_calls['Contact Session ID'].nunique())\n",
    "print(open_queue_calls.shape)\n",
    "\n",
    " # Removing duplicate entries so only include the final entry for each Contact Session ID \n",
    "uniq_open_queue_call = pd.DataFrame(open_queue_calls.drop_duplicates(subset=['Contact Session ID'], keep='last'))\n",
    "\n",
    "# Checking that the number of Contact Session IDs and number of entries match \n",
    "print(uniq_open_queue_call['Contact Session ID'].nunique())\n",
    "print(uniq_open_queue_call.shape)\n",
    "\n",
    "\n",
    "grouped_uniq_open_queue = pd.DataFrame(uniq_open_queue_call.groupby(['EP Name','Queue Name'])['Contact Session ID'].nunique().reset_index(name='Num Calls'))\n",
    "\n",
    "grouped_uniq_open_queue.head(15)\n"
   ]
  },
  {
   "cell_type": "markdown",
   "metadata": {},
   "source": []
  }
 ],
 "metadata": {
  "kernelspec": {
   "display_name": "Python 3",
   "language": "python",
   "name": "python3"
  },
  "language_info": {
   "codemirror_mode": {
    "name": "ipython",
    "version": 3
   },
   "file_extension": ".py",
   "mimetype": "text/x-python",
   "name": "python",
   "nbconvert_exporter": "python",
   "pygments_lexer": "ipython3",
   "version": "3.9.6"
  }
 },
 "nbformat": 4,
 "nbformat_minor": 4
}
